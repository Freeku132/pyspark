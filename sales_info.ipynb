{
 "cells": [
  {
   "cell_type": "code",
   "execution_count": 2,
   "outputs": [],
   "source": [
    "from pyspark.sql import SparkSession"
   ],
   "metadata": {
    "collapsed": false,
    "ExecuteTime": {
     "end_time": "2023-12-13T18:59:30.799312600Z",
     "start_time": "2023-12-13T18:59:30.506440Z"
    }
   },
   "id": "91a80600185448d3"
  },
  {
   "cell_type": "code",
   "execution_count": 3,
   "outputs": [
    {
     "name": "stderr",
     "output_type": "stream",
     "text": [
      "23/12/13 19:59:35 WARN Utils: Your hostname, DESKTOP-0HJMRJF resolves to a loopback address: 127.0.1.1; using 172.19.51.88 instead (on interface eth0)\n",
      "23/12/13 19:59:35 WARN Utils: Set SPARK_LOCAL_IP if you need to bind to another address\n",
      "Setting default log level to \"WARN\".\n",
      "To adjust logging level use sc.setLogLevel(newLevel). For SparkR, use setLogLevel(newLevel).\n",
      "23/12/13 19:59:36 WARN NativeCodeLoader: Unable to load native-hadoop library for your platform... using builtin-java classes where applicable\n"
     ]
    }
   ],
   "source": [
    "spark = SparkSession.builder.appName('sales_info').getOrCreate()"
   ],
   "metadata": {
    "collapsed": false,
    "ExecuteTime": {
     "end_time": "2023-12-13T18:59:37.912865Z",
     "start_time": "2023-12-13T18:59:33.099423100Z"
    }
   },
   "id": "9ddba55575503404"
  },
  {
   "cell_type": "code",
   "execution_count": 4,
   "outputs": [
    {
     "data": {
      "text/plain": "<pyspark.sql.session.SparkSession at 0x7f9b536e5a50>",
      "text/html": "\n            <div>\n                <p><b>SparkSession - in-memory</b></p>\n                \n        <div>\n            <p><b>SparkContext</b></p>\n\n            <p><a href=\"http://172.19.51.88:4040\">Spark UI</a></p>\n\n            <dl>\n              <dt>Version</dt>\n                <dd><code>v3.5.0</code></dd>\n              <dt>Master</dt>\n                <dd><code>local[*]</code></dd>\n              <dt>AppName</dt>\n                <dd><code>sales_info</code></dd>\n            </dl>\n        </div>\n        \n            </div>\n        "
     },
     "execution_count": 4,
     "metadata": {},
     "output_type": "execute_result"
    }
   ],
   "source": [
    "spark"
   ],
   "metadata": {
    "collapsed": false,
    "ExecuteTime": {
     "end_time": "2023-12-13T18:59:38.849036Z",
     "start_time": "2023-12-13T18:59:37.917865200Z"
    }
   },
   "id": "4be6597d6e2b18e2"
  },
  {
   "cell_type": "code",
   "execution_count": 6,
   "outputs": [
    {
     "name": "stdout",
     "output_type": "stream",
     "text": [
      "+-------+-------+-----+\n",
      "|Company| Person|Sales|\n",
      "+-------+-------+-----+\n",
      "|   GOOG|    Sam|200.0|\n",
      "|   GOOG|Charlie|120.0|\n",
      "|   GOOG|  Frank|340.0|\n",
      "|   MSFT|   Tina|600.0|\n",
      "|   MSFT|    Amy|124.0|\n",
      "|   MSFT|Vanessa|243.0|\n",
      "|     FB|   Carl|870.0|\n",
      "|     FB|  Sarah|350.0|\n",
      "|   APPL|   John|250.0|\n",
      "|   APPL|  Linda|130.0|\n",
      "|   APPL|   Mike|750.0|\n",
      "|   APPL|  Chris|350.0|\n",
      "+-------+-------+-----+\n"
     ]
    }
   ],
   "source": [
    "df = spark.read.csv('sales_info.csv', inferSchema=True, header=True)\n",
    "df.show()"
   ],
   "metadata": {
    "collapsed": false,
    "ExecuteTime": {
     "end_time": "2023-12-13T19:00:25.602188900Z",
     "start_time": "2023-12-13T19:00:21.712324400Z"
    }
   },
   "id": "e90bd215c2eae71a"
  },
  {
   "cell_type": "code",
   "execution_count": 7,
   "outputs": [
    {
     "name": "stdout",
     "output_type": "stream",
     "text": [
      "root\n",
      " |-- Company: string (nullable = true)\n",
      " |-- Person: string (nullable = true)\n",
      " |-- Sales: double (nullable = true)\n"
     ]
    }
   ],
   "source": [
    "df.printSchema()"
   ],
   "metadata": {
    "collapsed": false,
    "ExecuteTime": {
     "end_time": "2023-12-13T19:00:31.614321Z",
     "start_time": "2023-12-13T19:00:31.565321800Z"
    }
   },
   "id": "f8bad85a2553df35"
  },
  {
   "cell_type": "code",
   "execution_count": 18,
   "outputs": [
    {
     "name": "stdout",
     "output_type": "stream",
     "text": [
      "+-------+-----+\n",
      "|Company|count|\n",
      "+-------+-----+\n",
      "|   APPL|    4|\n",
      "|   GOOG|    3|\n",
      "|     FB|    2|\n",
      "|   MSFT|    3|\n",
      "+-------+-----+\n"
     ]
    }
   ],
   "source": [
    "df.groupBy('Company').count().show()"
   ],
   "metadata": {
    "collapsed": false,
    "ExecuteTime": {
     "end_time": "2023-12-13T19:03:06.951317800Z",
     "start_time": "2023-12-13T19:03:06.663532700Z"
    }
   },
   "id": "743c4f1ead1fc823"
  },
  {
   "cell_type": "code",
   "execution_count": 25,
   "outputs": [
    {
     "name": "stdout",
     "output_type": "stream",
     "text": [
      "+--------------+\n",
      "|count(Company)|\n",
      "+--------------+\n",
      "|            12|\n",
      "+--------------+\n"
     ]
    }
   ],
   "source": [
    "df.agg({'Company': 'count'}).show()"
   ],
   "metadata": {
    "collapsed": false,
    "ExecuteTime": {
     "end_time": "2023-12-13T19:04:36.721267Z",
     "start_time": "2023-12-13T19:04:36.527683100Z"
    }
   },
   "id": "65580424be01899c"
  },
  {
   "cell_type": "code",
   "execution_count": 30,
   "outputs": [
    {
     "name": "stdout",
     "output_type": "stream",
     "text": [
      "+----------+\n",
      "|sum(Sales)|\n",
      "+----------+\n",
      "|    4327.0|\n",
      "+----------+\n",
      "\n",
      "+----------+\n",
      "|max(Sales)|\n",
      "+----------+\n",
      "|     870.0|\n",
      "+----------+\n"
     ]
    }
   ],
   "source": [
    "df.agg({'Sales': 'sum'}).show()\n",
    "df.agg({'Sales': 'max'}).show()"
   ],
   "metadata": {
    "collapsed": false,
    "ExecuteTime": {
     "end_time": "2023-12-13T19:05:25.586490800Z",
     "start_time": "2023-12-13T19:05:25.334457800Z"
    }
   },
   "id": "58a8d285517f06db"
  },
  {
   "cell_type": "code",
   "execution_count": 31,
   "outputs": [],
   "source": [
    "group_data = df.groupBy(\"Company\")"
   ],
   "metadata": {
    "collapsed": false,
    "ExecuteTime": {
     "end_time": "2023-12-13T19:09:21.639859100Z",
     "start_time": "2023-12-13T19:09:21.609870200Z"
    }
   },
   "id": "e014160028990e00"
  },
  {
   "cell_type": "code",
   "execution_count": 38,
   "outputs": [
    {
     "name": "stdout",
     "output_type": "stream",
     "text": [
      "+-------+----------+-----------+\n",
      "|Company|max(Sales)|min(Person)|\n",
      "+-------+----------+-----------+\n",
      "|   APPL|     750.0|      Chris|\n",
      "|     FB|     870.0|       Carl|\n",
      "|   GOOG|     340.0|    Charlie|\n",
      "|   MSFT|     600.0|        Amy|\n",
      "+-------+----------+-----------+\n"
     ]
    }
   ],
   "source": [
    "group_data.agg({'Sales': 'max', 'Person':'min'}).show()"
   ],
   "metadata": {
    "collapsed": false,
    "ExecuteTime": {
     "end_time": "2023-12-13T19:10:23.942010400Z",
     "start_time": "2023-12-13T19:10:23.760861800Z"
    }
   },
   "id": "626df37876ac00f3"
  },
  {
   "cell_type": "code",
   "execution_count": 39,
   "outputs": [],
   "source": [
    "from pyspark.sql.functions import countDistinct, avg, stddev"
   ],
   "metadata": {
    "collapsed": false,
    "ExecuteTime": {
     "end_time": "2023-12-13T19:11:21.303642400Z",
     "start_time": "2023-12-13T19:11:21.284646900Z"
    }
   },
   "id": "dbd4d6bb11c1e635"
  },
  {
   "cell_type": "code",
   "execution_count": 41,
   "outputs": [
    {
     "name": "stdout",
     "output_type": "stream",
     "text": [
      "+-----------------------+\n",
      "|count(DISTINCT Company)|\n",
      "+-----------------------+\n",
      "|                      4|\n",
      "+-----------------------+\n"
     ]
    }
   ],
   "source": [
    "df.select(countDistinct('Company')).show()"
   ],
   "metadata": {
    "collapsed": false,
    "ExecuteTime": {
     "end_time": "2023-12-13T19:11:36.607761600Z",
     "start_time": "2023-12-13T19:11:36.319997Z"
    }
   },
   "id": "c98a425b1f013fe1"
  },
  {
   "cell_type": "code",
   "execution_count": 46,
   "outputs": [
    {
     "name": "stdout",
     "output_type": "stream",
     "text": [
      "+-------+\n",
      "|Company|\n",
      "+-------+\n",
      "|   APPL|\n",
      "|   GOOG|\n",
      "|     FB|\n",
      "|   MSFT|\n",
      "+-------+\n"
     ]
    }
   ],
   "source": [
    "df.select('Company').distinct().show()"
   ],
   "metadata": {
    "collapsed": false,
    "ExecuteTime": {
     "end_time": "2023-12-13T19:12:48.126202900Z",
     "start_time": "2023-12-13T19:12:47.926423800Z"
    }
   },
   "id": "5957a72664cad4a5"
  },
  {
   "cell_type": "code",
   "execution_count": 57,
   "outputs": [
    {
     "name": "stdout",
     "output_type": "stream",
     "text": [
      "+-----------------+\n",
      "|        Avg_sales|\n",
      "+-----------------+\n",
      "|360.5833333333333|\n",
      "+-----------------+\n",
      "\n",
      "+-----+\n",
      "|Sales|\n",
      "+-----+\n",
      "|200.0|\n",
      "|120.0|\n",
      "|340.0|\n",
      "|600.0|\n",
      "|124.0|\n",
      "|243.0|\n",
      "|870.0|\n",
      "|350.0|\n",
      "|250.0|\n",
      "|130.0|\n",
      "|750.0|\n",
      "|350.0|\n",
      "+-----+\n"
     ]
    }
   ],
   "source": [
    "df.select(avg('Sales').alias('Avg_sales')).show()\n",
    "df.select('Sales').show()\n"
   ],
   "metadata": {
    "collapsed": false,
    "ExecuteTime": {
     "end_time": "2023-12-13T19:15:20.903098100Z",
     "start_time": "2023-12-13T19:15:20.760620100Z"
    }
   },
   "id": "c4d63b7f5672cf48"
  },
  {
   "cell_type": "code",
   "execution_count": 59,
   "outputs": [
    {
     "name": "stdout",
     "output_type": "stream",
     "text": [
      "+------------------+\n",
      "|      Sales_stddev|\n",
      "+------------------+\n",
      "|250.08742410799007|\n",
      "+------------------+\n"
     ]
    }
   ],
   "source": [
    "df.select(stddev('Sales').alias('Sales_stddev')).show()"
   ],
   "metadata": {
    "collapsed": false,
    "ExecuteTime": {
     "end_time": "2023-12-13T19:15:52.504797800Z",
     "start_time": "2023-12-13T19:15:52.433671200Z"
    }
   },
   "id": "56e6fb55755b0e3b"
  },
  {
   "cell_type": "code",
   "execution_count": 60,
   "outputs": [],
   "source": [
    "from pyspark.sql.functions import format_number"
   ],
   "metadata": {
    "collapsed": false,
    "ExecuteTime": {
     "end_time": "2023-12-13T19:16:06.382715900Z",
     "start_time": "2023-12-13T19:16:06.365720900Z"
    }
   },
   "id": "6db21fcee8d6a72d"
  },
  {
   "cell_type": "code",
   "execution_count": 74,
   "outputs": [
    {
     "name": "stdout",
     "output_type": "stream",
     "text": [
      "+------------------+\n",
      "|               std|\n",
      "+------------------+\n",
      "|250.08742410799007|\n",
      "+------------------+\n"
     ]
    }
   ],
   "source": [
    "sales_std = df.select(stddev('Sales').alias('std'))\n",
    "sales_std.show()"
   ],
   "metadata": {
    "collapsed": false,
    "ExecuteTime": {
     "end_time": "2023-12-13T19:18:59.272096300Z",
     "start_time": "2023-12-13T19:18:59.211097800Z"
    }
   },
   "id": "e764a80b8a493aa6"
  },
  {
   "cell_type": "code",
   "execution_count": 76,
   "outputs": [
    {
     "name": "stdout",
     "output_type": "stream",
     "text": [
      "+---------+\n",
      "|sales_std|\n",
      "+---------+\n",
      "|   250.09|\n",
      "+---------+\n"
     ]
    }
   ],
   "source": [
    "sales_std.select(format_number('std', 2).alias('sales_std')).show()"
   ],
   "metadata": {
    "collapsed": false,
    "ExecuteTime": {
     "end_time": "2023-12-13T19:19:18.189653200Z",
     "start_time": "2023-12-13T19:19:18.130128400Z"
    }
   },
   "id": "edee8efb3f4a8988"
  },
  {
   "cell_type": "code",
   "execution_count": 80,
   "outputs": [
    {
     "name": "stdout",
     "output_type": "stream",
     "text": [
      "+-------+\n",
      "|Company|\n",
      "+-------+\n",
      "|     FB|\n",
      "|   APPL|\n",
      "|   MSFT|\n",
      "|     FB|\n",
      "|   APPL|\n",
      "|   GOOG|\n",
      "|   APPL|\n",
      "|   MSFT|\n",
      "|   GOOG|\n",
      "|   APPL|\n",
      "|   MSFT|\n",
      "|   GOOG|\n",
      "+-------+\n"
     ]
    }
   ],
   "source": [
    "df.select('Company').orderBy(df['Sales'].desc()).show()"
   ],
   "metadata": {
    "collapsed": false,
    "ExecuteTime": {
     "end_time": "2023-12-13T19:21:28.180796900Z",
     "start_time": "2023-12-13T19:21:28.121211Z"
    }
   },
   "id": "17ffe3dc6f9710a6"
  },
  {
   "cell_type": "code",
   "execution_count": null,
   "outputs": [],
   "source": [],
   "metadata": {
    "collapsed": false
   },
   "id": "8b0f413f0335e0ef"
  }
 ],
 "metadata": {
  "kernelspec": {
   "display_name": "Python 3",
   "language": "python",
   "name": "python3"
  },
  "language_info": {
   "codemirror_mode": {
    "name": "ipython",
    "version": 2
   },
   "file_extension": ".py",
   "mimetype": "text/x-python",
   "name": "python",
   "nbconvert_exporter": "python",
   "pygments_lexer": "ipython2",
   "version": "2.7.6"
  }
 },
 "nbformat": 4,
 "nbformat_minor": 5
}
