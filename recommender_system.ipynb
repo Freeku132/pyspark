{
 "cells": [
  {
   "cell_type": "code",
   "execution_count": 5,
   "id": "initial_id",
   "metadata": {
    "collapsed": true,
    "ExecuteTime": {
     "end_time": "2024-02-04T11:16:59.233050700Z",
     "start_time": "2024-02-04T11:16:59.228051300Z"
    }
   },
   "outputs": [],
   "source": [
    "from pyspark.sql import SparkSession\n",
    "from pyspark.ml.recommendation import ALS\n",
    "from pyspark.ml.evaluation import RegressionEvaluator"
   ]
  },
  {
   "cell_type": "code",
   "outputs": [
    {
     "name": "stderr",
     "output_type": "stream",
     "text": [
      "24/02/04 12:17:00 WARN SparkSession: Using an existing Spark session; only runtime SQL configurations will take effect.\n"
     ]
    }
   ],
   "source": [
    "spark = SparkSession.builder.appName('Recommender system').getOrCreate()"
   ],
   "metadata": {
    "collapsed": false,
    "ExecuteTime": {
     "end_time": "2024-02-04T11:17:00.887801400Z",
     "start_time": "2024-02-04T11:16:59.782072700Z"
    }
   },
   "id": "d735252708ec94a3",
   "execution_count": 6
  },
  {
   "cell_type": "code",
   "outputs": [],
   "source": [
    "data = spark.read.csv('data/ML/recommender_system/movielens_ratings.csv', header=True, inferSchema=True)"
   ],
   "metadata": {
    "collapsed": false,
    "ExecuteTime": {
     "end_time": "2024-02-04T11:17:37.988652900Z",
     "start_time": "2024-02-04T11:17:34.611737100Z"
    }
   },
   "id": "dc10954b864d025",
   "execution_count": 7
  },
  {
   "cell_type": "code",
   "outputs": [
    {
     "name": "stdout",
     "output_type": "stream",
     "text": [
      "+-------+------+------+\n",
      "|movieId|rating|userId|\n",
      "+-------+------+------+\n",
      "|      2|   3.0|     0|\n",
      "|      3|   1.0|     0|\n",
      "|      5|   2.0|     0|\n",
      "|      9|   4.0|     0|\n",
      "|     11|   1.0|     0|\n",
      "|     12|   2.0|     0|\n",
      "|     15|   1.0|     0|\n",
      "|     17|   1.0|     0|\n",
      "|     19|   1.0|     0|\n",
      "|     21|   1.0|     0|\n",
      "|     23|   1.0|     0|\n",
      "|     26|   3.0|     0|\n",
      "|     27|   1.0|     0|\n",
      "|     28|   1.0|     0|\n",
      "|     29|   1.0|     0|\n",
      "|     30|   1.0|     0|\n",
      "|     31|   1.0|     0|\n",
      "|     34|   1.0|     0|\n",
      "|     37|   1.0|     0|\n",
      "|     41|   2.0|     0|\n",
      "+-------+------+------+\n"
     ]
    }
   ],
   "source": [
    "data.show()"
   ],
   "metadata": {
    "collapsed": false,
    "ExecuteTime": {
     "end_time": "2024-02-04T11:17:42.832049400Z",
     "start_time": "2024-02-04T11:17:42.568136800Z"
    }
   },
   "id": "d7ff8c527b38ede4",
   "execution_count": 8
  },
  {
   "cell_type": "code",
   "outputs": [
    {
     "name": "stdout",
     "output_type": "stream",
     "text": [
      "root\n",
      " |-- movieId: integer (nullable = true)\n",
      " |-- rating: double (nullable = true)\n",
      " |-- userId: integer (nullable = true)\n"
     ]
    }
   ],
   "source": [
    "data.printSchema()"
   ],
   "metadata": {
    "collapsed": false,
    "ExecuteTime": {
     "end_time": "2024-02-04T11:17:46.803183900Z",
     "start_time": "2024-02-04T11:17:46.783185600Z"
    }
   },
   "id": "786fd7408890c979",
   "execution_count": 9
  },
  {
   "cell_type": "code",
   "outputs": [
    {
     "name": "stdout",
     "output_type": "stream",
     "text": [
      "+-------+------------------+------------------+------------------+\n",
      "|summary|           movieId|            rating|            userId|\n",
      "+-------+------------------+------------------+------------------+\n",
      "|  count|              1501|              1501|              1501|\n",
      "|   mean| 49.40572951365756|1.7741505662891406|14.383744170552964|\n",
      "| stddev|28.937034065088994| 1.187276166124803| 8.591040424293272|\n",
      "|    min|                 0|               1.0|                 0|\n",
      "|    max|                99|               5.0|                29|\n",
      "+-------+------------------+------------------+------------------+\n"
     ]
    }
   ],
   "source": [
    "data.describe().show()"
   ],
   "metadata": {
    "collapsed": false,
    "ExecuteTime": {
     "end_time": "2024-02-04T11:20:03.055105800Z",
     "start_time": "2024-02-04T11:20:02.096809200Z"
    }
   },
   "id": "9155a98de0babc13",
   "execution_count": 10
  },
  {
   "cell_type": "code",
   "outputs": [],
   "source": [
    "train_data, test_data = data.randomSplit([0.80, 0.20])"
   ],
   "metadata": {
    "collapsed": false,
    "ExecuteTime": {
     "end_time": "2024-02-04T11:22:00.362198600Z",
     "start_time": "2024-02-04T11:22:00.341195600Z"
    }
   },
   "id": "d6699f40d05dba1b",
   "execution_count": 15
  },
  {
   "cell_type": "code",
   "outputs": [
    {
     "name": "stdout",
     "output_type": "stream",
     "text": [
      "+-------+------------------+------------------+------------------+\n",
      "|summary|           movieId|            rating|            userId|\n",
      "+-------+------------------+------------------+------------------+\n",
      "|  count|               318|               318|               318|\n",
      "|   mean|48.930817610062896|1.8584905660377358|13.720125786163521|\n",
      "| stddev| 29.12198200539353|1.2364496791454895| 8.574058739295234|\n",
      "|    min|                 0|               1.0|                 0|\n",
      "|    max|                99|               5.0|                29|\n",
      "+-------+------------------+------------------+------------------+\n"
     ]
    }
   ],
   "source": [
    "test_data.describe().show()"
   ],
   "metadata": {
    "collapsed": false,
    "ExecuteTime": {
     "end_time": "2024-02-04T11:22:01.125853200Z",
     "start_time": "2024-02-04T11:22:00.799597700Z"
    }
   },
   "id": "8d763e1813f19797",
   "execution_count": 16
  },
  {
   "cell_type": "code",
   "outputs": [],
   "source": [
    "als = ALS(maxIter=10, regParam=0.01, userCol=\"userId\", itemCol=\"movieId\", ratingCol=\"rating\")"
   ],
   "metadata": {
    "collapsed": false,
    "ExecuteTime": {
     "end_time": "2024-02-04T11:45:22.239485200Z",
     "start_time": "2024-02-04T11:45:22.219488100Z"
    }
   },
   "id": "cb3c52c5939e458f",
   "execution_count": 38
  },
  {
   "cell_type": "code",
   "outputs": [],
   "source": [
    "model = als.fit(train_data)"
   ],
   "metadata": {
    "collapsed": false,
    "ExecuteTime": {
     "end_time": "2024-02-04T11:45:23.857430900Z",
     "start_time": "2024-02-04T11:45:22.797095600Z"
    }
   },
   "id": "53d6fa592b4c360a",
   "execution_count": 39
  },
  {
   "cell_type": "code",
   "outputs": [],
   "source": [
    "predictions = model.transform(test_data)"
   ],
   "metadata": {
    "collapsed": false,
    "ExecuteTime": {
     "end_time": "2024-02-04T11:45:23.873431700Z",
     "start_time": "2024-02-04T11:45:23.846430900Z"
    }
   },
   "id": "992976274b353be9",
   "execution_count": 40
  },
  {
   "cell_type": "code",
   "outputs": [
    {
     "name": "stdout",
     "output_type": "stream",
     "text": [
      "+-------+------+------+-----------+\n",
      "|movieId|rating|userId| prediction|\n",
      "+-------+------+------+-----------+\n",
      "|      0|   3.0|    28|  1.2109452|\n",
      "|      2|   1.0|    26|  1.0189596|\n",
      "|      4|   4.0|    26| 0.96820885|\n",
      "|      4|   1.0|    12|  0.7779279|\n",
      "|      2|   2.0|     1| 0.51243174|\n",
      "|      3|   1.0|     1|   1.525861|\n",
      "|      5|   1.0|    13|  1.7642727|\n",
      "|      1|   1.0|     3|  2.6784935|\n",
      "|      2|   2.0|    20| 0.26189977|\n",
      "|      4|   2.0|    20|  1.9301673|\n",
      "|      0|   1.0|    19| 0.28556177|\n",
      "|      0|   1.0|    15|-0.40665403|\n",
      "|      1|   4.0|    15|-0.46970066|\n",
      "|      2|   1.0|    15|  1.1296862|\n",
      "|      2|   4.0|     8|  2.0162854|\n",
      "|      4|   2.0|     8|  1.4718423|\n",
      "|      3|   1.0|     7|  0.8495594|\n",
      "|      4|   3.0|    10|  0.8538911|\n",
      "|      5|   1.0|    29|  1.5374838|\n",
      "|      6|   1.0|     2|  1.0139494|\n",
      "+-------+------+------+-----------+\n"
     ]
    }
   ],
   "source": [
    "predictions.show()"
   ],
   "metadata": {
    "collapsed": false,
    "ExecuteTime": {
     "end_time": "2024-02-04T11:45:24.080530300Z",
     "start_time": "2024-02-04T11:45:23.873431700Z"
    }
   },
   "id": "756928f82ba5039c",
   "execution_count": 41
  },
  {
   "cell_type": "code",
   "outputs": [],
   "source": [
    "evaluator = RegressionEvaluator(metricName=\"rmse\", labelCol=\"rating\", predictionCol=\"prediction\")"
   ],
   "metadata": {
    "collapsed": false,
    "ExecuteTime": {
     "end_time": "2024-02-04T11:45:25.098105Z",
     "start_time": "2024-02-04T11:45:25.093105Z"
    }
   },
   "id": "5087238a68e9d80c",
   "execution_count": 42
  },
  {
   "cell_type": "code",
   "outputs": [],
   "source": [
    "rmse = evaluator.evaluate(predictions)"
   ],
   "metadata": {
    "collapsed": false,
    "ExecuteTime": {
     "end_time": "2024-02-04T11:45:25.758115500Z",
     "start_time": "2024-02-04T11:45:25.569917200Z"
    }
   },
   "id": "bf0449346c8ec6d4",
   "execution_count": 43
  },
  {
   "cell_type": "code",
   "outputs": [
    {
     "data": {
      "text/plain": "1.7128230393361559"
     },
     "execution_count": 44,
     "metadata": {},
     "output_type": "execute_result"
    }
   ],
   "source": [
    "rmse"
   ],
   "metadata": {
    "collapsed": false,
    "ExecuteTime": {
     "end_time": "2024-02-04T11:45:25.946134400Z",
     "start_time": "2024-02-04T11:45:25.940134100Z"
    }
   },
   "id": "4eec3f4d16e850ca",
   "execution_count": 44
  },
  {
   "cell_type": "code",
   "outputs": [],
   "source": [
    "single_user = test_data.filter(test_data.userId == 11).select(\"movieId\", \"userId\")"
   ],
   "metadata": {
    "collapsed": false,
    "ExecuteTime": {
     "end_time": "2024-02-04T11:45:26.848032100Z",
     "start_time": "2024-02-04T11:45:26.833033300Z"
    }
   },
   "id": "be41282dfcb51a2",
   "execution_count": 45
  },
  {
   "cell_type": "code",
   "outputs": [
    {
     "name": "stdout",
     "output_type": "stream",
     "text": [
      "+-------+------+\n",
      "|movieId|userId|\n",
      "+-------+------+\n",
      "|     13|    11|\n",
      "|     16|    11|\n",
      "|     19|    11|\n",
      "|     20|    11|\n",
      "|     23|    11|\n",
      "|     27|    11|\n",
      "|     35|    11|\n",
      "|     36|    11|\n",
      "|     41|    11|\n",
      "|     45|    11|\n",
      "|     48|    11|\n",
      "|     50|    11|\n",
      "|     51|    11|\n",
      "|     66|    11|\n",
      "|     69|    11|\n",
      "|     70|    11|\n",
      "|     71|    11|\n",
      "|     72|    11|\n",
      "|     75|    11|\n",
      "|     78|    11|\n",
      "+-------+------+\n"
     ]
    }
   ],
   "source": [
    "single_user.show()"
   ],
   "metadata": {
    "collapsed": false,
    "ExecuteTime": {
     "end_time": "2024-02-04T11:45:27.410031400Z",
     "start_time": "2024-02-04T11:45:27.294032500Z"
    }
   },
   "id": "eb9ae1d0c114af20",
   "execution_count": 46
  },
  {
   "cell_type": "code",
   "outputs": [],
   "source": [
    "recommendation = model.transform(single_user)"
   ],
   "metadata": {
    "collapsed": false,
    "ExecuteTime": {
     "end_time": "2024-02-04T11:45:28.285032Z",
     "start_time": "2024-02-04T11:45:28.260031700Z"
    }
   },
   "id": "784c03576e90c43d",
   "execution_count": 47
  },
  {
   "cell_type": "code",
   "outputs": [
    {
     "name": "stdout",
     "output_type": "stream",
     "text": [
      "+-------+------+-----------+\n",
      "|movieId|userId| prediction|\n",
      "+-------+------+-----------+\n",
      "|     50|    11|  2.3682444|\n",
      "|     23|    11|  2.0582218|\n",
      "|     51|    11|  1.9993123|\n",
      "|     19|    11|  1.7393816|\n",
      "|     13|    11|  1.6138629|\n",
      "|     66|    11|  1.6098038|\n",
      "|     79|    11|  1.4421184|\n",
      "|     36|    11|  1.2603539|\n",
      "|     45|    11|   1.054325|\n",
      "|     48|    11|  0.7943057|\n",
      "|     97|    11|  0.6927949|\n",
      "|     78|    11| 0.66300637|\n",
      "|     69|    11|  0.5107675|\n",
      "|     75|    11| 0.44824302|\n",
      "|     72|    11| 0.35342517|\n",
      "|     20|    11| 0.28437197|\n",
      "|     16|    11| 0.24411146|\n",
      "|     41|    11| 0.23283258|\n",
      "|     86|    11|-0.14355831|\n",
      "|     35|    11|-0.30964977|\n",
      "+-------+------+-----------+\n"
     ]
    }
   ],
   "source": [
    "recommendation.orderBy('prediction', ascending=False).show()"
   ],
   "metadata": {
    "collapsed": false,
    "ExecuteTime": {
     "end_time": "2024-02-04T11:45:28.834713700Z",
     "start_time": "2024-02-04T11:45:28.571033900Z"
    }
   },
   "id": "9e0afb73e07fe3ec",
   "execution_count": 48
  },
  {
   "cell_type": "code",
   "outputs": [],
   "source": [],
   "metadata": {
    "collapsed": false
   },
   "id": "c93b70c5dc248e07"
  }
 ],
 "metadata": {
  "kernelspec": {
   "display_name": "Python 3",
   "language": "python",
   "name": "python3"
  },
  "language_info": {
   "codemirror_mode": {
    "name": "ipython",
    "version": 2
   },
   "file_extension": ".py",
   "mimetype": "text/x-python",
   "name": "python",
   "nbconvert_exporter": "python",
   "pygments_lexer": "ipython2",
   "version": "2.7.6"
  }
 },
 "nbformat": 4,
 "nbformat_minor": 5
}
