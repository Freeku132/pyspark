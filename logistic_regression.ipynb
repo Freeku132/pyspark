{
 "cells": [
  {
   "cell_type": "code",
   "execution_count": 3,
   "id": "initial_id",
   "metadata": {
    "collapsed": true,
    "ExecuteTime": {
     "end_time": "2023-12-27T22:03:03.686354500Z",
     "start_time": "2023-12-27T22:03:03.597099Z"
    }
   },
   "outputs": [],
   "source": [
    "from pyspark.sql import SparkSession\n",
    "from pyspark.ml.classification import LogisticRegression"
   ]
  },
  {
   "cell_type": "code",
   "outputs": [],
   "source": [
    "spark = SparkSession.builder.appName(\"Logistic_regression\").getOrCreate()"
   ],
   "metadata": {
    "collapsed": false,
    "ExecuteTime": {
     "end_time": "2023-12-27T22:03:06.519973Z",
     "start_time": "2023-12-27T22:03:05.350395400Z"
    }
   },
   "id": "892b5239a96ed040",
   "execution_count": 4
  },
  {
   "cell_type": "code",
   "outputs": [
    {
     "name": "stderr",
     "output_type": "stream",
     "text": [
      "23/12/27 23:08:29 WARN LibSVMFileFormat: 'numFeatures' option not specified, determining the number of features by going though the input. If you know the number in advance, please specify it via 'numFeatures' option to avoid the extra scan.\n"
     ]
    }
   ],
   "source": [
    "data = spark.read.format(\"libsvm\").load('data/ML/logistic/sample_libsvm_data.txt')"
   ],
   "metadata": {
    "collapsed": false,
    "ExecuteTime": {
     "end_time": "2023-12-27T22:08:33.182656100Z",
     "start_time": "2023-12-27T22:08:29.643667700Z"
    }
   },
   "id": "f8c2d2cfe919d6a8",
   "execution_count": 6
  },
  {
   "cell_type": "code",
   "outputs": [
    {
     "name": "stdout",
     "output_type": "stream",
     "text": [
      "+-----+--------------------+\n",
      "|label|            features|\n",
      "+-----+--------------------+\n",
      "|  0.0|(692,[127,128,129...|\n",
      "|  1.0|(692,[158,159,160...|\n",
      "|  1.0|(692,[124,125,126...|\n",
      "|  1.0|(692,[152,153,154...|\n",
      "|  1.0|(692,[151,152,153...|\n",
      "|  0.0|(692,[129,130,131...|\n",
      "|  1.0|(692,[158,159,160...|\n",
      "|  1.0|(692,[99,100,101,...|\n",
      "|  0.0|(692,[154,155,156...|\n",
      "|  0.0|(692,[127,128,129...|\n",
      "|  1.0|(692,[154,155,156...|\n",
      "|  0.0|(692,[153,154,155...|\n",
      "|  0.0|(692,[151,152,153...|\n",
      "|  1.0|(692,[129,130,131...|\n",
      "|  0.0|(692,[154,155,156...|\n",
      "|  1.0|(692,[150,151,152...|\n",
      "|  0.0|(692,[124,125,126...|\n",
      "|  0.0|(692,[152,153,154...|\n",
      "|  1.0|(692,[97,98,99,12...|\n",
      "|  1.0|(692,[124,125,126...|\n",
      "+-----+--------------------+\n"
     ]
    }
   ],
   "source": [
    "data.show()"
   ],
   "metadata": {
    "collapsed": false,
    "ExecuteTime": {
     "end_time": "2023-12-27T22:08:35.233249700Z",
     "start_time": "2023-12-27T22:08:34.821183400Z"
    }
   },
   "id": "ee4b5d21d4dbc2b2",
   "execution_count": 7
  },
  {
   "cell_type": "code",
   "outputs": [],
   "source": [
    "log_reg_model = LogisticRegression()"
   ],
   "metadata": {
    "collapsed": false,
    "ExecuteTime": {
     "end_time": "2023-12-27T22:12:04.221059300Z",
     "start_time": "2023-12-27T22:12:04.120057600Z"
    }
   },
   "id": "871f2208e25c622c",
   "execution_count": 8
  },
  {
   "cell_type": "code",
   "outputs": [],
   "source": [
    "fitted_log_reg = log_reg_model.fit(data)"
   ],
   "metadata": {
    "collapsed": false,
    "ExecuteTime": {
     "end_time": "2023-12-27T22:12:29.702638900Z",
     "start_time": "2023-12-27T22:12:26.444742800Z"
    }
   },
   "id": "e9b6061ebd68fcc2",
   "execution_count": 9
  },
  {
   "cell_type": "code",
   "outputs": [],
   "source": [
    "log_summary = fitted_log_reg.summary"
   ],
   "metadata": {
    "collapsed": false,
    "ExecuteTime": {
     "end_time": "2023-12-27T22:12:55.434414400Z",
     "start_time": "2023-12-27T22:12:55.418413700Z"
    }
   },
   "id": "d72d59a185efd4c3",
   "execution_count": 11
  },
  {
   "cell_type": "code",
   "outputs": [
    {
     "name": "stdout",
     "output_type": "stream",
     "text": [
      "+-----+--------------------+--------------------+--------------------+----------+\n",
      "|label|            features|       rawPrediction|         probability|prediction|\n",
      "+-----+--------------------+--------------------+--------------------+----------+\n",
      "|  0.0|(692,[127,128,129...|[20.3777627514872...|[0.99999999858729...|       0.0|\n",
      "|  1.0|(692,[158,159,160...|[-21.114014198868...|[6.76550380000481...|       1.0|\n",
      "|  1.0|(692,[124,125,126...|[-23.743613234676...|[4.87842678716177...|       1.0|\n",
      "|  1.0|(692,[152,153,154...|[-19.192574012720...|[4.62137287298148...|       1.0|\n",
      "|  1.0|(692,[151,152,153...|[-20.125398874699...|[1.81823629113072...|       1.0|\n",
      "|  0.0|(692,[129,130,131...|[20.4890549504196...|[0.99999999873608...|       0.0|\n",
      "|  1.0|(692,[158,159,160...|[-21.082940212814...|[6.97903542823774...|       1.0|\n",
      "|  1.0|(692,[99,100,101,...|[-19.622713503550...|[3.00582577446127...|       1.0|\n",
      "|  0.0|(692,[154,155,156...|[21.1594863606582...|[0.99999999935352...|       0.0|\n",
      "|  0.0|(692,[127,128,129...|[28.1036706837287...|[0.99999999999937...|       0.0|\n",
      "|  1.0|(692,[154,155,156...|[-21.054076780106...|[7.18340962960327...|       1.0|\n",
      "|  0.0|(692,[153,154,155...|[26.9648490510184...|[0.99999999999805...|       0.0|\n",
      "|  0.0|(692,[151,152,153...|[32.7855654161400...|[0.99999999999999...|       0.0|\n",
      "|  1.0|(692,[129,130,131...|[-20.331839179667...|[1.47908944089724...|       1.0|\n",
      "|  0.0|(692,[154,155,156...|[21.7830579106564...|[0.99999999965347...|       0.0|\n",
      "|  1.0|(692,[150,151,152...|[-20.640562103728...|[1.08621994880355...|       1.0|\n",
      "|  0.0|(692,[124,125,126...|[22.6400775503731...|[0.99999999985292...|       0.0|\n",
      "|  0.0|(692,[152,153,154...|[38.0712919910909...|           [1.0,0.0]|       0.0|\n",
      "|  1.0|(692,[97,98,99,12...|[-19.830803265627...|[2.44113371545874...|       1.0|\n",
      "|  1.0|(692,[124,125,126...|[-21.016054806036...|[7.46179590484105...|       1.0|\n",
      "+-----+--------------------+--------------------+--------------------+----------+\n"
     ]
    }
   ],
   "source": [
    "log_summary.predictions.show()"
   ],
   "metadata": {
    "collapsed": false,
    "ExecuteTime": {
     "end_time": "2023-12-27T22:13:05.690652500Z",
     "start_time": "2023-12-27T22:13:05.422644500Z"
    }
   },
   "id": "a5bcd6adb3759435",
   "execution_count": 14
  },
  {
   "cell_type": "code",
   "outputs": [],
   "source": [
    "train_data,test_data = data.randomSplit([0.8,0.2])"
   ],
   "metadata": {
    "collapsed": false,
    "ExecuteTime": {
     "end_time": "2023-12-27T22:15:15.286554800Z",
     "start_time": "2023-12-27T22:15:15.264555500Z"
    }
   },
   "id": "77d1ce2627da913a",
   "execution_count": 15
  },
  {
   "cell_type": "code",
   "outputs": [],
   "source": [
    "final_model = LogisticRegression()"
   ],
   "metadata": {
    "collapsed": false,
    "ExecuteTime": {
     "end_time": "2023-12-27T22:15:37.146346200Z",
     "start_time": "2023-12-27T22:15:37.126344200Z"
    }
   },
   "id": "b09523fc0be65244",
   "execution_count": 16
  },
  {
   "cell_type": "code",
   "outputs": [],
   "source": [
    "fitted_final = final_model.fit(train_data)"
   ],
   "metadata": {
    "collapsed": false,
    "ExecuteTime": {
     "end_time": "2023-12-27T22:16:17.759771900Z",
     "start_time": "2023-12-27T22:16:16.693049600Z"
    }
   },
   "id": "9661038ed6dd2b98",
   "execution_count": 18
  },
  {
   "cell_type": "code",
   "outputs": [],
   "source": [
    "predictions_adn_label = fitted_final.evaluate(test_data)"
   ],
   "metadata": {
    "collapsed": false,
    "ExecuteTime": {
     "end_time": "2023-12-27T22:16:37.190439800Z",
     "start_time": "2023-12-27T22:16:37.070377500Z"
    }
   },
   "id": "e58c043e2bac842a",
   "execution_count": 19
  },
  {
   "cell_type": "code",
   "outputs": [
    {
     "name": "stdout",
     "output_type": "stream",
     "text": [
      "+-----+--------------------+--------------------+--------------------+----------+\n",
      "|label|            features|       rawPrediction|         probability|prediction|\n",
      "+-----+--------------------+--------------------+--------------------+----------+\n",
      "|  0.0|(692,[95,96,97,12...|[21.2899621116374...|[0.99999999943260...|       0.0|\n",
      "|  0.0|(692,[125,126,127...|[22.4971793003551...|[0.99999999983033...|       0.0|\n",
      "|  0.0|(692,[126,127,128...|[36.8554821349041...|           [1.0,0.0]|       0.0|\n",
      "|  0.0|(692,[127,128,129...|[18.2263014554478...|[0.99999998785443...|       0.0|\n",
      "|  0.0|(692,[153,154,155...|[8.40429138130549...|[0.99977614572159...|       0.0|\n",
      "|  1.0|(692,[100,101,102...|[44.5774827222024...|           [1.0,0.0]|       0.0|\n",
      "|  1.0|(692,[123,124,125...|[-16.912250053255...|[4.51963232044347...|       1.0|\n",
      "|  1.0|(692,[124,125,126...|[-16.387027800861...|[7.64195046201724...|       1.0|\n",
      "|  1.0|(692,[124,125,126...|[-22.270401181034...|[2.12856862907045...|       1.0|\n",
      "|  1.0|(692,[125,126,153...|[-21.284456026224...|[5.70529621032504...|       1.0|\n",
      "|  1.0|(692,[125,126,153...|[-22.424971545345...|[1.82372184800596...|       1.0|\n",
      "|  1.0|(692,[126,127,128...|[-30.124692865496...|[8.26061001433457...|       1.0|\n",
      "|  1.0|(692,[126,127,128...|[-29.074992419878...|[2.35988712391486...|       1.0|\n",
      "|  1.0|(692,[127,128,155...|[-24.433456140776...|[2.44728655478336...|       1.0|\n",
      "|  1.0|(692,[128,129,130...|[-23.312377151267...|[7.50867389477019...|       1.0|\n",
      "|  1.0|(692,[128,129,130...|[-26.958644885075...|[1.95888656129389...|       1.0|\n",
      "|  1.0|(692,[128,129,130...|[-23.886833295231...|[4.22746586675316...|       1.0|\n",
      "|  1.0|(692,[128,129,130...|[-21.844216273793...|[3.25969833500136...|       1.0|\n",
      "|  1.0|(692,[129,130,131...|[-21.666612495892...|[3.89322722169375...|       1.0|\n",
      "|  1.0|(692,[129,130,131...|[-21.888604830604...|[3.11816940051725...|       1.0|\n",
      "+-----+--------------------+--------------------+--------------------+----------+\n"
     ]
    }
   ],
   "source": [
    "predictions_adn_label.predictions.show()"
   ],
   "metadata": {
    "collapsed": false,
    "ExecuteTime": {
     "end_time": "2023-12-27T22:16:45.785440300Z",
     "start_time": "2023-12-27T22:16:45.592575700Z"
    }
   },
   "id": "9207241e064c1a65",
   "execution_count": 21
  },
  {
   "cell_type": "code",
   "outputs": [
    {
     "data": {
      "text/plain": "[1.0, 0.9375]"
     },
     "execution_count": 23,
     "metadata": {},
     "output_type": "execute_result"
    }
   ],
   "source": [
    "predictions_adn_label.truePositiveRateByLabel"
   ],
   "metadata": {
    "collapsed": false,
    "ExecuteTime": {
     "end_time": "2023-12-27T22:18:27.972712700Z",
     "start_time": "2023-12-27T22:18:27.954710700Z"
    }
   },
   "id": "d9eaadd4ecea58bb",
   "execution_count": 23
  },
  {
   "cell_type": "code",
   "outputs": [],
   "source": [
    "from pyspark.ml.evaluation import BinaryClassificationEvaluator, MulticlassClassificationEvaluator"
   ],
   "metadata": {
    "collapsed": false,
    "ExecuteTime": {
     "end_time": "2023-12-27T22:18:55.413801400Z",
     "start_time": "2023-12-27T22:18:55.396800300Z"
    }
   },
   "id": "ef7e5527f6c6b8",
   "execution_count": 24
  },
  {
   "cell_type": "code",
   "outputs": [],
   "source": [
    "evaluator = BinaryClassificationEvaluator(rawPredictionCol='rawPrediction', labelCol='label', metricName='areaUnderROC')"
   ],
   "metadata": {
    "collapsed": false,
    "ExecuteTime": {
     "end_time": "2023-12-27T22:21:04.419498400Z",
     "start_time": "2023-12-27T22:21:04.404497500Z"
    }
   },
   "id": "9aba6a92879eeb4",
   "execution_count": 28
  },
  {
   "cell_type": "code",
   "outputs": [],
   "source": [
    "final_roc = evaluator.evaluate(predictions_adn_label.predictions)"
   ],
   "metadata": {
    "collapsed": false,
    "ExecuteTime": {
     "end_time": "2023-12-27T22:23:11.487038500Z",
     "start_time": "2023-12-27T22:23:11.282861200Z"
    }
   },
   "id": "584c8bbf9289f029",
   "execution_count": 30
  },
  {
   "cell_type": "code",
   "outputs": [
    {
     "data": {
      "text/plain": "0.9375"
     },
     "execution_count": 31,
     "metadata": {},
     "output_type": "execute_result"
    }
   ],
   "source": [
    "final_roc"
   ],
   "metadata": {
    "collapsed": false,
    "ExecuteTime": {
     "end_time": "2023-12-27T22:23:15.604753100Z",
     "start_time": "2023-12-27T22:23:15.586754800Z"
    }
   },
   "id": "d9b47a15640ada7e",
   "execution_count": 31
  }
 ],
 "metadata": {
  "kernelspec": {
   "display_name": "Python 3",
   "language": "python",
   "name": "python3"
  },
  "language_info": {
   "codemirror_mode": {
    "name": "ipython",
    "version": 2
   },
   "file_extension": ".py",
   "mimetype": "text/x-python",
   "name": "python",
   "nbconvert_exporter": "python",
   "pygments_lexer": "ipython2",
   "version": "2.7.6"
  }
 },
 "nbformat": 4,
 "nbformat_minor": 5
}
