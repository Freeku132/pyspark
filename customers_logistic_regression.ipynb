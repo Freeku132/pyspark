{
 "cells": [
  {
   "cell_type": "code",
   "execution_count": 1,
   "id": "initial_id",
   "metadata": {
    "collapsed": true,
    "ExecuteTime": {
     "end_time": "2024-01-12T18:20:26.257850Z",
     "start_time": "2024-01-12T18:20:26.126205100Z"
    }
   },
   "outputs": [],
   "source": [
    "from pyspark.sql import SparkSession"
   ]
  },
  {
   "cell_type": "code",
   "outputs": [
    {
     "name": "stderr",
     "output_type": "stream",
     "text": [
      "24/01/12 19:20:50 WARN Utils: Your hostname, DESKTOP-0HJMRJF resolves to a loopback address: 127.0.1.1; using 172.25.126.180 instead (on interface eth0)\n",
      "24/01/12 19:20:50 WARN Utils: Set SPARK_LOCAL_IP if you need to bind to another address\n",
      "Setting default log level to \"WARN\".\n",
      "To adjust logging level use sc.setLogLevel(newLevel). For SparkR, use setLogLevel(newLevel).\n",
      "24/01/12 19:20:51 WARN NativeCodeLoader: Unable to load native-hadoop library for your platform... using builtin-java classes where applicable\n",
      "24/01/12 19:20:52 WARN Utils: Service 'SparkUI' could not bind on port 4040. Attempting port 4041.\n"
     ]
    }
   ],
   "source": [
    "spark = SparkSession.builder.appName('customers_logistic_regression').getOrCreate()"
   ],
   "metadata": {
    "collapsed": false,
    "ExecuteTime": {
     "end_time": "2024-01-12T18:20:53.076712200Z",
     "start_time": "2024-01-12T18:20:48.784674100Z"
    }
   },
   "id": "61f9e966374dd13a",
   "execution_count": 2
  },
  {
   "cell_type": "code",
   "outputs": [],
   "source": [
    "df = spark.read.csv('./data/ML/logistic/customer_churn.csv', inferSchema=True, header=True)"
   ],
   "metadata": {
    "collapsed": false,
    "ExecuteTime": {
     "end_time": "2024-01-12T18:21:52.153471700Z",
     "start_time": "2024-01-12T18:21:51.956023800Z"
    }
   },
   "id": "1466652469744c22",
   "execution_count": 7
  },
  {
   "cell_type": "code",
   "outputs": [
    {
     "name": "stdout",
     "output_type": "stream",
     "text": [
      "root\n",
      " |-- Names: string (nullable = true)\n",
      " |-- Age: double (nullable = true)\n",
      " |-- Total_Purchase: double (nullable = true)\n",
      " |-- Account_Manager: integer (nullable = true)\n",
      " |-- Years: double (nullable = true)\n",
      " |-- Num_Sites: double (nullable = true)\n",
      " |-- Onboard_date: timestamp (nullable = true)\n",
      " |-- Location: string (nullable = true)\n",
      " |-- Company: string (nullable = true)\n",
      " |-- Churn: integer (nullable = true)\n"
     ]
    }
   ],
   "source": [
    "df.printSchema()"
   ],
   "metadata": {
    "collapsed": false,
    "ExecuteTime": {
     "end_time": "2024-01-12T18:21:52.170472100Z",
     "start_time": "2024-01-12T18:21:52.159471900Z"
    }
   },
   "id": "f776b5124a2797b0",
   "execution_count": 8
  },
  {
   "cell_type": "code",
   "outputs": [
    {
     "name": "stdout",
     "output_type": "stream",
     "text": [
      "+-------------------+----+--------------+---------------+-----+---------+-------------------+--------------------+--------------------+-----+\n",
      "|              Names| Age|Total_Purchase|Account_Manager|Years|Num_Sites|       Onboard_date|            Location|             Company|Churn|\n",
      "+-------------------+----+--------------+---------------+-----+---------+-------------------+--------------------+--------------------+-----+\n",
      "|   Cameron Williams|42.0|       11066.8|              0| 7.22|      8.0|2013-08-30 07:00:40|10265 Elizabeth M...|          Harvey LLC|    1|\n",
      "|      Kevin Mueller|41.0|      11916.22|              0|  6.5|     11.0|2013-08-13 00:38:46|6157 Frank Garden...|          Wilson PLC|    1|\n",
      "|        Eric Lozano|38.0|      12884.75|              0| 6.67|     12.0|2016-06-29 06:20:07|1331 Keith Court ...|Miller, Johnson a...|    1|\n",
      "|      Phillip White|42.0|       8010.76|              0| 6.71|     10.0|2014-04-22 12:43:12|13120 Daniel Moun...|           Smith Inc|    1|\n",
      "|     Cynthia Norton|37.0|       9191.58|              0| 5.56|      9.0|2016-01-19 15:31:15|765 Tricia Row Ka...|          Love-Jones|    1|\n",
      "|   Jessica Williams|48.0|      10356.02|              0| 5.12|      8.0|2009-03-03 23:13:37|6187 Olson Mounta...|        Kelly-Warren|    1|\n",
      "|        Eric Butler|44.0|      11331.58|              1| 5.23|     11.0|2016-12-05 03:35:43|4846 Savannah Roa...|   Reynolds-Sheppard|    1|\n",
      "|      Zachary Walsh|32.0|       9885.12|              1| 6.92|      9.0|2006-03-09 14:50:20|25271 Roy Express...|          Singh-Cole|    1|\n",
      "|        Ashlee Carr|43.0|       14062.6|              1| 5.46|     11.0|2011-09-29 05:47:23|3725 Caroline Str...|           Lopez PLC|    1|\n",
      "|     Jennifer Lynch|40.0|       8066.94|              1| 7.11|     11.0|2006-03-28 15:42:45|363 Sandra Lodge ...|       Reed-Martinez|    1|\n",
      "|       Paula Harris|30.0|      11575.37|              1| 5.22|      8.0|2016-11-13 13:13:01|Unit 8120 Box 916...|Briggs, Lamb and ...|    1|\n",
      "|     Bruce Phillips|45.0|       8771.02|              1| 6.64|     11.0|2015-05-28 12:14:03|Unit 1895 Box 094...|    Figueroa-Maynard|    1|\n",
      "|       Craig Garner|45.0|       8988.67|              1| 4.84|     11.0|2011-02-16 08:10:47|897 Kelley Overpa...|     Abbott-Thompson|    1|\n",
      "|       Nicole Olson|40.0|       8283.32|              1|  5.1|     13.0|2012-11-22 05:35:03|11488 Weaver Cape...|Smith, Kim and Ma...|    1|\n",
      "|     Harold Griffin|41.0|       6569.87|              1|  4.3|     11.0|2015-03-28 02:13:44|1774 Peter Row Ap...|Snyder, Lee and M...|    1|\n",
      "|       James Wright|38.0|      10494.82|              1| 6.81|     12.0|2015-07-22 08:38:40|45408 David Path ...|      Sanders-Pierce|    1|\n",
      "|      Doris Wilkins|45.0|       8213.41|              1| 7.35|     11.0|2006-09-03 06:13:55|28216 Wright Moun...|Andrews, Adams an...|    1|\n",
      "|Katherine Carpenter|43.0|      11226.88|              0| 8.08|     12.0|2006-10-22 04:42:38|Unit 4948 Box 481...|Morgan, Phillips ...|    1|\n",
      "|     Lindsay Martin|53.0|       5515.09|              0| 6.85|      8.0|2015-10-07 00:27:10|69203 Crosby Divi...|      Villanueva LLC|    1|\n",
      "|        Kathy Curry|46.0|        8046.4|              1| 5.69|      8.0|2014-11-06 23:47:14|9569 Caldwell Cre...|Berry, Orr and Ca...|    1|\n",
      "|        Dean Miller|41.0|       9771.22|              0| 5.81|     11.0|2013-05-30 00:42:13|803 Kelli Crossin...|       Parks-Bradley|    1|\n",
      "|        Kevin Ramos|56.0|      12217.95|              1| 5.79|     11.0|2016-11-17 14:37:01|5775 Jared Stream...|           Olsen LLC|    1|\n",
      "|      Jennifer Wood|35.0|       9381.12|              1| 6.78|     11.0|2006-03-27 20:52:42|1493 Phillips Hav...|Clark, Campbell a...|    1|\n",
      "|        Paul Walker|41.0|      10474.94|              0|  6.4|     12.0|2012-01-02 05:08:52|73006 Patty Avenu...|          Dalton LLC|    1|\n",
      "|        Lindsey Day|55.0|       11158.5|              1| 4.86|     10.0|2007-01-07 01:21:47|85934 Dakota Mall...|Thompson, Hansen ...|    1|\n",
      "|   Steven Hernandez|54.0|        8207.1|              0| 4.26|     11.0|2015-04-05 15:57:24|14609 Perez Turnp...|Yates, Martinez a...|    1|\n",
      "|      Danielle Kirk|35.0|      12403.81|              0| 4.42|     11.0|2007-07-31 06:39:54|20117 Johnson Por...|       Reeves-Curtis|    1|\n",
      "|        Troy Oliver|40.0|      10041.13|              0| 7.61|     11.0|2006-07-30 15:27:23|USCGC Blake FPO A...|           Gates Ltd|    1|\n",
      "|      Darlene Evans|44.0|      12721.55|              0| 5.18|     11.0|2011-04-25 02:53:25|950 Christina Via...|     Dunlap and Sons|    1|\n",
      "| Mrs. Sarah Morales|37.0|       8284.89|              1|  5.6|     10.0|2009-03-25 06:10:01|8807 Young Villag...|Taylor, Allen and...|    1|\n",
      "|       Laura Pierce|54.0|      10661.48|              1| 5.16|      8.0|2011-12-26 22:06:03|PSC 3912, Box 720...|      Charles-Branch|    1|\n",
      "|         Carla Ball|45.0|      10793.11|              1| 4.65|     10.0|2016-12-28 04:07:38|754 Shannon Mall ...|          Barton Inc|    1|\n",
      "|        Robert Hill|46.0|       9322.44|              1| 2.69|     11.0|2010-11-16 13:22:18|2088 Kelli Way Mi...|Stevens, Harris a...|    1|\n",
      "|     Joseph Harrell|44.0|       9814.22|              1| 5.45|     12.0|2010-01-23 07:15:58|USCGC Bell FPO AE...|Fitzgerald, Sherm...|    1|\n",
      "|     Tammy Shepherd|48.0|       11740.0|              1| 4.97|     11.0|2011-03-06 01:34:58|234 Gonzalez Terr...|          Martin Ltd|    1|\n",
      "|      Kelly Carroll|37.0|      14383.36|              0| 7.84|     10.0|2011-04-05 00:21:51|8268 Baker Rapid ...|Juarez, Pugh and ...|    1|\n",
      "|        Heidi Munoz|38.0|      11887.39|              0| 5.83|     12.0|2009-10-15 17:14:01|USCGC Mason FPO A...|     Mckinney-Rogers|    1|\n",
      "|      Thomas Sawyer|48.0|      10367.08|              1| 6.45|     12.0|2008-10-06 17:15:00|8113 Rodriguez Co...|Lopez, Kelly and ...|    1|\n",
      "|        Erin Rivera|37.0|       8198.06|              1| 5.04|     12.0|2016-11-06 01:13:12|34727 Randy Prair...|Wilkins, White an...|    1|\n",
      "|      Raymond Berry|41.0|       7777.37|              0| 4.81|     12.0|2014-01-20 08:53:20|75210 Mark Mill A...|Evans, Logan and ...|    1|\n",
      "|       Patrick Bell|41.0|      11699.26|              0| 6.99|     12.0|2010-03-31 14:45:01|93345 Monique Tun...|        Clark-Kramer|    1|\n",
      "|     Jason Jones MD|55.0|      16838.94|              1| 6.66|      8.0|2007-10-05 15:48:38|52454 Jessica Pas...|    Brown-Richardson|    1|\n",
      "|   Jermaine Johnson|36.0|      10484.33|              1| 8.84|     10.0|2008-04-29 09:07:51|4102 Griffin Cour...|Dunlap, Hughes an...|    1|\n",
      "|      George Archer|37.0|       8736.06|              1| 5.51|     12.0|2014-12-23 19:38:52|5645 Henderson St...|           Smith Inc|    1|\n",
      "|     Richard Fields|50.0|      10850.78|              1| 5.63|      9.0|2010-06-18 07:10:58|451 Flynn Streets...|        Brown-Bishop|    1|\n",
      "|     Amanda Roberts|43.0|       8601.01|              0| 5.65|     12.0|2007-02-03 17:52:51|PSC 9561, Box 407...|           Evans LLC|    1|\n",
      "|      David Kennedy|45.0|      11170.06|              1| 7.76|     10.0|2011-01-26 19:05:24|56990 Laurie Gard...|    Williams-Hoffman|    1|\n",
      "|        Adam Waters|40.0|      11185.62|              0| 6.26|     12.0|2006-03-06 18:36:47|6040 Juan Forge P...|            Reed Ltd|    1|\n",
      "|   Patricia Elliott|36.0|       9793.42|              0| 5.98|      9.0|2007-11-27 12:24:48|9072 Martinez Squ...|           Ortiz Ltd|    1|\n",
      "|       Summer Haley|43.0|      12524.68|              0| 5.98|     10.0|2010-05-27 04:46:05|312 Wilson Oval S...|White, Vargas and...|    1|\n",
      "+-------------------+----+--------------+---------------+-----+---------+-------------------+--------------------+--------------------+-----+\n"
     ]
    }
   ],
   "source": [
    "df.show(50)"
   ],
   "metadata": {
    "collapsed": false,
    "ExecuteTime": {
     "end_time": "2024-01-12T18:28:08.083712300Z",
     "start_time": "2024-01-12T18:28:07.930827600Z"
    }
   },
   "id": "aa77ef1387b249a2",
   "execution_count": 11
  },
  {
   "cell_type": "code",
   "outputs": [
    {
     "data": {
      "text/plain": "900"
     },
     "execution_count": 19,
     "metadata": {},
     "output_type": "execute_result"
    }
   ],
   "source": [
    "df.count()"
   ],
   "metadata": {
    "collapsed": false,
    "ExecuteTime": {
     "end_time": "2024-01-12T18:30:44.287443100Z",
     "start_time": "2024-01-12T18:30:44.219349800Z"
    }
   },
   "id": "415090b61a18f4f0",
   "execution_count": 19
  },
  {
   "cell_type": "code",
   "outputs": [
    {
     "data": {
      "text/plain": "900"
     },
     "execution_count": 20,
     "metadata": {},
     "output_type": "execute_result"
    }
   ],
   "source": [
    "df.select(['Location']).distinct().count()"
   ],
   "metadata": {
    "collapsed": false,
    "ExecuteTime": {
     "end_time": "2024-01-12T18:30:45.206981700Z",
     "start_time": "2024-01-12T18:30:45.034975700Z"
    }
   },
   "id": "9642ba21e6a77f02",
   "execution_count": 20
  },
  {
   "cell_type": "code",
   "outputs": [
    {
     "data": {
      "text/plain": "873"
     },
     "execution_count": 21,
     "metadata": {},
     "output_type": "execute_result"
    }
   ],
   "source": [
    "df.select(['Company']).distinct().count()"
   ],
   "metadata": {
    "collapsed": false,
    "ExecuteTime": {
     "end_time": "2024-01-12T18:30:55.400405300Z",
     "start_time": "2024-01-12T18:30:55.236082900Z"
    }
   },
   "id": "5ebdf293dee1a5ba",
   "execution_count": 21
  },
  {
   "cell_type": "code",
   "outputs": [
    {
     "data": {
      "text/plain": "900"
     },
     "execution_count": 22,
     "metadata": {},
     "output_type": "execute_result"
    }
   ],
   "source": [
    "df.select(['Onboard_date']).distinct().count()\n"
   ],
   "metadata": {
    "collapsed": false,
    "ExecuteTime": {
     "end_time": "2024-01-12T18:31:16.094202700Z",
     "start_time": "2024-01-12T18:31:15.821350600Z"
    }
   },
   "id": "1f8c5855d324936e",
   "execution_count": 22
  },
  {
   "cell_type": "code",
   "outputs": [
    {
     "data": {
      "text/plain": "['Names',\n 'Age',\n 'Total_Purchase',\n 'Account_Manager',\n 'Years',\n 'Num_Sites',\n 'Onboard_date',\n 'Location',\n 'Company',\n 'Churn']"
     },
     "execution_count": 23,
     "metadata": {},
     "output_type": "execute_result"
    }
   ],
   "source": [
    "df.columns"
   ],
   "metadata": {
    "collapsed": false,
    "ExecuteTime": {
     "end_time": "2024-01-12T18:31:41.425176600Z",
     "start_time": "2024-01-12T18:31:41.374173300Z"
    }
   },
   "id": "8b10446f22c3ca8c",
   "execution_count": 23
  },
  {
   "cell_type": "code",
   "outputs": [],
   "source": [
    "chosen_cols = df.select([\n",
    " 'Age',\n",
    " 'Total_Purchase',\n",
    " 'Years',\n",
    " 'Num_Sites',\n",
    " 'Churn'])"
   ],
   "metadata": {
    "collapsed": false,
    "ExecuteTime": {
     "end_time": "2024-01-12T18:31:41.888653Z",
     "start_time": "2024-01-12T18:31:41.867578800Z"
    }
   },
   "id": "d0449b9eebce8c66",
   "execution_count": 24
  },
  {
   "cell_type": "code",
   "outputs": [],
   "source": [
    "final_data = chosen_cols.dropna()"
   ],
   "metadata": {
    "collapsed": false,
    "ExecuteTime": {
     "end_time": "2024-01-12T18:41:15.075313900Z",
     "start_time": "2024-01-12T18:41:15.055313400Z"
    }
   },
   "id": "a9375d2f8a5901b2",
   "execution_count": 41
  },
  {
   "cell_type": "code",
   "outputs": [
    {
     "name": "stdout",
     "output_type": "stream",
     "text": [
      "+----+--------------+-----+---------+-----+\n",
      "| Age|Total_Purchase|Years|Num_Sites|Churn|\n",
      "+----+--------------+-----+---------+-----+\n",
      "|42.0|       11066.8| 7.22|      8.0|    1|\n",
      "|41.0|      11916.22|  6.5|     11.0|    1|\n",
      "|38.0|      12884.75| 6.67|     12.0|    1|\n",
      "|42.0|       8010.76| 6.71|     10.0|    1|\n",
      "|37.0|       9191.58| 5.56|      9.0|    1|\n",
      "|48.0|      10356.02| 5.12|      8.0|    1|\n",
      "|44.0|      11331.58| 5.23|     11.0|    1|\n",
      "|32.0|       9885.12| 6.92|      9.0|    1|\n",
      "|43.0|       14062.6| 5.46|     11.0|    1|\n",
      "|40.0|       8066.94| 7.11|     11.0|    1|\n",
      "|30.0|      11575.37| 5.22|      8.0|    1|\n",
      "|45.0|       8771.02| 6.64|     11.0|    1|\n",
      "|45.0|       8988.67| 4.84|     11.0|    1|\n",
      "|40.0|       8283.32|  5.1|     13.0|    1|\n",
      "|41.0|       6569.87|  4.3|     11.0|    1|\n",
      "|38.0|      10494.82| 6.81|     12.0|    1|\n",
      "|45.0|       8213.41| 7.35|     11.0|    1|\n",
      "|43.0|      11226.88| 8.08|     12.0|    1|\n",
      "|53.0|       5515.09| 6.85|      8.0|    1|\n",
      "|46.0|        8046.4| 5.69|      8.0|    1|\n",
      "+----+--------------+-----+---------+-----+\n"
     ]
    }
   ],
   "source": [
    "final_data.show()"
   ],
   "metadata": {
    "collapsed": false,
    "ExecuteTime": {
     "end_time": "2024-01-12T18:41:15.740774100Z",
     "start_time": "2024-01-12T18:41:15.566312800Z"
    }
   },
   "id": "7488169af2762ae2",
   "execution_count": 42
  },
  {
   "cell_type": "code",
   "outputs": [],
   "source": [
    "from pyspark.ml.feature import (VectorAssembler, VectorIndexer, OneHotEncoder, StringIndexer)"
   ],
   "metadata": {
    "collapsed": false,
    "ExecuteTime": {
     "end_time": "2024-01-12T18:34:47.732779900Z",
     "start_time": "2024-01-12T18:34:47.718779500Z"
    }
   },
   "id": "1ca9f5accf836de5",
   "execution_count": 29
  },
  {
   "cell_type": "code",
   "outputs": [
    {
     "name": "stdout",
     "output_type": "stream",
     "text": [
      "+----+--------------+-----+---------+-----+--------------------+\n",
      "| Age|Total_Purchase|Years|Num_Sites|Churn|            features|\n",
      "+----+--------------+-----+---------+-----+--------------------+\n",
      "|42.0|       11066.8| 7.22|      8.0|    1|[42.0,11066.8,7.2...|\n",
      "|41.0|      11916.22|  6.5|     11.0|    1|[41.0,11916.22,6....|\n",
      "|38.0|      12884.75| 6.67|     12.0|    1|[38.0,12884.75,6....|\n",
      "|42.0|       8010.76| 6.71|     10.0|    1|[42.0,8010.76,6.7...|\n",
      "|37.0|       9191.58| 5.56|      9.0|    1|[37.0,9191.58,5.5...|\n",
      "|48.0|      10356.02| 5.12|      8.0|    1|[48.0,10356.02,5....|\n",
      "|44.0|      11331.58| 5.23|     11.0|    1|[44.0,11331.58,5....|\n",
      "|32.0|       9885.12| 6.92|      9.0|    1|[32.0,9885.12,6.9...|\n",
      "|43.0|       14062.6| 5.46|     11.0|    1|[43.0,14062.6,5.4...|\n",
      "|40.0|       8066.94| 7.11|     11.0|    1|[40.0,8066.94,7.1...|\n",
      "|30.0|      11575.37| 5.22|      8.0|    1|[30.0,11575.37,5....|\n",
      "|45.0|       8771.02| 6.64|     11.0|    1|[45.0,8771.02,6.6...|\n",
      "|45.0|       8988.67| 4.84|     11.0|    1|[45.0,8988.67,4.8...|\n",
      "|40.0|       8283.32|  5.1|     13.0|    1|[40.0,8283.32,5.1...|\n",
      "|41.0|       6569.87|  4.3|     11.0|    1|[41.0,6569.87,4.3...|\n",
      "|38.0|      10494.82| 6.81|     12.0|    1|[38.0,10494.82,6....|\n",
      "|45.0|       8213.41| 7.35|     11.0|    1|[45.0,8213.41,7.3...|\n",
      "|43.0|      11226.88| 8.08|     12.0|    1|[43.0,11226.88,8....|\n",
      "|53.0|       5515.09| 6.85|      8.0|    1|[53.0,5515.09,6.8...|\n",
      "|46.0|        8046.4| 5.69|      8.0|    1|[46.0,8046.4,5.69...|\n",
      "+----+--------------+-----+---------+-----+--------------------+\n"
     ]
    }
   ],
   "source": [
    "assembler = VectorAssembler(inputCols=['Age', 'Total_Purchase', 'Years', 'Num_Sites'], outputCol='features')\n",
    "output = assembler.transform(final_data)\n",
    "output.show()"
   ],
   "metadata": {
    "collapsed": false,
    "ExecuteTime": {
     "end_time": "2024-01-12T19:43:21.589644700Z",
     "start_time": "2024-01-12T19:43:20.745585100Z"
    }
   },
   "id": "c6e0b1515d8a2b0e",
   "execution_count": 60
  },
  {
   "cell_type": "code",
   "outputs": [],
   "source": [
    "from pyspark.ml.classification import LogisticRegression\n",
    "from pyspark.ml import Pipeline"
   ],
   "metadata": {
    "collapsed": false,
    "ExecuteTime": {
     "end_time": "2024-01-12T18:36:42.777265400Z",
     "start_time": "2024-01-12T18:36:42.763264800Z"
    }
   },
   "id": "95133b7d377972c2",
   "execution_count": 33
  },
  {
   "cell_type": "code",
   "outputs": [],
   "source": [
    "log_reg_customers = LogisticRegression(featuresCol='features', labelCol='Churn')"
   ],
   "metadata": {
    "collapsed": false,
    "ExecuteTime": {
     "end_time": "2024-01-12T18:36:43.043120300Z",
     "start_time": "2024-01-12T18:36:43.000071600Z"
    }
   },
   "id": "5e73f0f2eaf39679",
   "execution_count": 34
  },
  {
   "cell_type": "code",
   "outputs": [],
   "source": [
    "pipeline = Pipeline(stages=[assembler, log_reg_customers])"
   ],
   "metadata": {
    "collapsed": false,
    "ExecuteTime": {
     "end_time": "2024-01-12T18:37:02.524906500Z",
     "start_time": "2024-01-12T18:37:02.506905100Z"
    }
   },
   "id": "6c96d9b0483f5e86",
   "execution_count": 35
  },
  {
   "cell_type": "code",
   "outputs": [],
   "source": [
    "train_data, test_data = final_data.randomSplit([0.8, 0.2])"
   ],
   "metadata": {
    "collapsed": false,
    "ExecuteTime": {
     "end_time": "2024-01-12T19:49:40.004856100Z",
     "start_time": "2024-01-12T19:49:39.988856400Z"
    }
   },
   "id": "352eb5ceed02a1c5",
   "execution_count": 87
  },
  {
   "cell_type": "code",
   "outputs": [],
   "source": [
    "fit_model = pipeline.fit(train_data)"
   ],
   "metadata": {
    "collapsed": false,
    "ExecuteTime": {
     "end_time": "2024-01-12T19:49:40.792475100Z",
     "start_time": "2024-01-12T19:49:40.302857Z"
    }
   },
   "id": "ddabaa36f5dc169a",
   "execution_count": 88
  },
  {
   "cell_type": "code",
   "outputs": [],
   "source": [
    "test_results = fit_model.transform(test_data)"
   ],
   "metadata": {
    "collapsed": false,
    "ExecuteTime": {
     "end_time": "2024-01-12T19:49:40.844121500Z",
     "start_time": "2024-01-12T19:49:40.795478200Z"
    }
   },
   "id": "f1ee02c830819ffe",
   "execution_count": 89
  },
  {
   "cell_type": "code",
   "outputs": [
    {
     "name": "stdout",
     "output_type": "stream",
     "text": [
      "+-----+----------+\n",
      "|Churn|prediction|\n",
      "+-----+----------+\n",
      "|    0|       0.0|\n",
      "|    0|       0.0|\n",
      "|    0|       0.0|\n",
      "|    1|       0.0|\n",
      "|    0|       0.0|\n",
      "|    0|       0.0|\n",
      "|    0|       0.0|\n",
      "|    0|       0.0|\n",
      "|    0|       0.0|\n",
      "|    0|       0.0|\n",
      "|    0|       0.0|\n",
      "|    1|       0.0|\n",
      "|    0|       0.0|\n",
      "|    0|       0.0|\n",
      "|    0|       0.0|\n",
      "|    0|       0.0|\n",
      "|    0|       0.0|\n",
      "|    0|       0.0|\n",
      "|    0|       0.0|\n",
      "|    0|       0.0|\n",
      "+-----+----------+\n"
     ]
    }
   ],
   "source": [
    "test_results.select(['Churn', 'prediction']).show()"
   ],
   "metadata": {
    "collapsed": false,
    "ExecuteTime": {
     "end_time": "2024-01-12T19:49:41.030122400Z",
     "start_time": "2024-01-12T19:49:40.957122600Z"
    }
   },
   "id": "8772583cf1435eac",
   "execution_count": 90
  },
  {
   "cell_type": "code",
   "outputs": [],
   "source": [
    "from pyspark.ml.evaluation import BinaryClassificationEvaluator"
   ],
   "metadata": {
    "collapsed": false,
    "ExecuteTime": {
     "end_time": "2024-01-12T19:49:41.794807900Z",
     "start_time": "2024-01-12T19:49:41.786807900Z"
    }
   },
   "id": "4910f9fbec64c378",
   "execution_count": 91
  },
  {
   "cell_type": "code",
   "outputs": [],
   "source": [
    "my_evaluator = BinaryClassificationEvaluator(rawPredictionCol='prediction', labelCol='Churn')"
   ],
   "metadata": {
    "collapsed": false,
    "ExecuteTime": {
     "end_time": "2024-01-12T19:49:42.247358300Z",
     "start_time": "2024-01-12T19:49:42.237358400Z"
    }
   },
   "id": "76a18c69fea78ef3",
   "execution_count": 92
  },
  {
   "cell_type": "code",
   "outputs": [
    {
     "data": {
      "text/plain": "0.7365319865319866"
     },
     "execution_count": 93,
     "metadata": {},
     "output_type": "execute_result"
    }
   ],
   "source": [
    "AUC = my_evaluator.evaluate(test_results)\n",
    "AUC"
   ],
   "metadata": {
    "collapsed": false,
    "ExecuteTime": {
     "end_time": "2024-01-12T19:49:42.838581400Z",
     "start_time": "2024-01-12T19:49:42.663357200Z"
    }
   },
   "id": "17996ae2d6524ff5",
   "execution_count": 93
  },
  {
   "cell_type": "code",
   "outputs": [],
   "source": [
    "new_customers = spark.read.csv('./data/ML/logistic/new_customers.csv', header=True, inferSchema=True)"
   ],
   "metadata": {
    "collapsed": false,
    "ExecuteTime": {
     "end_time": "2024-01-12T19:49:43.589591200Z",
     "start_time": "2024-01-12T19:49:43.434595400Z"
    }
   },
   "id": "c39a1d39c381623c",
   "execution_count": 94
  },
  {
   "cell_type": "code",
   "outputs": [],
   "source": [
    "results = fit_model.transform(new_customers)"
   ],
   "metadata": {
    "collapsed": false,
    "ExecuteTime": {
     "end_time": "2024-01-12T19:49:43.922594400Z",
     "start_time": "2024-01-12T19:49:43.879594400Z"
    }
   },
   "id": "957c811b7e9e69ed",
   "execution_count": 95
  },
  {
   "cell_type": "code",
   "outputs": [
    {
     "name": "stdout",
     "output_type": "stream",
     "text": [
      "+--------------+----+--------------+---------------+-----+---------+-------------------+--------------------+----------------+--------------------+--------------------+--------------------+----------+\n",
      "|         Names| Age|Total_Purchase|Account_Manager|Years|Num_Sites|       Onboard_date|            Location|         Company|            features|       rawPrediction|         probability|prediction|\n",
      "+--------------+----+--------------+---------------+-----+---------+-------------------+--------------------+----------------+--------------------+--------------------+--------------------+----------+\n",
      "| Andrew Mccall|37.0|       9935.53|              1| 7.71|      8.0|2011-08-29 18:37:54|38612 Johnny Stra...|        King Ltd|[37.0,9935.53,7.7...|[2.89442219926861...|[0.94757001654367...|       0.0|\n",
      "|Michele Wright|23.0|       7526.94|              1| 9.28|     15.0|2013-07-22 18:19:54|21083 Nicole Junc...|   Cannon-Benson|[23.0,7526.94,9.2...|[-6.2140507028118...|[0.00199711863770...|       1.0|\n",
      "|  Jeremy Chang|65.0|         100.0|              1|  1.0|     15.0|2006-12-11 07:48:13|085 Austin Views ...|Barron-Robertson|[65.0,100.0,1.0,1...|[-4.9913188759751...|[0.00675081137812...|       1.0|\n",
      "|Megan Ferguson|32.0|        6487.5|              0|  9.4|     14.0|2016-10-28 05:32:13|922 Wright Branch...|   Sexton-Golden|[32.0,6487.5,9.4,...|[-5.5211644002121...|[0.00398524055675...|       1.0|\n",
      "|  Taylor Young|32.0|      13147.71|              1| 10.0|      8.0|2012-03-20 00:36:46|Unit 0789 Box 073...|        Wood LLC|[32.0,13147.71,10...|[2.09897501590350...|[0.89080351585451...|       0.0|\n",
      "| Jessica Drake|22.0|       8445.26|              1| 3.46|     14.0|2011-02-04 19:29:27|1148 Tina Straven...|   Parks-Robbins|[22.0,8445.26,3.4...|[-2.0791348558880...|[0.11114140467863...|       1.0|\n",
      "+--------------+----+--------------+---------------+-----+---------+-------------------+--------------------+----------------+--------------------+--------------------+--------------------+----------+\n"
     ]
    }
   ],
   "source": [
    "results.show()"
   ],
   "metadata": {
    "collapsed": false,
    "ExecuteTime": {
     "end_time": "2024-01-12T19:49:44.637590800Z",
     "start_time": "2024-01-12T19:49:44.530591600Z"
    }
   },
   "id": "4dee868ed9c23984",
   "execution_count": 96
  },
  {
   "cell_type": "code",
   "outputs": [],
   "source": [],
   "metadata": {
    "collapsed": false
   },
   "id": "fed78c332bf1a868"
  }
 ],
 "metadata": {
  "kernelspec": {
   "display_name": "Python 3",
   "language": "python",
   "name": "python3"
  },
  "language_info": {
   "codemirror_mode": {
    "name": "ipython",
    "version": 2
   },
   "file_extension": ".py",
   "mimetype": "text/x-python",
   "name": "python",
   "nbconvert_exporter": "python",
   "pygments_lexer": "ipython2",
   "version": "2.7.6"
  }
 },
 "nbformat": 4,
 "nbformat_minor": 5
}
