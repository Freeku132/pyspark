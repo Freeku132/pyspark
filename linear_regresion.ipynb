{
 "cells": [
  {
   "cell_type": "code",
   "execution_count": 1,
   "id": "initial_id",
   "metadata": {
    "collapsed": true,
    "ExecuteTime": {
     "end_time": "2023-12-26T22:28:36.631318400Z",
     "start_time": "2023-12-26T22:28:36.321701500Z"
    }
   },
   "outputs": [],
   "source": [
    "from pyspark.sql import SparkSession\n",
    "from pyspark.ml.regression import LinearRegression"
   ]
  },
  {
   "cell_type": "code",
   "outputs": [
    {
     "name": "stderr",
     "output_type": "stream",
     "text": [
      "23/12/26 23:28:38 WARN Utils: Your hostname, DESKTOP-0HJMRJF resolves to a loopback address: 127.0.1.1; using 172.25.126.173 instead (on interface eth0)\n",
      "23/12/26 23:28:38 WARN Utils: Set SPARK_LOCAL_IP if you need to bind to another address\n",
      "Setting default log level to \"WARN\".\n",
      "To adjust logging level use sc.setLogLevel(newLevel). For SparkR, use setLogLevel(newLevel).\n",
      "23/12/26 23:28:40 WARN NativeCodeLoader: Unable to load native-hadoop library for your platform... using builtin-java classes where applicable\n",
      "23/12/26 23:28:41 WARN Utils: Service 'SparkUI' could not bind on port 4040. Attempting port 4041.\n"
     ]
    }
   ],
   "source": [
    "spark = SparkSession.builder.appName(\"Linear\").getOrCreate();"
   ],
   "metadata": {
    "collapsed": false,
    "ExecuteTime": {
     "end_time": "2023-12-26T22:28:41.520229100Z",
     "start_time": "2023-12-26T22:28:36.611315100Z"
    }
   },
   "id": "fd1f808fd49cf9be",
   "execution_count": 2
  },
  {
   "cell_type": "code",
   "outputs": [],
   "source": [
    "data = spark.read.csv('./data/ML/Ecommerce_Customers.csv', header=True, inferSchema=True)"
   ],
   "metadata": {
    "collapsed": false,
    "ExecuteTime": {
     "end_time": "2023-12-26T22:28:45.882558800Z",
     "start_time": "2023-12-26T22:28:41.523230400Z"
    }
   },
   "id": "26e2ae7471289683",
   "execution_count": 3
  },
  {
   "cell_type": "code",
   "outputs": [
    {
     "name": "stdout",
     "output_type": "stream",
     "text": [
      "root\n",
      " |-- Email: string (nullable = true)\n",
      " |-- Address: string (nullable = true)\n",
      " |-- Avatar: string (nullable = true)\n",
      " |-- Avg Session Length: double (nullable = true)\n",
      " |-- Time on App: double (nullable = true)\n",
      " |-- Time on Website: double (nullable = true)\n",
      " |-- Length of Membership: double (nullable = true)\n",
      " |-- Yearly Amount Spent: double (nullable = true)\n"
     ]
    }
   ],
   "source": [
    "data.printSchema()"
   ],
   "metadata": {
    "collapsed": false,
    "ExecuteTime": {
     "end_time": "2023-12-26T22:28:45.885559200Z",
     "start_time": "2023-12-26T22:28:45.877561100Z"
    }
   },
   "id": "a97fabea90d0233",
   "execution_count": 4
  },
  {
   "cell_type": "code",
   "outputs": [
    {
     "name": "stdout",
     "output_type": "stream",
     "text": [
      "+--------------------+--------------------+----------------+------------------+------------------+------------------+--------------------+-------------------+\n",
      "|               Email|             Address|          Avatar|Avg Session Length|       Time on App|   Time on Website|Length of Membership|Yearly Amount Spent|\n",
      "+--------------------+--------------------+----------------+------------------+------------------+------------------+--------------------+-------------------+\n",
      "|mstephenson@ferna...|835 Frank TunnelW...|          Violet| 34.49726772511229| 12.65565114916675| 39.57766801952616|  4.0826206329529615|  587.9510539684005|\n",
      "|   hduke@hotmail.com|4547 Archer Commo...|       DarkGreen| 31.92627202636016|11.109460728682564|37.268958868297744|    2.66403418213262|  392.2049334443264|\n",
      "|    pallen@yahoo.com|24645 Valerie Uni...|          Bisque|33.000914755642675|11.330278057777512|37.110597442120856|   4.104543202376424| 487.54750486747207|\n",
      "|riverarebecca@gma...|1414 David Throug...|     SaddleBrown| 34.30555662975554|13.717513665142507| 36.72128267790313|   3.120178782748092|  581.8523440352177|\n",
      "|mstephens@davidso...|14023 Rodriguez P...|MediumAquaMarine| 33.33067252364639|12.795188551078114| 37.53665330059473|   4.446308318351434|  599.4060920457634|\n",
      "|alvareznancy@luca...|645 Martha Park A...|     FloralWhite|33.871037879341976|12.026925339755056| 34.47687762925054|   5.493507201364199|   637.102447915074|\n",
      "|katherine20@yahoo...|68388 Reyes Light...|   DarkSlateBlue| 32.02159550138701|11.366348309710526| 36.68377615286961|   4.685017246570912|  521.5721747578274|\n",
      "|  awatkins@yahoo.com|Unit 6538 Box 898...|            Aqua|32.739142938380326| 12.35195897300293| 37.37335885854755|  4.4342734348999375|  549.9041461052942|\n",
      "|vchurch@walter-ma...|860 Lee KeyWest D...|          Salmon| 33.98777289568564|13.386235275676436|37.534497341555735|  3.2734335777477144|  570.2004089636196|\n",
      "|    bonnie69@lin.biz|PSC 2734, Box 525...|           Brown|31.936548618448917|11.814128294972196| 37.14516822352819|   3.202806071553459|  427.1993848953282|\n",
      "|andrew06@peterson...|26104 Alexander G...|          Tomato|33.992572774953736|13.338975447662113| 37.22580613162114|   2.482607770510596|  492.6060127179966|\n",
      "|ryanwerner@freema...|Unit 2413 Box 034...|          Tomato| 33.87936082480498|11.584782999535266| 37.08792607098381|    3.71320920294043|  522.3374046069357|\n",
      "|   knelson@gmail.com|6705 Miller Orcha...|       RoyalBlue|29.532428967057943|10.961298400154098| 37.42021557502538|   4.046423164299585|  408.6403510726275|\n",
      "|wrightpeter@yahoo...|05302 Dunlap Ferr...|          Bisque| 33.19033404372265|12.959226091609382|36.144666700041924|   3.918541839158999|  573.4158673313865|\n",
      "|taylormason@gmail...|7773 Powell Sprin...|        DarkBlue|32.387975853153876|13.148725692056516| 36.61995708279922|   2.494543646659249|  470.4527333009554|\n",
      "| jstark@anderson.com|49558 Ramirez Roa...|            Peru|30.737720372628182|12.636606052000127|36.213763093698624|  3.3578468423262944|  461.7807421962299|\n",
      "| wjennings@gmail.com|6362 Wilson Mount...|      PowderBlue| 32.12538689728784|11.733861690857394|  34.8940927514398|  3.1361327164897803| 457.84769594494855|\n",
      "|rebecca45@hale-ba...|8982 Burton RowWi...|       OliveDrab|32.338899323067196|12.013194694014402| 38.38513659413844|   2.420806160901484| 407.70454754954415|\n",
      "|alejandro75@hotma...|64475 Andre Club ...|            Cyan|32.187812045932155|  14.7153875441565| 38.24411459434352|   1.516575580831944|  452.3156754800354|\n",
      "|samuel46@love-wes...|544 Alexander Hei...|   LightSeaGreen| 32.61785606282345|13.989592555825254|37.190503800397956|   4.064548550437977|   605.061038804892|\n",
      "+--------------------+--------------------+----------------+------------------+------------------+------------------+--------------------+-------------------+\n"
     ]
    }
   ],
   "source": [
    "data.show()"
   ],
   "metadata": {
    "collapsed": false,
    "ExecuteTime": {
     "end_time": "2023-12-26T22:28:46.185373500Z",
     "start_time": "2023-12-26T22:28:45.930084500Z"
    }
   },
   "id": "8cb3fbdefe17b59a",
   "execution_count": 5
  },
  {
   "cell_type": "code",
   "outputs": [],
   "source": [
    "from pyspark.ml.linalg import Vectors\n",
    "from pyspark.ml.feature import VectorAssembler"
   ],
   "metadata": {
    "collapsed": false,
    "ExecuteTime": {
     "end_time": "2023-12-26T22:28:46.186371800Z",
     "start_time": "2023-12-26T22:28:46.181373500Z"
    }
   },
   "id": "c68414ac8fdb5783",
   "execution_count": 6
  },
  {
   "cell_type": "code",
   "outputs": [
    {
     "data": {
      "text/plain": "['Email',\n 'Address',\n 'Avatar',\n 'Avg Session Length',\n 'Time on App',\n 'Time on Website',\n 'Length of Membership',\n 'Yearly Amount Spent']"
     },
     "execution_count": 7,
     "metadata": {},
     "output_type": "execute_result"
    }
   ],
   "source": [
    "data.columns"
   ],
   "metadata": {
    "collapsed": false,
    "ExecuteTime": {
     "end_time": "2023-12-26T22:28:46.248374200Z",
     "start_time": "2023-12-26T22:28:46.185373500Z"
    }
   },
   "id": "c03b010f53bf3c9",
   "execution_count": 7
  },
  {
   "cell_type": "code",
   "outputs": [],
   "source": [
    "assembler = VectorAssembler(inputCols=['Avg Session Length', 'Time on App', 'Time on Website', 'Length of Membership'], outputCol='features')"
   ],
   "metadata": {
    "collapsed": false,
    "ExecuteTime": {
     "end_time": "2023-12-26T22:28:59.926235300Z",
     "start_time": "2023-12-26T22:28:59.886965Z"
    }
   },
   "id": "bc5efb47c3be9cc4",
   "execution_count": 8
  },
  {
   "cell_type": "code",
   "outputs": [],
   "source": [
    "output = assembler.transform(data)"
   ],
   "metadata": {
    "collapsed": false,
    "ExecuteTime": {
     "end_time": "2023-12-26T22:29:51.693674200Z",
     "start_time": "2023-12-26T22:29:51.598668600Z"
    }
   },
   "id": "b57811d34479076e",
   "execution_count": 11
  },
  {
   "cell_type": "code",
   "outputs": [
    {
     "name": "stdout",
     "output_type": "stream",
     "text": [
      "root\n",
      " |-- Email: string (nullable = true)\n",
      " |-- Address: string (nullable = true)\n",
      " |-- Avatar: string (nullable = true)\n",
      " |-- Avg Session Length: double (nullable = true)\n",
      " |-- Time on App: double (nullable = true)\n",
      " |-- Time on Website: double (nullable = true)\n",
      " |-- Length of Membership: double (nullable = true)\n",
      " |-- Yearly Amount Spent: double (nullable = true)\n",
      " |-- features: vector (nullable = true)\n"
     ]
    }
   ],
   "source": [
    "output.printSchema()"
   ],
   "metadata": {
    "collapsed": false,
    "ExecuteTime": {
     "end_time": "2023-12-26T22:30:58.094244700Z",
     "start_time": "2023-12-26T22:30:58.048243400Z"
    }
   },
   "id": "e00d014ee6fb7b25",
   "execution_count": 14
  },
  {
   "cell_type": "code",
   "outputs": [],
   "source": [
    "final_data = output.select('features', 'Yearly Amount Spent')"
   ],
   "metadata": {
    "collapsed": false,
    "ExecuteTime": {
     "end_time": "2023-12-26T22:31:24.569856700Z",
     "start_time": "2023-12-26T22:31:24.546857100Z"
    }
   },
   "id": "5fc3a0c1f4e477c0",
   "execution_count": 15
  },
  {
   "cell_type": "code",
   "outputs": [
    {
     "name": "stdout",
     "output_type": "stream",
     "text": [
      "+--------------------+-------------------+\n",
      "|            features|Yearly Amount Spent|\n",
      "+--------------------+-------------------+\n",
      "|[34.4972677251122...|  587.9510539684005|\n",
      "|[31.9262720263601...|  392.2049334443264|\n",
      "|[33.0009147556426...| 487.54750486747207|\n",
      "|[34.3055566297555...|  581.8523440352177|\n",
      "|[33.3306725236463...|  599.4060920457634|\n",
      "|[33.8710378793419...|   637.102447915074|\n",
      "|[32.0215955013870...|  521.5721747578274|\n",
      "|[32.7391429383803...|  549.9041461052942|\n",
      "|[33.9877728956856...|  570.2004089636196|\n",
      "|[31.9365486184489...|  427.1993848953282|\n",
      "|[33.9925727749537...|  492.6060127179966|\n",
      "|[33.8793608248049...|  522.3374046069357|\n",
      "|[29.5324289670579...|  408.6403510726275|\n",
      "|[33.1903340437226...|  573.4158673313865|\n",
      "|[32.3879758531538...|  470.4527333009554|\n",
      "|[30.7377203726281...|  461.7807421962299|\n",
      "|[32.1253868972878...| 457.84769594494855|\n",
      "|[32.3388993230671...| 407.70454754954415|\n",
      "|[32.1878120459321...|  452.3156754800354|\n",
      "|[32.6178560628234...|   605.061038804892|\n",
      "+--------------------+-------------------+\n"
     ]
    }
   ],
   "source": [
    "final_data.show()"
   ],
   "metadata": {
    "collapsed": false,
    "ExecuteTime": {
     "end_time": "2023-12-26T22:31:32.646579Z",
     "start_time": "2023-12-26T22:31:32.519559Z"
    }
   },
   "id": "4bb64c05c9d91f32",
   "execution_count": 17
  },
  {
   "cell_type": "code",
   "outputs": [],
   "source": [
    "train_data,test_data = final_data.randomSplit([0.7,0.3])"
   ],
   "metadata": {
    "collapsed": false,
    "ExecuteTime": {
     "end_time": "2023-12-26T22:36:33.535788300Z",
     "start_time": "2023-12-26T22:36:33.508786400Z"
    }
   },
   "id": "c4b837aa99255ce",
   "execution_count": 18
  },
  {
   "cell_type": "code",
   "outputs": [
    {
     "name": "stdout",
     "output_type": "stream",
     "text": [
      "+-------+-------------------+\n",
      "|summary|Yearly Amount Spent|\n",
      "+-------+-------------------+\n",
      "|  count|                353|\n",
      "|   mean|  500.9201265761463|\n",
      "| stddev|  80.68349545690265|\n",
      "|    min|   266.086340948469|\n",
      "|    max|  765.5184619388373|\n",
      "+-------+-------------------+\n"
     ]
    }
   ],
   "source": [
    "train_data.describe().show()"
   ],
   "metadata": {
    "collapsed": false,
    "ExecuteTime": {
     "end_time": "2023-12-26T22:36:58.662772100Z",
     "start_time": "2023-12-26T22:36:57.874725100Z"
    }
   },
   "id": "acd6b2cdfbfa4800",
   "execution_count": 20
  },
  {
   "cell_type": "code",
   "outputs": [
    {
     "name": "stdout",
     "output_type": "stream",
     "text": [
      "+-------+-------------------+\n",
      "|summary|Yearly Amount Spent|\n",
      "+-------+-------------------+\n",
      "|  count|                147|\n",
      "|   mean| 495.45724114228415|\n",
      "| stddev|   76.0574029158347|\n",
      "|    min| 256.67058229005585|\n",
      "|    max|  744.2218671047146|\n",
      "+-------+-------------------+\n"
     ]
    }
   ],
   "source": [
    "test_data.describe().show()"
   ],
   "metadata": {
    "collapsed": false,
    "ExecuteTime": {
     "end_time": "2023-12-26T22:37:10.579285400Z",
     "start_time": "2023-12-26T22:37:10.266514400Z"
    }
   },
   "id": "3b54433d23b9aebe",
   "execution_count": 21
  },
  {
   "cell_type": "code",
   "outputs": [],
   "source": [
    "lr = LinearRegression(labelCol='Yearly Amount Spent')"
   ],
   "metadata": {
    "collapsed": false,
    "ExecuteTime": {
     "end_time": "2023-12-26T22:38:35.497184200Z",
     "start_time": "2023-12-26T22:38:35.479183300Z"
    }
   },
   "id": "19598296d74aa1b0",
   "execution_count": 24
  },
  {
   "cell_type": "code",
   "outputs": [
    {
     "name": "stderr",
     "output_type": "stream",
     "text": [
      "23/12/26 23:38:36 WARN Instrumentation: [217db1f5] regParam is zero, which might cause numerical instability and overfitting.\n",
      "23/12/26 23:38:36 WARN InstanceBuilder: Failed to load implementation from:dev.ludovic.netlib.lapack.JNILAPACK\n"
     ]
    }
   ],
   "source": [
    "lr_model = lr.fit(train_data)"
   ],
   "metadata": {
    "collapsed": false,
    "ExecuteTime": {
     "end_time": "2023-12-26T22:38:36.823874800Z",
     "start_time": "2023-12-26T22:38:36.123170100Z"
    }
   },
   "id": "b4efe561fe4810af",
   "execution_count": 25
  },
  {
   "cell_type": "code",
   "outputs": [],
   "source": [
    "test_result = lr_model.evaluate(test_data)"
   ],
   "metadata": {
    "collapsed": false,
    "ExecuteTime": {
     "end_time": "2023-12-26T22:39:03.426925100Z",
     "start_time": "2023-12-26T22:39:03.234975200Z"
    }
   },
   "id": "dee88643134bd714",
   "execution_count": 27
  },
  {
   "cell_type": "code",
   "outputs": [
    {
     "name": "stdout",
     "output_type": "stream",
     "text": [
      "+-------------------+\n",
      "|          residuals|\n",
      "+-------------------+\n",
      "|-11.415942865411921|\n",
      "|-0.5526235381649371|\n",
      "|  10.10827743108473|\n",
      "| -4.815434075903056|\n",
      "| -4.738878261550724|\n",
      "|  4.223732186517168|\n",
      "|-22.228398010982232|\n",
      "|-0.9866100798600428|\n",
      "|-3.8382884073846526|\n",
      "| 20.925271806725277|\n",
      "|  3.366650218168047|\n",
      "| -6.531786452289225|\n",
      "| -5.827533996815532|\n",
      "|-15.416772892025392|\n",
      "|  6.142449211103838|\n",
      "| -8.278994069339774|\n",
      "| -6.698402087576767|\n",
      "| -12.05575084193788|\n",
      "|  7.562286371717789|\n",
      "| -9.520735789057824|\n",
      "+-------------------+\n"
     ]
    }
   ],
   "source": [
    "test_result.residuals.show()"
   ],
   "metadata": {
    "collapsed": false,
    "ExecuteTime": {
     "end_time": "2023-12-26T22:39:13.603896800Z",
     "start_time": "2023-12-26T22:39:13.363775700Z"
    }
   },
   "id": "95aa933b255e7719",
   "execution_count": 29
  },
  {
   "cell_type": "code",
   "outputs": [
    {
     "data": {
      "text/plain": "10.858879796962867"
     },
     "execution_count": 31,
     "metadata": {},
     "output_type": "execute_result"
    }
   ],
   "source": [
    "test_result.rootMeanSquaredError"
   ],
   "metadata": {
    "collapsed": false,
    "ExecuteTime": {
     "end_time": "2023-12-26T22:39:44.340457900Z",
     "start_time": "2023-12-26T22:39:44.322458800Z"
    }
   },
   "id": "bf79e7d8e8a05f94",
   "execution_count": 31
  },
  {
   "cell_type": "code",
   "outputs": [
    {
     "data": {
      "text/plain": "0.9794764942732458"
     },
     "execution_count": 32,
     "metadata": {},
     "output_type": "execute_result"
    }
   ],
   "source": [
    "test_result.r2"
   ],
   "metadata": {
    "collapsed": false,
    "ExecuteTime": {
     "end_time": "2023-12-26T22:39:49.241011500Z",
     "start_time": "2023-12-26T22:39:49.218008100Z"
    }
   },
   "id": "79ae02e7bd365cbc",
   "execution_count": 32
  },
  {
   "cell_type": "code",
   "outputs": [
    {
     "name": "stdout",
     "output_type": "stream",
     "text": [
      "+-------+-------------------+\n",
      "|summary|Yearly Amount Spent|\n",
      "+-------+-------------------+\n",
      "|  count|                500|\n",
      "|   mean|  499.3140382585909|\n",
      "| stddev|   79.3147815497068|\n",
      "|    min| 256.67058229005585|\n",
      "|    max|  765.5184619388373|\n",
      "+-------+-------------------+\n"
     ]
    }
   ],
   "source": [
    "final_data.describe().show()"
   ],
   "metadata": {
    "collapsed": false,
    "ExecuteTime": {
     "end_time": "2023-12-26T22:41:06.472362500Z",
     "start_time": "2023-12-26T22:41:06.227228Z"
    }
   },
   "id": "9a9701f65d52ac93",
   "execution_count": 33
  },
  {
   "cell_type": "code",
   "outputs": [],
   "source": [
    "unlabeled_data = test_data.select('features')"
   ],
   "metadata": {
    "collapsed": false,
    "ExecuteTime": {
     "end_time": "2023-12-26T22:42:46.233652Z",
     "start_time": "2023-12-26T22:42:46.213650900Z"
    }
   },
   "id": "75e8ff93a235c0c3",
   "execution_count": 35
  },
  {
   "cell_type": "code",
   "outputs": [
    {
     "name": "stdout",
     "output_type": "stream",
     "text": [
      "+--------------------+\n",
      "|            features|\n",
      "+--------------------+\n",
      "|[30.3931845423455...|\n",
      "|[30.5743636841713...|\n",
      "|[30.7377203726281...|\n",
      "|[30.8364326747734...|\n",
      "|[30.8794843441274...|\n",
      "|[31.0472221394875...|\n",
      "|[31.1239743499119...|\n",
      "|[31.2606468698795...|\n",
      "|[31.2681042107507...|\n",
      "|[31.2834474760581...|\n",
      "|[31.3584771924370...|\n",
      "|[31.5147378578019...|\n",
      "|[31.5257524169682...|\n",
      "|[31.5741380228732...|\n",
      "|[31.6548096756927...|\n",
      "|[31.7207699002873...|\n",
      "|[31.7242025238451...|\n",
      "|[31.8093003166791...|\n",
      "|[31.8209982016720...|\n",
      "|[31.8279790554652...|\n",
      "+--------------------+\n"
     ]
    }
   ],
   "source": [
    "unlabeled_data.show()"
   ],
   "metadata": {
    "collapsed": false,
    "ExecuteTime": {
     "end_time": "2023-12-26T22:42:54.801159100Z",
     "start_time": "2023-12-26T22:42:54.602053900Z"
    }
   },
   "id": "20727cf3f8d42481",
   "execution_count": 36
  },
  {
   "cell_type": "code",
   "outputs": [],
   "source": [
    "predictions = lr_model.transform(unlabeled_data)"
   ],
   "metadata": {
    "collapsed": false,
    "ExecuteTime": {
     "end_time": "2023-12-26T22:43:27.978243100Z",
     "start_time": "2023-12-26T22:43:27.941239900Z"
    }
   },
   "id": "6b7e05b1d4835833",
   "execution_count": 37
  },
  {
   "cell_type": "code",
   "outputs": [
    {
     "name": "stdout",
     "output_type": "stream",
     "text": [
      "+--------------------+------------------+\n",
      "|            features|        prediction|\n",
      "+--------------------+------------------+\n",
      "|[30.3931845423455...| 331.3448126686055|\n",
      "|[30.5743636841713...| 442.6170372962306|\n",
      "|[30.7377203726281...|451.67246476514515|\n",
      "|[30.8364326747734...|472.31733450289266|\n",
      "|[30.8794843441274...| 494.9454782464054|\n",
      "|[31.0472221394875...| 388.2736670025042|\n",
      "|[31.1239743499119...|  509.175451850748|\n",
      "|[31.2606468698795...| 422.3132413368114|\n",
      "|[31.2681042107507...| 427.3088215812086|\n",
      "|[31.2834474760581...| 570.8558176189422|\n",
      "|[31.3584771924370...|491.80930023130736|\n",
      "|[31.5147378578019...|496.34427444875064|\n",
      "|[31.5257524169682...| 449.7931608066974|\n",
      "|[31.5741380228732...| 559.8260450526122|\n",
      "|[31.6548096756927...| 469.1209745164447|\n",
      "|[31.7207699002873...| 547.0539275473627|\n",
      "|[31.7242025238451...|510.08628937553726|\n",
      "|[31.8093003166791...|  548.827650204779|\n",
      "|[31.8209982016720...|417.11299464149556|\n",
      "|[31.8279790554652...|449.52348333599934|\n",
      "+--------------------+------------------+\n"
     ]
    }
   ],
   "source": [
    "predictions.show()"
   ],
   "metadata": {
    "collapsed": false,
    "ExecuteTime": {
     "end_time": "2023-12-26T22:43:32.543681600Z",
     "start_time": "2023-12-26T22:43:32.374025800Z"
    }
   },
   "id": "5f77d0b5d1a585f2",
   "execution_count": 38
  },
  {
   "cell_type": "code",
   "outputs": [
    {
     "name": "stdout",
     "output_type": "stream",
     "text": [
      "+--------------------+-------------------+\n",
      "|            features|Yearly Amount Spent|\n",
      "+--------------------+-------------------+\n",
      "|[30.3931845423455...|  319.9288698031936|\n",
      "|[30.5743636841713...| 442.06441375806565|\n",
      "|[30.7377203726281...|  461.7807421962299|\n",
      "|[30.8364326747734...|  467.5019004269896|\n",
      "|[30.8794843441274...|  490.2065999848547|\n",
      "|[31.0472221394875...|  392.4973991890214|\n",
      "|[31.1239743499119...|  486.9470538397658|\n",
      "|[31.2606468698795...|  421.3266312569514|\n",
      "|[31.2681042107507...|  423.4705331738239|\n",
      "|[31.2834474760581...|  591.7810894256675|\n",
      "|[31.3584771924370...|  495.1759504494754|\n",
      "|[31.5147378578019...|  489.8124879964614|\n",
      "|[31.5257524169682...|  443.9656268098819|\n",
      "|[31.5741380228732...|  544.4092721605869|\n",
      "|[31.6548096756927...|  475.2634237275485|\n",
      "|[31.7207699002873...|   538.774933478023|\n",
      "|[31.7242025238451...|  503.3878872879605|\n",
      "|[31.8093003166791...|  536.7718993628412|\n",
      "|[31.8209982016720...| 424.67528101321335|\n",
      "|[31.8279790554652...|  440.0027475469415|\n",
      "+--------------------+-------------------+\n"
     ]
    }
   ],
   "source": [
    "test_data.show()"
   ],
   "metadata": {
    "collapsed": false,
    "ExecuteTime": {
     "end_time": "2023-12-26T22:44:11.383093200Z",
     "start_time": "2023-12-26T22:44:11.198106400Z"
    }
   },
   "id": "b4df23f159f9227a",
   "execution_count": 39
  },
  {
   "cell_type": "code",
   "outputs": [
    {
     "name": "stdout",
     "output_type": "stream",
     "text": [
      "+-------+-----------------+\n",
      "|summary|       prediction|\n",
      "+-------+-----------------+\n",
      "|  count|              147|\n",
      "|   mean|495.1792684109492|\n",
      "| stddev|76.92184982954022|\n",
      "|    min|252.7558998908944|\n",
      "|    max|753.2526726750373|\n",
      "+-------+-----------------+\n"
     ]
    }
   ],
   "source": [
    "predictions.describe().show()"
   ],
   "metadata": {
    "collapsed": false,
    "ExecuteTime": {
     "end_time": "2023-12-26T22:44:36.011968900Z",
     "start_time": "2023-12-26T22:44:35.757895100Z"
    }
   },
   "id": "c038042d90fd3492",
   "execution_count": 40
  },
  {
   "cell_type": "code",
   "outputs": [
    {
     "name": "stdout",
     "output_type": "stream",
     "text": [
      "+-------+-------------------+\n",
      "|summary|Yearly Amount Spent|\n",
      "+-------+-------------------+\n",
      "|  count|                147|\n",
      "|   mean| 495.45724114228415|\n",
      "| stddev|   76.0574029158347|\n",
      "|    min| 256.67058229005585|\n",
      "|    max|  744.2218671047146|\n",
      "+-------+-------------------+\n"
     ]
    }
   ],
   "source": [
    "test_data.describe().show()"
   ],
   "metadata": {
    "collapsed": false,
    "ExecuteTime": {
     "end_time": "2023-12-26T22:44:42.646523500Z",
     "start_time": "2023-12-26T22:44:42.359651100Z"
    }
   },
   "id": "88e0feb450c999b8",
   "execution_count": 41
  },
  {
   "cell_type": "code",
   "outputs": [],
   "source": [],
   "metadata": {
    "collapsed": false
   },
   "id": "35252dbcbf2049b2"
  }
 ],
 "metadata": {
  "kernelspec": {
   "display_name": "Python 3",
   "language": "python",
   "name": "python3"
  },
  "language_info": {
   "codemirror_mode": {
    "name": "ipython",
    "version": 2
   },
   "file_extension": ".py",
   "mimetype": "text/x-python",
   "name": "python",
   "nbconvert_exporter": "python",
   "pygments_lexer": "ipython2",
   "version": "2.7.6"
  }
 },
 "nbformat": 4,
 "nbformat_minor": 5
}
