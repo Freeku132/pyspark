{
 "cells": [
  {
   "cell_type": "markdown",
   "metadata": {},
   "source": [
    "# Spark DataFrames Project Exercise "
   ]
  },
  {
   "cell_type": "markdown",
   "metadata": {},
   "source": [
    "Let's get some quick practice with your new Spark DataFrame skills, you will be asked some basic questions about some stock market data, in this case Walmart Stock from the years 2012-2017. This exercise will just ask a bunch of questions, unlike the future machine learning exercises, which will be a little looser and be in the form of \"Consulting Projects\", but more on that later!\n",
    "\n",
    "For now, just answer the questions and complete the tasks below."
   ]
  },
  {
   "cell_type": "markdown",
   "metadata": {},
   "source": [
    "#### Use the walmart_stock.csv file to Answer and complete the  tasks below!"
   ]
  },
  {
   "cell_type": "markdown",
   "metadata": {},
   "source": [
    "#### Start a simple Spark Session"
   ]
  },
  {
   "cell_type": "code",
   "execution_count": 5,
   "metadata": {
    "collapsed": true,
    "ExecuteTime": {
     "end_time": "2023-12-15T19:13:35.917621500Z",
     "start_time": "2023-12-15T19:13:32.483656900Z"
    }
   },
   "outputs": [],
   "source": [
    "from pyspark.sql import SparkSession\n",
    "spark = SparkSession.builder.appName('Exercise').getOrCreate()"
   ]
  },
  {
   "cell_type": "markdown",
   "metadata": {},
   "source": [
    "#### Load the Walmart Stock CSV File, have Spark infer the data types."
   ]
  },
  {
   "cell_type": "code",
   "execution_count": 45,
   "metadata": {
    "collapsed": true,
    "ExecuteTime": {
     "end_time": "2023-12-15T19:43:59.926771300Z",
     "start_time": "2023-12-15T19:43:59.621280800Z"
    }
   },
   "outputs": [
    {
     "name": "stdout",
     "output_type": "stream",
     "text": [
      "+----------+------------------+------------------+------------------+------------------+--------+------------------+\n",
      "|      Date|              Open|              High|               Low|             Close|  Volume|         Adj Close|\n",
      "+----------+------------------+------------------+------------------+------------------+--------+------------------+\n",
      "|2012-01-03|         59.970001|         61.060001|         59.869999|         60.330002|12668800|52.619234999999996|\n",
      "|2012-01-04|60.209998999999996|         60.349998|         59.470001|59.709998999999996| 9593300|         52.078475|\n",
      "|2012-01-05|         59.349998|         59.619999|         58.369999|         59.419998|12768200|         51.825539|\n",
      "|2012-01-06|         59.419998|         59.450001|         58.869999|              59.0| 8069400|          51.45922|\n",
      "|2012-01-09|         59.029999|         59.549999|         58.919998|             59.18| 6679300|51.616215000000004|\n",
      "|2012-01-10|             59.43|59.709998999999996|             58.98|59.040001000000004| 6907300|         51.494109|\n",
      "|2012-01-11|         59.060001|         59.529999|59.040001000000004|         59.400002| 6365600|         51.808098|\n",
      "|2012-01-12|59.790001000000004|              60.0|         59.400002|              59.5| 7236400|51.895315999999994|\n",
      "|2012-01-13|             59.18|59.610001000000004|59.009997999999996|59.540001000000004| 7729300|51.930203999999996|\n",
      "|2012-01-17|         59.869999|60.110001000000004|             59.52|         59.849998| 8500000|         52.200581|\n",
      "|2012-01-18|59.790001000000004|         60.029999|         59.650002|60.009997999999996| 5911400|         52.340131|\n",
      "|2012-01-19|             59.93|             60.73|             59.75|60.610001000000004| 9234600|         52.863447|\n",
      "|2012-01-20|             60.75|             61.25|         60.669998|61.009997999999996|10378800|53.212320999999996|\n",
      "|2012-01-23|         60.810001|             60.98|60.509997999999996|             60.91| 7134100|         53.125104|\n",
      "|2012-01-24|             60.75|              62.0|             60.75|61.389998999999996| 7362800| 53.54375400000001|\n",
      "|2012-01-25|             61.18|61.610001000000004|61.040001000000004|         61.470001| 5915800| 53.61353100000001|\n",
      "|2012-01-26|         61.799999|             61.84|             60.77|         60.970001| 7436200|         53.177436|\n",
      "|2012-01-27|60.860001000000004|         61.119999|60.540001000000004|60.709998999999996| 6287300|         52.950665|\n",
      "|2012-01-30|         60.470001|             61.32|         60.349998|         61.299999| 7636900|53.465256999999994|\n",
      "|2012-01-31|         61.529999|             61.57|         60.580002|61.360001000000004| 9761500|53.517590000000006|\n",
      "+----------+------------------+------------------+------------------+------------------+--------+------------------+\n"
     ]
    }
   ],
   "source": [
    "df = spark.read.csv('walmart_stock.csv', inferSchema=True, header=True)\n",
    "df.show()"
   ]
  },
  {
   "cell_type": "markdown",
   "metadata": {},
   "source": [
    "#### What are the column names?"
   ]
  },
  {
   "cell_type": "code",
   "execution_count": 46,
   "metadata": {
    "collapsed": false,
    "ExecuteTime": {
     "end_time": "2023-12-15T19:44:02.882037300Z",
     "start_time": "2023-12-15T19:44:02.830541400Z"
    }
   },
   "outputs": [
    {
     "data": {
      "text/plain": "['Date', 'Open', 'High', 'Low', 'Close', 'Volume', 'Adj Close']"
     },
     "execution_count": 46,
     "metadata": {},
     "output_type": "execute_result"
    }
   ],
   "source": [
    "df.columns"
   ]
  },
  {
   "cell_type": "markdown",
   "metadata": {},
   "source": [
    "#### What does the Schema look like?"
   ]
  },
  {
   "cell_type": "code",
   "execution_count": 47,
   "outputs": [
    {
     "name": "stdout",
     "output_type": "stream",
     "text": [
      "root\n",
      " |-- Date: date (nullable = true)\n",
      " |-- Open: double (nullable = true)\n",
      " |-- High: double (nullable = true)\n",
      " |-- Low: double (nullable = true)\n",
      " |-- Close: double (nullable = true)\n",
      " |-- Volume: integer (nullable = true)\n",
      " |-- Adj Close: double (nullable = true)\n"
     ]
    }
   ],
   "source": [
    "df.printSchema()"
   ],
   "metadata": {
    "collapsed": false,
    "ExecuteTime": {
     "end_time": "2023-12-15T19:44:05.503574500Z",
     "start_time": "2023-12-15T19:44:05.454811800Z"
    }
   }
  },
  {
   "cell_type": "code",
   "execution_count": 48,
   "metadata": {
    "collapsed": false,
    "ExecuteTime": {
     "end_time": "2023-12-15T19:44:07.308628700Z",
     "start_time": "2023-12-15T19:44:07.255630600Z"
    }
   },
   "outputs": [
    {
     "name": "stdout",
     "output_type": "stream",
     "text": [
      "root\n",
      " |-- Date: date (nullable = true)\n",
      " |-- Open: double (nullable = true)\n",
      " |-- High: double (nullable = true)\n",
      " |-- Low: double (nullable = true)\n",
      " |-- Close: double (nullable = true)\n",
      " |-- Volume: integer (nullable = true)\n",
      " |-- Adj Close: double (nullable = true)\n"
     ]
    }
   ],
   "source": [
    "df.printSchema()\n"
   ]
  },
  {
   "cell_type": "markdown",
   "metadata": {},
   "source": [
    "#### Print out the first 5 columns."
   ]
  },
  {
   "cell_type": "code",
   "execution_count": 49,
   "outputs": [
    {
     "data": {
      "text/plain": "[Row(Date=datetime.date(2012, 1, 3), Open=59.970001, High=61.060001, Low=59.869999, Close=60.330002),\n Row(Date=datetime.date(2012, 1, 4), Open=60.209998999999996, High=60.349998, Low=59.470001, Close=59.709998999999996),\n Row(Date=datetime.date(2012, 1, 5), Open=59.349998, High=59.619999, Low=58.369999, Close=59.419998),\n Row(Date=datetime.date(2012, 1, 6), Open=59.419998, High=59.450001, Low=58.869999, Close=59.0),\n Row(Date=datetime.date(2012, 1, 9), Open=59.029999, High=59.549999, Low=58.919998, Close=59.18),\n Row(Date=datetime.date(2012, 1, 10), Open=59.43, High=59.709998999999996, Low=58.98, Close=59.040001000000004),\n Row(Date=datetime.date(2012, 1, 11), Open=59.060001, High=59.529999, Low=59.040001000000004, Close=59.400002),\n Row(Date=datetime.date(2012, 1, 12), Open=59.790001000000004, High=60.0, Low=59.400002, Close=59.5),\n Row(Date=datetime.date(2012, 1, 13), Open=59.18, High=59.610001000000004, Low=59.009997999999996, Close=59.540001000000004),\n Row(Date=datetime.date(2012, 1, 17), Open=59.869999, High=60.110001000000004, Low=59.52, Close=59.849998),\n Row(Date=datetime.date(2012, 1, 18), Open=59.790001000000004, High=60.029999, Low=59.650002, Close=60.009997999999996),\n Row(Date=datetime.date(2012, 1, 19), Open=59.93, High=60.73, Low=59.75, Close=60.610001000000004),\n Row(Date=datetime.date(2012, 1, 20), Open=60.75, High=61.25, Low=60.669998, Close=61.009997999999996),\n Row(Date=datetime.date(2012, 1, 23), Open=60.810001, High=60.98, Low=60.509997999999996, Close=60.91),\n Row(Date=datetime.date(2012, 1, 24), Open=60.75, High=62.0, Low=60.75, Close=61.389998999999996),\n Row(Date=datetime.date(2012, 1, 25), Open=61.18, High=61.610001000000004, Low=61.040001000000004, Close=61.470001),\n Row(Date=datetime.date(2012, 1, 26), Open=61.799999, High=61.84, Low=60.77, Close=60.970001),\n Row(Date=datetime.date(2012, 1, 27), Open=60.860001000000004, High=61.119999, Low=60.540001000000004, Close=60.709998999999996),\n Row(Date=datetime.date(2012, 1, 30), Open=60.470001, High=61.32, Low=60.349998, Close=61.299999),\n Row(Date=datetime.date(2012, 1, 31), Open=61.529999, High=61.57, Low=60.580002, Close=61.360001000000004),\n Row(Date=datetime.date(2012, 2, 1), Open=61.790001000000004, High=62.630001, Low=61.790001000000004, Close=62.18),\n Row(Date=datetime.date(2012, 2, 2), Open=62.400002, High=62.470001, Low=61.82, Close=61.939999),\n Row(Date=datetime.date(2012, 2, 3), Open=62.32, High=62.43, Low=61.700001, Close=62.029999),\n Row(Date=datetime.date(2012, 2, 6), Open=61.849998, High=61.98, Low=61.700001, Close=61.880001),\n Row(Date=datetime.date(2012, 2, 7), Open=61.619999, High=61.900002, Low=61.619999, Close=61.689999),\n Row(Date=datetime.date(2012, 2, 8), Open=61.91, High=62.02, Low=61.23, Close=61.619999),\n Row(Date=datetime.date(2012, 2, 9), Open=61.580002, High=62.16, Low=61.580002, Close=61.959998999999996),\n Row(Date=datetime.date(2012, 2, 10), Open=61.68, High=61.91, Low=61.380001, Close=61.900002),\n Row(Date=datetime.date(2012, 2, 13), Open=62.009997999999996, High=62.080002, Low=61.73, Close=61.790001000000004),\n Row(Date=datetime.date(2012, 2, 14), Open=61.91, High=62.240002000000004, Low=61.790001000000004, Close=62.220001),\n Row(Date=datetime.date(2012, 2, 15), Open=62.32, High=62.439999, Low=61.59, Close=61.759997999999996),\n Row(Date=datetime.date(2012, 2, 16), Open=61.77, High=62.189999, Low=61.700001, Close=62.040001000000004),\n Row(Date=datetime.date(2012, 2, 17), Open=62.32, High=62.57, Low=61.91, Close=62.48),\n Row(Date=datetime.date(2012, 2, 21), Open=60.330002, High=60.5, Low=59.669998, Close=60.07),\n Row(Date=datetime.date(2012, 2, 22), Open=59.580002, High=59.900002, Low=58.369999, Close=58.599998),\n Row(Date=datetime.date(2012, 2, 23), Open=58.59, High=58.900002, Low=58.209998999999996, Close=58.540001000000004),\n Row(Date=datetime.date(2012, 2, 24), Open=58.75, High=58.950001, Low=58.5, Close=58.790001000000004),\n Row(Date=datetime.date(2012, 2, 27), Open=58.700001, High=58.779999, Low=58.290001000000004, Close=58.459998999999996),\n Row(Date=datetime.date(2012, 2, 28), Open=58.439999, High=59.099998, Low=58.349998, Close=58.93),\n Row(Date=datetime.date(2012, 2, 29), Open=58.84, High=59.330002, Low=58.720001, Close=59.080002),\n Row(Date=datetime.date(2012, 3, 1), Open=59.360001000000004, High=59.419998, Low=58.639998999999996, Close=58.82),\n Row(Date=datetime.date(2012, 3, 2), Open=58.990002000000004, High=59.279999, Low=58.799999, Close=59.009997999999996),\n Row(Date=datetime.date(2012, 3, 5), Open=58.959998999999996, High=59.59, Low=58.75, Close=59.400002),\n Row(Date=datetime.date(2012, 3, 6), Open=59.040001000000004, High=59.220001, Low=58.75, Close=58.970001),\n Row(Date=datetime.date(2012, 3, 7), Open=59.110001000000004, High=59.860001000000004, Low=59.110001000000004, Close=59.860001000000004),\n Row(Date=datetime.date(2012, 3, 8), Open=59.84, High=59.950001, Low=59.450001, Close=59.77),\n Row(Date=datetime.date(2012, 3, 9), Open=59.830002, High=60.200001, Low=59.830002, Close=60.080002),\n Row(Date=datetime.date(2012, 3, 12), Open=60.169998, High=60.900002, Low=60.09, Close=60.68),\n Row(Date=datetime.date(2012, 3, 13), Open=60.93, High=61.080002, Low=60.52, Close=61.0),\n Row(Date=datetime.date(2012, 3, 14), Open=60.84, High=61.150002, Low=60.689999, Close=61.080002),\n Row(Date=datetime.date(2012, 3, 15), Open=60.889998999999996, High=61.259997999999996, Low=60.779999, Close=61.23),\n Row(Date=datetime.date(2012, 3, 16), Open=61.41, High=61.470001, Low=60.77, Close=60.84),\n Row(Date=datetime.date(2012, 3, 19), Open=60.580002, High=60.880001, Low=60.459998999999996, Close=60.740002000000004),\n Row(Date=datetime.date(2012, 3, 20), Open=60.330002, High=60.860001000000004, Low=60.290001000000004, Close=60.599998),\n Row(Date=datetime.date(2012, 3, 21), Open=60.450001, High=60.720001, Low=60.369999, Close=60.560001),\n Row(Date=datetime.date(2012, 3, 22), Open=60.23, High=60.77, Low=60.23, Close=60.650002),\n Row(Date=datetime.date(2012, 3, 23), Open=60.610001000000004, High=60.849998, Low=60.41, Close=60.75),\n Row(Date=datetime.date(2012, 3, 26), Open=60.900002, High=61.32, Low=60.759997999999996, Close=61.200001),\n Row(Date=datetime.date(2012, 3, 27), Open=61.349998, High=61.5, Low=61.02, Close=61.09),\n Row(Date=datetime.date(2012, 3, 28), Open=61.150002, High=61.48, Low=60.98, Close=61.189999),\n Row(Date=datetime.date(2012, 3, 29), Open=60.77, High=60.950001, Low=60.619999, Close=60.82),\n Row(Date=datetime.date(2012, 3, 30), Open=61.07, High=61.419998, Low=60.919998, Close=61.200001),\n Row(Date=datetime.date(2012, 4, 2), Open=61.080002, High=61.490002000000004, Low=60.970001, Close=61.360001000000004),\n Row(Date=datetime.date(2012, 4, 3), Open=61.139998999999996, High=61.41, Low=60.240002000000004, Close=60.650002),\n Row(Date=datetime.date(2012, 4, 4), Open=60.529999, High=60.59, Low=60.02, Close=60.259997999999996),\n Row(Date=datetime.date(2012, 4, 5), Open=60.200001, High=60.689999, Low=60.07, Close=60.669998),\n Row(Date=datetime.date(2012, 4, 9), Open=60.220001, High=60.34, Low=60.080002, Close=60.130001),\n Row(Date=datetime.date(2012, 4, 10), Open=60.029999, High=60.389998999999996, Low=59.549999, Close=59.93),\n Row(Date=datetime.date(2012, 4, 11), Open=60.290001000000004, High=60.290001000000004, Low=59.66, Close=59.799999),\n Row(Date=datetime.date(2012, 4, 12), Open=59.799999, High=60.200001, Low=59.560001, Close=60.139998999999996),\n Row(Date=datetime.date(2012, 4, 13), Open=60.0, High=60.209998999999996, Low=59.75, Close=59.77),\n Row(Date=datetime.date(2012, 4, 16), Open=59.939999, High=60.810001, Low=59.869999, Close=60.580002),\n Row(Date=datetime.date(2012, 4, 17), Open=61.110001000000004, High=61.950001, Low=61.09, Close=61.869999),\n Row(Date=datetime.date(2012, 4, 18), Open=61.549999, High=62.25, Low=61.549999, Close=62.060001),\n Row(Date=datetime.date(2012, 4, 19), Open=61.959998999999996, High=62.049999, Low=61.470001, Close=61.75),\n Row(Date=datetime.date(2012, 4, 20), Open=61.700001, High=62.490002000000004, Low=61.66, Close=62.450001),\n Row(Date=datetime.date(2012, 4, 23), Open=59.150002, High=60.240002000000004, Low=59.130001, Close=59.540001000000004),\n Row(Date=datetime.date(2012, 4, 24), Open=59.259997999999996, High=59.349998, Low=57.650002, Close=57.77),\n Row(Date=datetime.date(2012, 4, 25), Open=57.91, High=58.43, Low=57.18, Close=57.360001000000004),\n Row(Date=datetime.date(2012, 4, 26), Open=57.59, High=59.43, Low=57.57, Close=58.950001),\n Row(Date=datetime.date(2012, 4, 27), Open=59.18, High=59.459998999999996, Low=58.939999, Close=59.029999),\n Row(Date=datetime.date(2012, 4, 30), Open=58.82, High=58.990002000000004, Low=58.529999, Close=58.91),\n Row(Date=datetime.date(2012, 5, 1), Open=58.950001, High=59.27, Low=58.48, Close=59.07),\n Row(Date=datetime.date(2012, 5, 2), Open=58.959998999999996, High=59.32, Low=58.82, Close=59.009997999999996),\n Row(Date=datetime.date(2012, 5, 3), Open=59.200001, High=59.200001, Low=58.810001, Close=58.990002000000004),\n Row(Date=datetime.date(2012, 5, 4), Open=58.860001000000004, High=59.18, Low=58.68, Close=58.700001),\n Row(Date=datetime.date(2012, 5, 7), Open=58.549999, High=59.360001000000004, Low=58.549999, Close=59.189999),\n Row(Date=datetime.date(2012, 5, 8), Open=59.060001, High=59.369999, Low=58.630001, Close=59.049999),\n Row(Date=datetime.date(2012, 5, 9), Open=58.48, High=59.240002000000004, Low=58.27, Close=59.029999),\n Row(Date=datetime.date(2012, 5, 10), Open=59.349998, High=59.610001000000004, Low=59.09, Close=59.189999),\n Row(Date=datetime.date(2012, 5, 11), Open=59.080002, High=59.650002, Low=58.810001, Close=59.419998),\n Row(Date=datetime.date(2012, 5, 14), Open=59.09, High=59.549999, Low=58.919998, Close=59.07),\n Row(Date=datetime.date(2012, 5, 15), Open=58.950001, High=59.650002, Low=58.950001, Close=59.349998),\n Row(Date=datetime.date(2012, 5, 16), Open=59.529999, High=59.66, Low=59.150002, Close=59.189999),\n Row(Date=datetime.date(2012, 5, 17), Open=61.34, High=62.5, Low=61.25, Close=61.68),\n Row(Date=datetime.date(2012, 5, 18), Open=61.869999, High=62.630001, Low=61.759997999999996, Close=62.43),\n Row(Date=datetime.date(2012, 5, 21), Open=62.380001, High=63.099998, Low=62.139998999999996, Close=63.040001000000004),\n Row(Date=datetime.date(2012, 5, 22), Open=62.990002000000004, High=63.950001, Low=62.900002, Close=63.73),\n Row(Date=datetime.date(2012, 5, 23), Open=63.389998999999996, High=64.690002, Low=63.290001000000004, Close=64.58000200000001),\n Row(Date=datetime.date(2012, 5, 24), Open=64.709999, High=65.18, Low=64.459999, Close=65.07),\n Row(Date=datetime.date(2012, 5, 25), Open=64.860001, High=65.5, Low=64.800003, Close=65.309998),\n Row(Date=datetime.date(2012, 5, 29), Open=65.400002, High=65.760002, Low=65.209999, Close=65.68),\n Row(Date=datetime.date(2012, 5, 30), Open=65.410004, High=65.949997, Low=65.33000200000001, Close=65.440002),\n Row(Date=datetime.date(2012, 5, 31), Open=65.400002, High=66.660004, Low=65.379997, Close=65.82),\n Row(Date=datetime.date(2012, 6, 1), Open=65.43, High=65.879997, Low=65.129997, Close=65.550003),\n Row(Date=datetime.date(2012, 6, 4), Open=65.900002, High=66.129997, Low=65.400002, Close=65.989998),\n Row(Date=datetime.date(2012, 6, 5), Open=65.739998, High=65.900002, Low=65.43, Close=65.5),\n Row(Date=datetime.date(2012, 6, 6), Open=65.599998, High=65.970001, Low=65.459999, Close=65.93),\n Row(Date=datetime.date(2012, 6, 7), Open=66.08000200000001, High=66.08000200000001, Low=65.779999, Close=65.870003),\n Row(Date=datetime.date(2012, 6, 8), Open=66.190002, High=68.230003, Low=66.08000200000001, Close=68.220001),\n Row(Date=datetime.date(2012, 6, 11), Open=68.389999, High=68.480003, Low=67.470001, Close=67.529999),\n Row(Date=datetime.date(2012, 6, 12), Open=67.66999799999999, High=67.849998, Low=67.300003, Close=67.720001),\n Row(Date=datetime.date(2012, 6, 13), Open=67.589996, High=67.75, Low=66.959999, Close=67.07),\n Row(Date=datetime.date(2012, 6, 14), Open=67.099998, High=67.790001, Low=67.089996, Close=67.629997),\n Row(Date=datetime.date(2012, 6, 15), Open=68.050003, High=68.059998, Low=67.589996, Close=67.75),\n Row(Date=datetime.date(2012, 6, 18), Open=67.470001, High=68.279999, Low=67.43, Close=68.120003),\n Row(Date=datetime.date(2012, 6, 19), Open=68.089996, High=68.25, Low=67.699997, Close=67.809998),\n Row(Date=datetime.date(2012, 6, 20), Open=67.860001, High=68.540001, Low=67.779999, Close=68.519997),\n Row(Date=datetime.date(2012, 6, 21), Open=68.489998, High=68.660004, Low=67.68, Close=67.699997),\n Row(Date=datetime.date(2012, 6, 22), Open=68.089996, High=68.349998, Low=67.190002, Close=67.300003),\n Row(Date=datetime.date(2012, 6, 25), Open=67.059998, High=68.230003, Low=67.059998, Close=68.18),\n Row(Date=datetime.date(2012, 6, 26), Open=68.480003, High=68.91999799999999, Low=68.25, Close=68.58000200000001),\n Row(Date=datetime.date(2012, 6, 27), Open=68.589996, High=68.75, Low=68.260002, Close=68.589996),\n Row(Date=datetime.date(2012, 6, 28), Open=67.91999799999999, High=68.349998, Low=67.489998, Close=68.300003),\n Row(Date=datetime.date(2012, 6, 29), Open=68.940002, High=69.720001, Low=68.559998, Close=69.720001),\n Row(Date=datetime.date(2012, 7, 2), Open=69.599998, High=69.949997, Low=69.150002, Close=69.349998),\n Row(Date=datetime.date(2012, 7, 3), Open=69.650002, High=70.769997, Low=69.300003, Close=70.75),\n Row(Date=datetime.date(2012, 7, 5), Open=70.370003, High=71.300003, Low=70.370003, Close=71.08000200000001),\n Row(Date=datetime.date(2012, 7, 6), Open=70.730003, High=71.360001, Low=70.730003, Close=71.360001),\n Row(Date=datetime.date(2012, 7, 9), Open=71.260002, High=71.760002, Low=71.019997, Close=71.760002),\n Row(Date=datetime.date(2012, 7, 10), Open=71.93, High=72.58000200000001, Low=71.639999, Close=72.110001),\n Row(Date=datetime.date(2012, 7, 11), Open=72.129997, High=72.440002, Low=71.779999, Close=72.260002),\n Row(Date=datetime.date(2012, 7, 12), Open=72.07, High=72.620003, Low=71.639999, Close=72.309998),\n Row(Date=datetime.date(2012, 7, 13), Open=72.269997, High=73.239998, Low=72.150002, Close=73.18),\n Row(Date=datetime.date(2012, 7, 16), Open=72.91999799999999, High=73.18, Low=72.58000200000001, Close=72.980003),\n Row(Date=datetime.date(2012, 7, 17), Open=72.900002, High=73.099998, Low=72.309998, Close=73.099998),\n Row(Date=datetime.date(2012, 7, 18), Open=72.889999, High=73.459999, Low=72.720001, Close=72.849998),\n Row(Date=datetime.date(2012, 7, 19), Open=72.849998, High=72.860001, Low=70.230003, Close=71.529999),\n Row(Date=datetime.date(2012, 7, 20), Open=71.459999, High=72.489998, Low=71.309998, Close=72.25),\n Row(Date=datetime.date(2012, 7, 23), Open=71.620003, High=71.989998, Low=71.260002, Close=71.849998),\n Row(Date=datetime.date(2012, 7, 24), Open=71.68, High=72.239998, Low=71.449997, Close=72.139999),\n Row(Date=datetime.date(2012, 7, 25), Open=72.260002, High=72.459999, Low=71.870003, Close=72.08000200000001),\n Row(Date=datetime.date(2012, 7, 26), Open=72.699997, High=73.949997, Low=72.690002, Close=73.66999799999999),\n Row(Date=datetime.date(2012, 7, 27), Open=73.839996, High=74.800003, Low=73.790001, Close=74.519997),\n Row(Date=datetime.date(2012, 7, 30), Open=74.459999, High=75.239998, Low=74.449997, Close=74.980003),\n Row(Date=datetime.date(2012, 7, 31), Open=74.760002, High=74.980003, Low=74.43, Close=74.43),\n Row(Date=datetime.date(2012, 8, 1), Open=74.699997, High=74.790001, Low=73.41999799999999, Close=73.620003),\n Row(Date=datetime.date(2012, 8, 2), Open=73.050003, High=74.160004, Low=72.940002, Close=74.050003),\n Row(Date=datetime.date(2012, 8, 3), Open=74.739998, High=74.959999, Low=74.25, Close=74.550003),\n Row(Date=datetime.date(2012, 8, 6), Open=74.91999799999999, High=74.91999799999999, Low=74.279999, Close=74.279999),\n Row(Date=datetime.date(2012, 8, 7), Open=74.410004, High=74.599998, Low=73.970001, Close=73.989998),\n Row(Date=datetime.date(2012, 8, 8), Open=73.650002, High=74.510002, Low=73.43, Close=74.309998),\n Row(Date=datetime.date(2012, 8, 9), Open=74.279999, High=74.519997, Low=73.760002, Close=73.849998),\n Row(Date=datetime.date(2012, 8, 10), Open=73.849998, High=74.25, Low=73.43, Close=73.68),\n Row(Date=datetime.date(2012, 8, 13), Open=73.410004, High=73.690002, Low=73.18, Close=73.400002),\n Row(Date=datetime.date(2012, 8, 14), Open=73.839996, High=74.269997, Low=73.57, Close=74.010002),\n Row(Date=datetime.date(2012, 8, 15), Open=73.910004, High=74.519997, Low=73.82, Close=74.449997),\n Row(Date=datetime.date(2012, 8, 16), Open=72.58000200000001, High=72.75, Low=71.779999, Close=72.150002),\n Row(Date=datetime.date(2012, 8, 17), Open=72.410004, High=72.690002, Low=71.839996, Close=71.989998),\n Row(Date=datetime.date(2012, 8, 20), Open=72.010002, High=72.410004, Low=71.660004, Close=72.300003),\n Row(Date=datetime.date(2012, 8, 21), Open=72.300003, High=72.339996, Low=71.43, Close=71.43),\n Row(Date=datetime.date(2012, 8, 22), Open=71.349998, High=71.849998, Low=71.349998, Close=71.769997),\n Row(Date=datetime.date(2012, 8, 23), Open=71.800003, High=71.940002, Low=71.400002, Close=71.559998),\n Row(Date=datetime.date(2012, 8, 24), Open=71.389999, High=72.199997, Low=71.349998, Close=72.110001),\n Row(Date=datetime.date(2012, 8, 27), Open=72.16999799999999, High=72.790001, Low=72.07, Close=72.5),\n Row(Date=datetime.date(2012, 8, 28), Open=72.18, High=72.709999, Low=72.160004, Close=72.410004),\n Row(Date=datetime.date(2012, 8, 29), Open=72.610001, High=73.019997, Low=72.43, Close=72.769997),\n Row(Date=datetime.date(2012, 8, 30), Open=72.629997, High=72.75, Low=72.150002, Close=72.25),\n Row(Date=datetime.date(2012, 8, 31), Open=72.589996, High=72.949997, Low=72.360001, Close=72.599998),\n Row(Date=datetime.date(2012, 9, 4), Open=72.769997, High=73.839996, Low=72.57, Close=73.510002),\n Row(Date=datetime.date(2012, 9, 5), Open=73.860001, High=73.949997, Low=73.370003, Close=73.550003),\n Row(Date=datetime.date(2012, 9, 6), Open=73.980003, High=74.809998, Low=73.839996, Close=74.809998),\n Row(Date=datetime.date(2012, 9, 7), Open=74.699997, High=74.800003, Low=73.5, Close=73.82),\n Row(Date=datetime.date(2012, 9, 10), Open=73.889999, High=74.120003, Low=73.5, Close=73.510002),\n Row(Date=datetime.date(2012, 9, 11), Open=73.720001, High=74.41999799999999, Low=73.550003, Close=74.059998),\n Row(Date=datetime.date(2012, 9, 12), Open=74.059998, High=74.349998, Low=73.75, Close=74.07),\n Row(Date=datetime.date(2012, 9, 13), Open=73.949997, High=75.190002, Low=73.949997, Close=75.139999),\n Row(Date=datetime.date(2012, 9, 14), Open=74.839996, High=74.989998, Low=74.260002, Close=74.5),\n Row(Date=datetime.date(2012, 9, 17), Open=74.360001, High=74.68, Low=73.870003, Close=73.989998),\n Row(Date=datetime.date(2012, 9, 18), Open=73.849998, High=74.16999799999999, Low=73.68, Close=73.949997),\n Row(Date=datetime.date(2012, 9, 19), Open=74.25, High=74.629997, Low=73.989998, Close=74.370003),\n Row(Date=datetime.date(2012, 9, 20), Open=74.32, High=74.82, Low=74.32, Close=74.75),\n Row(Date=datetime.date(2012, 9, 21), Open=74.959999, High=75.089996, Low=74.33000200000001, Close=74.449997),\n Row(Date=datetime.date(2012, 9, 24), Open=74.199997, High=74.959999, Low=74.18, Close=74.739998),\n Row(Date=datetime.date(2012, 9, 25), Open=74.910004, High=75.050003, Low=74.260002, Close=74.260002),\n Row(Date=datetime.date(2012, 9, 26), Open=74.160004, High=74.839996, Low=74.139999, Close=74.190002),\n Row(Date=datetime.date(2012, 9, 27), Open=74.370003, High=74.5, Low=73.83000200000001, Close=73.980003),\n Row(Date=datetime.date(2012, 9, 28), Open=73.860001, High=74.059998, Low=73.41999799999999, Close=73.800003),\n Row(Date=datetime.date(2012, 10, 1), Open=73.800003, High=74.489998, Low=73.800003, Close=74.050003),\n Row(Date=datetime.date(2012, 10, 2), Open=73.980003, High=74.360001, Low=73.629997, Close=73.75),\n Row(Date=datetime.date(2012, 10, 3), Open=74.029999, High=74.75, Low=73.75, Close=74.199997),\n Row(Date=datetime.date(2012, 10, 4), Open=74.510002, High=75.010002, Low=74.510002, Close=74.720001),\n Row(Date=datetime.date(2012, 10, 5), Open=74.940002, High=75.5, Low=74.889999, Close=75.129997),\n Row(Date=datetime.date(2012, 10, 8), Open=75.160004, High=75.550003, Low=75.059998, Close=75.25),\n Row(Date=datetime.date(2012, 10, 9), Open=75.160004, High=75.379997, Low=74.129997, Close=74.139999),\n Row(Date=datetime.date(2012, 10, 10), Open=74.650002, High=76.809998, Low=74.639999, Close=75.41999799999999),\n Row(Date=datetime.date(2012, 10, 11), Open=76.599998, High=76.610001, Low=74.949997, Close=75.010002),\n Row(Date=datetime.date(2012, 10, 12), Open=75.41999799999999, High=76.040001, Low=75.300003, Close=75.809998),\n Row(Date=datetime.date(2012, 10, 15), Open=75.870003, High=77.349998, Low=75.559998, Close=77.150002),\n Row(Date=datetime.date(2012, 10, 16), Open=77.599998, High=77.599998, Low=76.690002, Close=76.910004),\n Row(Date=datetime.date(2012, 10, 17), Open=77.33000200000001, High=77.5, Low=76.480003, Close=77.029999),\n Row(Date=datetime.date(2012, 10, 18), Open=77.019997, High=77.230003, Low=76.16999799999999, Close=76.559998),\n Row(Date=datetime.date(2012, 10, 19), Open=76.58000200000001, High=76.709999, Low=75.43, Close=75.620003),\n Row(Date=datetime.date(2012, 10, 22), Open=75.68, High=75.779999, Low=75.089996, Close=75.650002),\n Row(Date=datetime.date(2012, 10, 23), Open=75.050003, High=75.489998, Low=74.510002, Close=74.760002),\n Row(Date=datetime.date(2012, 10, 24), Open=74.93, High=75.0, Low=74.519997, Close=74.82),\n Row(Date=datetime.date(2012, 10, 25), Open=75.300003, High=75.5, Low=74.889999, Close=75.32),\n Row(Date=datetime.date(2012, 10, 26), Open=75.199997, High=75.41999799999999, Low=74.68, Close=75.110001),\n Row(Date=datetime.date(2012, 10, 31), Open=75.25, High=75.68, Low=74.129997, Close=75.019997),\n Row(Date=datetime.date(2012, 11, 1), Open=75.129997, High=75.160004, Low=73.150002, Close=73.449997),\n Row(Date=datetime.date(2012, 11, 2), Open=73.459999, High=73.57, Low=72.709999, Close=72.769997),\n Row(Date=datetime.date(2012, 11, 5), Open=72.660004, High=73.199997, Low=72.650002, Close=73.139999),\n Row(Date=datetime.date(2012, 11, 6), Open=73.16999799999999, High=74.279999, Low=73.129997, Close=73.760002),\n Row(Date=datetime.date(2012, 11, 7), Open=73.41999799999999, High=73.900002, Low=72.860001, Close=73.110001),\n Row(Date=datetime.date(2012, 11, 8), Open=73.010002, High=73.980003, Low=72.480003, Close=72.480003),\n Row(Date=datetime.date(2012, 11, 9), Open=72.129997, High=72.599998, Low=71.91999799999999, Close=72.309998),\n Row(Date=datetime.date(2012, 11, 12), Open=72.269997, High=72.599998, Low=71.900002, Close=72.480003),\n Row(Date=datetime.date(2012, 11, 13), Open=71.970001, High=72.300003, Low=71.18, Close=71.809998),\n Row(Date=datetime.date(2012, 11, 14), Open=71.860001, High=72.0, Low=71.08000200000001, Close=71.309998),\n Row(Date=datetime.date(2012, 11, 15), Open=69.660004, High=69.690002, Low=67.849998, Close=68.720001),\n Row(Date=datetime.date(2012, 11, 16), Open=68.589996, High=68.690002, Low=67.879997, Close=68.029999),\n Row(Date=datetime.date(2012, 11, 19), Open=68.150002, High=69.129997, Low=67.650002, Close=69.019997),\n Row(Date=datetime.date(2012, 11, 20), Open=69.239998, High=69.239998, Low=68.449997, Close=69.0),\n Row(Date=datetime.date(2012, 11, 21), Open=68.860001, High=69.059998, Low=68.68, Close=68.889999),\n Row(Date=datetime.date(2012, 11, 23), Open=69.339996, High=70.239998, Low=68.879997, Close=70.199997),\n Row(Date=datetime.date(2012, 11, 26), Open=70.129997, High=70.230003, Low=69.449997, Close=69.910004),\n Row(Date=datetime.date(2012, 11, 27), Open=69.900002, High=70.16999799999999, Low=69.449997, Close=69.5),\n Row(Date=datetime.date(2012, 11, 28), Open=69.459999, High=70.809998, Low=69.290001, Close=70.559998),\n Row(Date=datetime.date(2012, 11, 29), Open=70.480003, High=71.040001, Low=70.129997, Close=70.83000200000001),\n Row(Date=datetime.date(2012, 11, 30), Open=70.970001, High=72.120003, Low=70.849998, Close=72.019997),\n Row(Date=datetime.date(2012, 12, 3), Open=72.110001, High=72.339996, Low=71.339996, Close=71.339996),\n Row(Date=datetime.date(2012, 12, 4), Open=71.470001, High=72.599998, Low=71.449997, Close=72.120003),\n Row(Date=datetime.date(2012, 12, 5), Open=71.940002, High=72.019997, Low=71.230003, Close=71.650002),\n Row(Date=datetime.date(2012, 12, 6), Open=71.66999799999999, High=71.849998, Low=71.099998, Close=71.589996),\n Row(Date=datetime.date(2012, 12, 7), Open=71.900002, High=72.589996, Low=71.849998, Close=72.290001),\n Row(Date=datetime.date(2012, 12, 10), Open=72.08000200000001, High=72.339996, Low=71.790001, Close=72.150002),\n Row(Date=datetime.date(2012, 12, 11), Open=72.25, High=72.699997, Low=70.82, Close=70.889999),\n Row(Date=datetime.date(2012, 12, 12), Open=70.199997, High=70.349998, Low=68.910004, Close=68.940002),\n Row(Date=datetime.date(2012, 12, 13), Open=69.040001, High=69.360001, Low=69.0, Close=69.040001),\n Row(Date=datetime.date(2012, 12, 14), Open=69.050003, High=69.300003, Low=68.739998, Close=68.75),\n Row(Date=datetime.date(2012, 12, 17), Open=68.959999, High=69.510002, Low=68.889999, Close=69.199997),\n Row(Date=datetime.date(2012, 12, 18), Open=69.110001, High=69.660004, Low=68.910004, Close=69.5),\n Row(Date=datetime.date(2012, 12, 19), Open=69.43, High=69.5, Low=68.519997, Close=68.519997),\n Row(Date=datetime.date(2012, 12, 20), Open=68.33000200000001, High=69.059998, Low=68.16999799999999, Close=69.0),\n Row(Date=datetime.date(2012, 12, 21), Open=68.870003, High=69.160004, Low=68.269997, Close=68.650002),\n Row(Date=datetime.date(2012, 12, 24), Open=68.510002, High=68.809998, Low=68.309998, Close=68.57),\n Row(Date=datetime.date(2012, 12, 26), Open=68.559998, High=68.650002, Low=67.730003, Close=67.989998),\n Row(Date=datetime.date(2012, 12, 27), Open=68.029999, High=68.41999799999999, Low=67.790001, Close=68.190002),\n Row(Date=datetime.date(2012, 12, 28), Open=67.910004, High=68.349998, Low=67.540001, Close=67.610001),\n Row(Date=datetime.date(2012, 12, 31), Open=67.489998, High=68.300003, Low=67.370003, Close=68.230003),\n Row(Date=datetime.date(2013, 1, 2), Open=68.93, High=69.239998, Low=68.449997, Close=69.239998),\n Row(Date=datetime.date(2013, 1, 3), Open=69.25, High=69.349998, Low=68.379997, Close=68.800003),\n Row(Date=datetime.date(2013, 1, 4), Open=68.730003, High=69.18, Low=68.339996, Close=69.059998),\n Row(Date=datetime.date(2013, 1, 7), Open=68.83000200000001, High=68.91999799999999, Low=68.129997, Close=68.400002),\n Row(Date=datetime.date(2013, 1, 8), Open=68.279999, High=68.889999, Low=68.209999, Close=68.589996),\n Row(Date=datetime.date(2013, 1, 9), Open=68.660004, High=68.709999, Low=68.220001, Close=68.57),\n Row(Date=datetime.date(2013, 1, 10), Open=68.660004, High=69.029999, Low=67.720001, Close=68.360001),\n Row(Date=datetime.date(2013, 1, 11), Open=68.599998, High=68.790001, Low=68.209999, Close=68.629997),\n Row(Date=datetime.date(2013, 1, 14), Open=68.489998, High=68.66999799999999, Low=68.110001, Close=68.300003),\n Row(Date=datetime.date(2013, 1, 15), Open=68.190002, High=69.239998, Low=68.099998, Close=68.980003),\n Row(Date=datetime.date(2013, 1, 16), Open=68.940002, High=69.370003, Low=68.889999, Close=69.209999),\n Row(Date=datetime.date(2013, 1, 17), Open=69.300003, High=69.32, Low=68.709999, Close=68.849998),\n Row(Date=datetime.date(2013, 1, 18), Open=68.849998, High=69.199997, Low=68.849998, Close=69.199997),\n Row(Date=datetime.date(2013, 1, 22), Open=69.050003, High=69.650002, Low=68.959999, Close=69.58000200000001),\n Row(Date=datetime.date(2013, 1, 23), Open=69.389999, High=69.639999, Low=69.150002, Close=69.489998),\n Row(Date=datetime.date(2013, 1, 24), Open=69.650002, High=69.989998, Low=69.349998, Close=69.790001),\n Row(Date=datetime.date(2013, 1, 25), Open=69.910004, High=70.0, Low=68.93, Close=69.0),\n Row(Date=datetime.date(2013, 1, 28), Open=69.08000200000001, High=69.5, Low=68.800003, Close=69.349998),\n Row(Date=datetime.date(2013, 1, 29), Open=69.209999, High=70.199997, Low=69.199997, Close=69.889999),\n Row(Date=datetime.date(2013, 1, 30), Open=70.120003, High=70.120003, Low=69.5, Close=69.75),\n Row(Date=datetime.date(2013, 1, 31), Open=69.690002, High=70.440002, Low=69.690002, Close=69.949997),\n Row(Date=datetime.date(2013, 2, 1), Open=70.110001, High=70.540001, Low=69.949997, Close=70.489998),\n Row(Date=datetime.date(2013, 2, 4), Open=69.440002, High=69.900002, Low=69.129997, Close=69.629997),\n Row(Date=datetime.date(2013, 2, 5), Open=69.870003, High=71.07, Low=69.760002, Close=70.769997),\n Row(Date=datetime.date(2013, 2, 6), Open=70.480003, High=71.32, Low=70.300003, Close=71.309998),\n Row(Date=datetime.date(2013, 2, 7), Open=71.440002, High=71.639999, Low=70.900002, Close=71.230003),\n Row(Date=datetime.date(2013, 2, 8), Open=71.199997, High=71.639999, Low=71.07, Close=71.480003),\n Row(Date=datetime.date(2013, 2, 11), Open=71.25, High=71.510002, Low=70.529999, Close=71.400002),\n Row(Date=datetime.date(2013, 2, 12), Open=71.489998, High=71.660004, Low=71.099998, Close=71.400002),\n Row(Date=datetime.date(2013, 2, 13), Open=71.290001, High=71.699997, Low=71.209999, Close=71.389999),\n Row(Date=datetime.date(2013, 2, 14), Open=71.099998, High=71.230003, Low=70.75, Close=70.82),\n Row(Date=datetime.date(2013, 2, 15), Open=69.540001, High=70.0, Low=68.129997, Close=69.300003),\n Row(Date=datetime.date(2013, 2, 19), Open=69.190002, High=69.449997, Low=68.540001, Close=68.760002),\n Row(Date=datetime.date(2013, 2, 20), Open=68.720001, High=69.849998, Low=68.300003, Close=69.209999),\n Row(Date=datetime.date(2013, 2, 21), Open=70.0, High=71.470001, Low=69.720001, Close=70.260002),\n Row(Date=datetime.date(2013, 2, 22), Open=70.220001, High=70.540001, Low=69.889999, Close=70.400002),\n Row(Date=datetime.date(2013, 2, 25), Open=70.5, High=71.339996, Low=70.440002, Close=70.440002),\n Row(Date=datetime.date(2013, 2, 26), Open=70.690002, High=71.389999, Low=70.610001, Close=71.110001),\n Row(Date=datetime.date(2013, 2, 27), Open=70.91999799999999, High=71.959999, Low=70.58000200000001, Close=71.660004),\n Row(Date=datetime.date(2013, 2, 28), Open=71.589996, High=71.879997, Low=70.779999, Close=70.779999),\n Row(Date=datetime.date(2013, 3, 1), Open=70.779999, High=71.900002, Low=70.779999, Close=71.739998),\n Row(Date=datetime.date(2013, 3, 4), Open=71.519997, High=73.260002, Low=71.510002, Close=73.260002),\n Row(Date=datetime.date(2013, 3, 5), Open=73.470001, High=74.040001, Low=72.989998, Close=73.720001),\n Row(Date=datetime.date(2013, 3, 6), Open=73.75, High=74.129997, Low=73.25, Close=73.379997),\n Row(Date=datetime.date(2013, 3, 7), Open=73.489998, High=73.610001, Low=73.199997, Close=73.32),\n Row(Date=datetime.date(2013, 3, 8), Open=73.300003, High=73.389999, Low=72.839996, Close=73.029999),\n Row(Date=datetime.date(2013, 3, 11), Open=73.089996, High=73.239998, Low=72.809998, Close=72.980003),\n Row(Date=datetime.date(2013, 3, 12), Open=72.949997, High=73.900002, Low=72.839996, Close=73.599998),\n Row(Date=datetime.date(2013, 3, 13), Open=73.889999, High=74.199997, Low=73.540001, Close=73.650002),\n Row(Date=datetime.date(2013, 3, 14), Open=73.870003, High=74.0, Low=73.129997, Close=73.220001),\n Row(Date=datetime.date(2013, 3, 15), Open=73.010002, High=73.5, Low=72.43, Close=72.5),\n Row(Date=datetime.date(2013, 3, 18), Open=72.290001, High=72.730003, Low=72.010002, Close=72.25),\n Row(Date=datetime.date(2013, 3, 19), Open=72.41999799999999, High=72.870003, Low=72.190002, Close=72.449997),\n Row(Date=datetime.date(2013, 3, 20), Open=72.809998, High=73.379997, Low=72.739998, Close=72.989998),\n Row(Date=datetime.date(2013, 3, 21), Open=72.870003, High=73.470001, Low=72.849998, Close=73.129997),\n Row(Date=datetime.date(2013, 3, 22), Open=73.349998, High=74.290001, Low=73.290001, Close=74.279999),\n Row(Date=datetime.date(2013, 3, 25), Open=74.139999, High=75.110001, Low=74.120003, Close=74.849998),\n Row(Date=datetime.date(2013, 3, 26), Open=74.93, High=75.089996, Low=74.43, Close=74.769997),\n Row(Date=datetime.date(2013, 3, 27), Open=74.309998, High=74.959999, Low=74.239998, Close=74.779999),\n Row(Date=datetime.date(2013, 3, 28), Open=74.839996, High=74.970001, Low=74.379997, Close=74.83000200000001),\n Row(Date=datetime.date(2013, 4, 1), Open=75.0, High=75.93, Low=74.900002, Close=75.43),\n Row(Date=datetime.date(2013, 4, 2), Open=75.550003, High=76.050003, Low=75.41999799999999, Close=76.019997),\n Row(Date=datetime.date(2013, 4, 3), Open=76.309998, High=76.68, Low=75.720001, Close=76.0),\n Row(Date=datetime.date(2013, 4, 4), Open=75.959999, High=76.58000200000001, Low=75.959999, Close=76.199997),\n Row(Date=datetime.date(2013, 4, 5), Open=75.550003, High=76.410004, Low=75.43, Close=76.389999),\n Row(Date=datetime.date(2013, 4, 8), Open=76.099998, High=77.449997, Low=75.83000200000001, Close=77.290001),\n Row(Date=datetime.date(2013, 4, 9), Open=77.239998, High=78.459999, Low=77.019997, Close=78.120003),\n Row(Date=datetime.date(2013, 4, 10), Open=78.279999, High=78.379997, Low=77.370003, Close=77.370003),\n Row(Date=datetime.date(2013, 4, 11), Open=77.360001, High=78.370003, Low=77.269997, Close=77.790001),\n Row(Date=datetime.date(2013, 4, 12), Open=77.629997, High=78.849998, Low=77.58000200000001, Close=78.559998),\n Row(Date=datetime.date(2013, 4, 15), Open=78.440002, High=79.279999, Low=78.43, Close=78.470001),\n Row(Date=datetime.date(2013, 4, 16), Open=78.230003, High=78.860001, Low=78.029999, Close=78.68),\n Row(Date=datetime.date(2013, 4, 17), Open=78.529999, High=79.07, Low=78.110001, Close=78.510002),\n Row(Date=datetime.date(2013, 4, 18), Open=78.760002, High=79.050003, Low=76.610001, Close=77.160004),\n Row(Date=datetime.date(2013, 4, 19), Open=77.5, High=78.440002, Low=77.400002, Close=78.290001),\n Row(Date=datetime.date(2013, 4, 22), Open=78.290001, High=78.440002, Low=77.5, Close=77.970001),\n Row(Date=datetime.date(2013, 4, 23), Open=78.110001, High=79.220001, Low=78.050003, Close=79.089996),\n Row(Date=datetime.date(2013, 4, 24), Open=79.230003, High=79.5, Low=77.91999799999999, Close=78.029999),\n Row(Date=datetime.date(2013, 4, 25), Open=78.18, High=78.83000200000001, Low=77.879997, Close=78.650002),\n Row(Date=datetime.date(2013, 4, 26), Open=78.58000200000001, High=79.150002, Low=78.57, Close=79.040001),\n Row(Date=datetime.date(2013, 4, 29), Open=79.08000200000001, High=79.25, Low=78.150002, Close=78.389999),\n Row(Date=datetime.date(2013, 4, 30), Open=78.279999, High=78.300003, Low=77.370003, Close=77.720001),\n Row(Date=datetime.date(2013, 5, 1), Open=77.849998, High=78.660004, Low=77.690002, Close=78.059998),\n Row(Date=datetime.date(2013, 5, 2), Open=77.910004, High=78.489998, Low=77.800003, Close=78.459999),\n Row(Date=datetime.date(2013, 5, 3), Open=78.91999799999999, High=79.339996, Low=78.900002, Close=79.25),\n Row(Date=datetime.date(2013, 5, 6), Open=79.099998, High=79.160004, Low=78.769997, Close=78.83000200000001),\n Row(Date=datetime.date(2013, 5, 7), Open=79.099998, High=79.139999, Low=78.769997, Close=78.83000200000001),\n Row(Date=datetime.date(2013, 5, 8), Open=78.559998, High=78.660004, Low=77.779999, Close=78.25),\n Row(Date=datetime.date(2013, 5, 9), Open=78.309998, High=78.959999, Low=77.900002, Close=78.400002),\n Row(Date=datetime.date(2013, 5, 10), Open=78.470001, High=78.910004, Low=78.279999, Close=78.889999),\n Row(Date=datetime.date(2013, 5, 13), Open=78.800003, High=78.940002, Low=77.91999799999999, Close=78.5),\n Row(Date=datetime.date(2013, 5, 14), Open=77.980003, High=78.860001, Low=77.66999799999999, Close=78.779999),\n Row(Date=datetime.date(2013, 5, 15), Open=78.800003, High=79.959999, Low=78.650002, Close=79.860001),\n Row(Date=datetime.date(2013, 5, 16), Open=78.099998, High=78.860001, Low=77.339996, Close=78.5),\n Row(Date=datetime.date(2013, 5, 17), Open=78.300003, High=78.589996, Low=77.400002, Close=77.870003),\n Row(Date=datetime.date(2013, 5, 20), Open=77.879997, High=77.900002, Low=77.360001, Close=77.400002),\n Row(Date=datetime.date(2013, 5, 21), Open=77.620003, High=78.18, Low=77.25, Close=77.389999),\n Row(Date=datetime.date(2013, 5, 22), Open=77.190002, High=77.800003, Low=76.75, Close=77.029999),\n Row(Date=datetime.date(2013, 5, 23), Open=76.83000200000001, High=76.940002, Low=76.25, Close=76.33000200000001),\n Row(Date=datetime.date(2013, 5, 24), Open=76.32, High=77.410004, Low=76.150002, Close=77.309998),\n Row(Date=datetime.date(2013, 5, 28), Open=77.519997, High=78.040001, Low=77.059998, Close=77.32),\n Row(Date=datetime.date(2013, 5, 29), Open=77.050003, High=77.050003, Low=76.059998, Close=76.230003),\n Row(Date=datetime.date(2013, 5, 30), Open=76.489998, High=76.540001, Low=75.610001, Close=75.629997),\n Row(Date=datetime.date(2013, 5, 31), Open=75.360001, High=75.629997, Low=74.82, Close=74.839996),\n Row(Date=datetime.date(2013, 6, 3), Open=75.059998, High=75.800003, Low=74.639999, Close=75.690002),\n Row(Date=datetime.date(2013, 6, 4), Open=75.769997, High=76.379997, Low=75.470001, Close=75.940002),\n Row(Date=datetime.date(2013, 6, 5), Open=75.720001, High=75.949997, Low=75.07, Close=75.25),\n Row(Date=datetime.date(2013, 6, 6), Open=75.269997, High=75.739998, Low=74.839996, Close=75.629997),\n Row(Date=datetime.date(2013, 6, 7), Open=76.379997, High=76.870003, Low=76.190002, Close=76.33000200000001),\n Row(Date=datetime.date(2013, 6, 10), Open=76.279999, High=76.650002, Low=75.660004, Close=75.75),\n Row(Date=datetime.date(2013, 6, 11), Open=75.41999799999999, High=75.83000200000001, Low=74.989998, Close=75.25),\n Row(Date=datetime.date(2013, 6, 12), Open=75.470001, High=75.709999, Low=74.650002, Close=74.839996),\n Row(Date=datetime.date(2013, 6, 13), Open=74.779999, High=75.33000200000001, Low=74.559998, Close=75.0),\n Row(Date=datetime.date(2013, 6, 14), Open=74.839996, High=75.269997, Low=74.800003, Close=74.870003),\n Row(Date=datetime.date(2013, 6, 17), Open=75.0, High=75.449997, Low=74.510002, Close=74.949997),\n Row(Date=datetime.date(2013, 6, 18), Open=75.0, High=75.879997, Low=74.800003, Close=75.730003),\n Row(Date=datetime.date(2013, 6, 19), Open=75.739998, High=75.959999, Low=74.339996, Close=74.459999),\n Row(Date=datetime.date(2013, 6, 20), Open=74.5, High=74.660004, Low=73.010002, Close=73.029999),\n Row(Date=datetime.date(2013, 6, 21), Open=73.519997, High=74.199997, Low=73.25, Close=73.510002),\n Row(Date=datetime.date(2013, 6, 24), Open=73.050003, High=74.790001, Low=72.900002, Close=74.199997),\n Row(Date=datetime.date(2013, 6, 25), Open=74.269997, High=74.75, Low=73.839996, Close=74.370003),\n Row(Date=datetime.date(2013, 6, 26), Open=74.620003, High=75.18, Low=74.540001, Close=75.010002),\n Row(Date=datetime.date(2013, 6, 27), Open=75.480003, High=76.110001, Low=75.239998, Close=75.260002),\n Row(Date=datetime.date(2013, 6, 28), Open=75.110001, High=75.660004, Low=74.449997, Close=74.489998),\n Row(Date=datetime.date(2013, 7, 1), Open=74.989998, High=75.279999, Low=74.099998, Close=74.589996),\n Row(Date=datetime.date(2013, 7, 2), Open=74.309998, High=75.68, Low=74.209999, Close=74.709999),\n Row(Date=datetime.date(2013, 7, 3), Open=74.410004, High=75.120003, Low=74.089996, Close=74.760002),\n Row(Date=datetime.date(2013, 7, 5), Open=75.150002, High=75.260002, Low=74.410004, Close=75.209999),\n Row(Date=datetime.date(2013, 7, 8), Open=75.68, High=76.769997, Low=75.68, Close=76.709999),\n Row(Date=datetime.date(2013, 7, 9), Open=76.959999, High=77.440002, Low=76.739998, Close=77.029999),\n Row(Date=datetime.date(2013, 7, 10), Open=76.959999, High=77.5, Low=76.449997, Close=76.769997),\n Row(Date=datetime.date(2013, 7, 11), Open=77.449997, High=77.75, Low=77.33000200000001, Close=77.629997),\n Row(Date=datetime.date(2013, 7, 12), Open=77.610001, High=77.66999799999999, Low=77.33000200000001, Close=77.629997),\n Row(Date=datetime.date(2013, 7, 15), Open=77.300003, High=77.300003, Low=76.699997, Close=77.029999),\n Row(Date=datetime.date(2013, 7, 16), Open=76.980003, High=77.449997, Low=76.900002, Close=77.370003),\n Row(Date=datetime.date(2013, 7, 17), Open=77.620003, High=77.790001, Low=77.089996, Close=77.199997),\n Row(Date=datetime.date(2013, 7, 18), Open=77.220001, High=77.550003, Low=77.010002, Close=77.339996),\n Row(Date=datetime.date(2013, 7, 19), Open=77.449997, High=78.16999799999999, Low=77.339996, Close=78.08000200000001),\n Row(Date=datetime.date(2013, 7, 22), Open=77.889999, High=78.25, Low=77.730003, Close=77.870003),\n Row(Date=datetime.date(2013, 7, 23), Open=77.959999, High=78.629997, Low=77.800003, Close=78.550003),\n Row(Date=datetime.date(2013, 7, 24), Open=78.68, High=78.690002, Low=77.720001, Close=78.230003),\n Row(Date=datetime.date(2013, 7, 25), Open=78.050003, High=78.459999, Low=77.629997, Close=78.010002),\n Row(Date=datetime.date(2013, 7, 26), Open=77.93, High=78.029999, Low=77.099998, Close=78.0),\n Row(Date=datetime.date(2013, 7, 29), Open=77.83000200000001, High=78.25, Low=77.779999, Close=77.989998),\n Row(Date=datetime.date(2013, 7, 30), Open=78.209999, High=78.360001, Low=77.690002, Close=77.889999),\n Row(Date=datetime.date(2013, 7, 31), Open=77.91999799999999, High=78.480003, Low=77.730003, Close=77.940002),\n Row(Date=datetime.date(2013, 8, 1), Open=78.41999799999999, High=78.66999799999999, Low=78.110001, Close=78.220001),\n Row(Date=datetime.date(2013, 8, 2), Open=78.25, High=78.75, Low=78.0, Close=78.75),\n Row(Date=datetime.date(2013, 8, 5), Open=78.620003, High=79.0, Low=78.43, Close=78.769997),\n Row(Date=datetime.date(2013, 8, 6), Open=78.559998, High=78.57, Low=77.559998, Close=77.870003),\n Row(Date=datetime.date(2013, 8, 7), Open=77.160004, High=77.629997, Low=76.620003, Close=77.370003),\n Row(Date=datetime.date(2013, 8, 8), Open=77.510002, High=77.889999, Low=76.93, Close=77.25),\n Row(Date=datetime.date(2013, 8, 9), Open=77.209999, High=77.32, Low=76.769997, Close=76.900002),\n Row(Date=datetime.date(2013, 8, 12), Open=76.559998, High=77.389999, Low=76.489998, Close=77.08000200000001),\n Row(Date=datetime.date(2013, 8, 13), Open=77.16999799999999, High=77.25, Low=76.220001, Close=76.860001),\n Row(Date=datetime.date(2013, 8, 14), Open=76.809998, High=77.220001, Low=76.230003, Close=76.400002),\n Row(Date=datetime.date(2013, 8, 15), Open=74.459999, High=75.08000200000001, Low=74.029999, Close=74.410004),\n Row(Date=datetime.date(2013, 8, 16), Open=74.120003, High=74.5, Low=73.699997, Close=74.110001),\n Row(Date=datetime.date(2013, 8, 19), Open=73.879997, High=73.93, Low=73.209999, Close=73.58000200000001),\n Row(Date=datetime.date(2013, 8, 20), Open=73.550003, High=73.620003, Low=73.199997, Close=73.230003),\n Row(Date=datetime.date(2013, 8, 21), Open=73.160004, High=74.129997, Low=72.93, Close=73.550003),\n Row(Date=datetime.date(2013, 8, 22), Open=73.809998, High=74.029999, Low=73.239998, Close=73.459999),\n Row(Date=datetime.date(2013, 8, 23), Open=73.650002, High=73.75, Low=73.029999, Close=73.440002),\n Row(Date=datetime.date(2013, 8, 26), Open=73.639999, High=73.75, Low=73.029999, Close=73.029999),\n Row(Date=datetime.date(2013, 8, 27), Open=72.68, High=73.110001, Low=72.510002, Close=72.860001),\n Row(Date=datetime.date(2013, 8, 28), Open=72.660004, High=72.860001, Low=72.269997, Close=72.379997),\n Row(Date=datetime.date(2013, 8, 29), Open=72.349998, High=72.879997, Low=72.230003, Close=72.43),\n Row(Date=datetime.date(2013, 8, 30), Open=72.639999, High=73.07, Low=72.58000200000001, Close=72.980003),\n Row(Date=datetime.date(2013, 9, 3), Open=73.480003, High=73.58000200000001, Low=72.540001, Close=72.68),\n Row(Date=datetime.date(2013, 9, 4), Open=72.699997, High=73.120003, Low=72.449997, Close=72.910004),\n Row(Date=datetime.date(2013, 9, 5), Open=72.839996, High=73.480003, Low=72.620003, Close=72.66999799999999),\n Row(Date=datetime.date(2013, 9, 6), Open=72.699997, High=73.160004, Low=72.190002, Close=72.589996),\n Row(Date=datetime.date(2013, 9, 9), Open=72.849998, High=73.650002, Low=72.699997, Close=73.510002),\n Row(Date=datetime.date(2013, 9, 10), Open=73.660004, High=74.209999, Low=73.57, Close=73.959999),\n Row(Date=datetime.date(2013, 9, 11), Open=74.0, High=74.239998, Low=73.660004, Close=74.050003),\n Row(Date=datetime.date(2013, 9, 12), Open=74.18, High=74.519997, Low=73.769997, Close=73.910004),\n Row(Date=datetime.date(2013, 9, 13), Open=74.129997, High=74.400002, Low=73.980003, Close=74.360001),\n Row(Date=datetime.date(2013, 9, 16), Open=74.900002, High=75.190002, Low=74.690002, Close=74.779999),\n Row(Date=datetime.date(2013, 9, 17), Open=74.839996, High=75.470001, Low=74.790001, Close=75.150002),\n Row(Date=datetime.date(2013, 9, 18), Open=75.160004, High=76.529999, Low=74.900002, Close=76.41999799999999),\n Row(Date=datetime.date(2013, 9, 19), Open=76.5, High=76.529999, Low=75.620003, Close=76.209999),\n Row(Date=datetime.date(2013, 9, 20), Open=76.32, High=76.449997, Low=75.83000200000001, Close=75.83000200000001),\n Row(Date=datetime.date(2013, 9, 23), Open=75.389999, High=76.43, Low=75.199997, Close=76.41999799999999),\n Row(Date=datetime.date(2013, 9, 24), Open=76.400002, High=76.730003, Low=75.690002, Close=75.75),\n Row(Date=datetime.date(2013, 9, 25), Open=75.910004, High=75.940002, Low=73.559998, Close=74.650002),\n Row(Date=datetime.date(2013, 9, 26), Open=74.779999, High=74.980003, Low=74.220001, Close=74.620003),\n Row(Date=datetime.date(2013, 9, 27), Open=74.379997, High=74.459999, Low=74.07, Close=74.360001),\n Row(Date=datetime.date(2013, 9, 30), Open=74.279999, High=74.599998, Low=73.739998, Close=73.959999),\n Row(Date=datetime.date(2013, 10, 1), Open=73.870003, High=73.889999, Low=73.32, Close=73.589996),\n Row(Date=datetime.date(2013, 10, 2), Open=73.389999, High=73.720001, Low=73.040001, Close=73.720001),\n Row(Date=datetime.date(2013, 10, 3), Open=73.529999, High=73.529999, Low=72.949997, Close=73.160004),\n Row(Date=datetime.date(2013, 10, 4), Open=73.010002, High=73.379997, Low=72.790001, Close=72.800003),\n Row(Date=datetime.date(2013, 10, 7), Open=72.41999799999999, High=72.41999799999999, Low=71.510002, Close=71.870003),\n Row(Date=datetime.date(2013, 10, 8), Open=71.849998, High=73.190002, Low=71.800003, Close=72.900002),\n Row(Date=datetime.date(2013, 10, 9), Open=72.83000200000001, High=73.339996, Low=72.57, Close=73.0),\n Row(Date=datetime.date(2013, 10, 10), Open=73.480003, High=74.870003, Low=73.269997, Close=74.790001),\n Row(Date=datetime.date(2013, 10, 11), Open=74.610001, High=74.83000200000001, Low=73.83000200000001, Close=74.82),\n Row(Date=datetime.date(2013, 10, 14), Open=74.339996, High=74.709999, Low=73.75, Close=74.68),\n Row(Date=datetime.date(2013, 10, 15), Open=74.43, High=75.370003, Low=73.989998, Close=74.370003),\n Row(Date=datetime.date(2013, 10, 16), Open=74.809998, High=75.620003, Low=74.57, Close=75.599998),\n Row(Date=datetime.date(2013, 10, 17), Open=75.489998, High=76.120003, Low=71.690002, Close=75.779999),\n Row(Date=datetime.date(2013, 10, 18), Open=75.800003, High=75.93, Low=75.480003, Close=75.709999),\n Row(Date=datetime.date(2013, 10, 21), Open=75.720001, High=75.82, Low=74.82, Close=75.150002),\n Row(Date=datetime.date(2013, 10, 22), Open=75.43, High=76.489998, Low=75.209999, Close=76.32),\n Row(Date=datetime.date(2013, 10, 23), Open=76.18, High=76.349998, Low=75.809998, Close=75.900002),\n Row(Date=datetime.date(2013, 10, 24), Open=76.029999, High=76.510002, Low=75.82, Close=76.41999799999999),\n Row(Date=datetime.date(2013, 10, 25), Open=76.370003, High=76.760002, Low=75.779999, Close=76.08000200000001),\n Row(Date=datetime.date(2013, 10, 28), Open=76.160004, High=77.209999, Low=76.050003, Close=77.139999),\n Row(Date=datetime.date(2013, 10, 29), Open=77.25, High=77.629997, Low=76.75, Close=77.059998),\n Row(Date=datetime.date(2013, 10, 30), Open=77.269997, High=77.529999, Low=76.559998, Close=76.910004),\n Row(Date=datetime.date(2013, 10, 31), Open=76.879997, High=77.150002, Low=76.599998, Close=76.75),\n Row(Date=datetime.date(2013, 11, 1), Open=76.970001, High=77.400002, Low=76.589996, Close=77.07),\n Row(Date=datetime.date(2013, 11, 4), Open=77.220001, High=77.650002, Low=77.199997, Close=77.33000200000001),\n Row(Date=datetime.date(2013, 11, 5), Open=76.809998, High=77.610001, Low=76.720001, Close=77.41999799999999),\n Row(Date=datetime.date(2013, 11, 6), Open=77.639999, High=78.279999, Low=77.300003, Close=78.160004),\n Row(Date=datetime.date(2013, 11, 7), Open=78.190002, High=78.220001, Low=77.239998, Close=77.510002),\n Row(Date=datetime.date(2013, 11, 8), Open=77.489998, High=77.959999, Low=76.790001, Close=77.959999),\n Row(Date=datetime.date(2013, 11, 11), Open=77.860001, High=79.07, Low=77.790001, Close=79.010002),\n Row(Date=datetime.date(2013, 11, 12), Open=78.849998, High=78.970001, Low=78.25, Close=78.709999),\n Row(Date=datetime.date(2013, 11, 13), Open=78.41999799999999, High=78.989998, Low=78.349998, Close=78.900002),\n Row(Date=datetime.date(2013, 11, 14), Open=77.75, High=79.529999, Low=77.68, Close=79.08000200000001),\n Row(Date=datetime.date(2013, 11, 15), Open=78.93, High=79.290001, Low=78.75, Close=79.220001),\n Row(Date=datetime.date(2013, 11, 18), Open=79.230003, High=79.32, Low=78.910004, Close=79.220001),\n Row(Date=datetime.date(2013, 11, 19), Open=79.300003, High=79.349998, Low=78.879997, Close=79.25),\n Row(Date=datetime.date(2013, 11, 20), Open=79.309998, High=79.389999, Low=78.489998, Close=78.900002),\n Row(Date=datetime.date(2013, 11, 21), Open=78.739998, High=79.199997, Low=78.550003, Close=78.860001),\n Row(Date=datetime.date(2013, 11, 22), Open=78.870003, High=79.870003, Low=78.75, Close=79.809998),\n Row(Date=datetime.date(2013, 11, 25), Open=80.059998, High=80.57, Low=79.910004, Close=80.43),\n Row(Date=datetime.date(2013, 11, 26), Open=80.440002, High=80.68, Low=80.110001, Close=80.68),\n Row(Date=datetime.date(2013, 11, 27), Open=80.550003, High=81.0, Low=80.379997, Close=80.93),\n Row(Date=datetime.date(2013, 11, 29), Open=81.16999799999999, High=81.349998, Low=80.82, Close=81.010002),\n Row(Date=datetime.date(2013, 12, 2), Open=80.889999, High=81.279999, Low=80.370003, Close=81.110001),\n Row(Date=datetime.date(2013, 12, 3), Open=81.209999, High=81.33000200000001, Low=80.699997, Close=81.209999),\n Row(Date=datetime.date(2013, 12, 4), Open=80.639999, High=81.370003, Low=79.910004, Close=80.220001),\n Row(Date=datetime.date(2013, 12, 5), Open=79.720001, High=79.769997, Low=78.870003, Close=79.440002),\n Row(Date=datetime.date(2013, 12, 6), Open=79.709999, High=80.230003, Low=79.639999, Close=79.940002),\n Row(Date=datetime.date(2013, 12, 9), Open=80.239998, High=80.43, Low=79.699997, Close=79.949997),\n Row(Date=datetime.date(2013, 12, 10), Open=79.720001, High=79.800003, Low=79.050003, Close=79.08000200000001),\n Row(Date=datetime.date(2013, 12, 11), Open=79.099998, High=79.720001, Low=79.050003, Close=79.089996),\n Row(Date=datetime.date(2013, 12, 12), Open=79.110001, High=79.260002, Low=78.400002, Close=78.5),\n Row(Date=datetime.date(2013, 12, 13), Open=78.730003, High=78.769997, Low=77.93, Close=78.08000200000001),\n Row(Date=datetime.date(2013, 12, 16), Open=78.25, High=78.5, Low=77.599998, Close=77.739998),\n Row(Date=datetime.date(2013, 12, 17), Open=77.739998, High=77.889999, Low=77.220001, Close=77.25),\n Row(Date=datetime.date(2013, 12, 18), Open=77.279999, High=77.980003, Low=76.809998, Close=77.940002),\n Row(Date=datetime.date(2013, 12, 19), Open=77.66999799999999, High=77.83000200000001, Low=77.199997, Close=77.239998),\n Row(Date=datetime.date(2013, 12, 20), Open=77.279999, High=77.879997, Low=77.25, Close=77.43),\n Row(Date=datetime.date(2013, 12, 23), Open=77.730003, High=77.989998, Low=77.370003, Close=77.870003),\n Row(Date=datetime.date(2013, 12, 24), Open=77.949997, High=78.239998, Low=77.629997, Close=78.010002),\n Row(Date=datetime.date(2013, 12, 26), Open=78.059998, High=78.519997, Low=77.970001, Close=78.389999),\n Row(Date=datetime.date(2013, 12, 27), Open=78.599998, High=78.93, Low=78.300003, Close=78.470001),\n Row(Date=datetime.date(2013, 12, 30), Open=78.610001, High=78.879997, Low=78.43, Close=78.629997),\n Row(Date=datetime.date(2013, 12, 31), Open=78.660004, High=78.870003, Low=78.349998, Close=78.690002),\n Row(Date=datetime.date(2014, 1, 2), Open=78.720001, High=79.470001, Low=78.5, Close=78.910004),\n Row(Date=datetime.date(2014, 1, 3), Open=78.809998, High=79.129997, Low=78.519997, Close=78.650002),\n Row(Date=datetime.date(2014, 1, 6), Open=78.860001, High=78.910004, Low=77.790001, Close=78.209999),\n Row(Date=datetime.date(2014, 1, 7), Open=78.16999799999999, High=78.849998, Low=77.91999799999999, Close=78.449997),\n Row(Date=datetime.date(2014, 1, 8), Open=78.5, High=78.510002, Low=77.599998, Close=77.83000200000001),\n Row(Date=datetime.date(2014, 1, 9), Open=78.389999, High=78.400002, Low=77.489998, Close=78.089996),\n Row(Date=datetime.date(2014, 1, 10), Open=78.309998, High=78.720001, Low=77.540001, Close=78.040001),\n Row(Date=datetime.date(2014, 1, 13), Open=77.599998, High=77.970001, Low=77.239998, Close=77.489998),\n Row(Date=datetime.date(2014, 1, 14), Open=77.459999, High=78.0, Low=77.379997, Close=77.959999),\n Row(Date=datetime.date(2014, 1, 15), Open=77.959999, High=78.099998, Low=77.57, Close=77.660004),\n Row(Date=datetime.date(2014, 1, 16), Open=77.389999, High=77.470001, Low=76.349998, Close=76.760002),\n Row(Date=datetime.date(2014, 1, 17), Open=76.730003, High=76.82, Low=76.029999, Close=76.190002),\n Row(Date=datetime.date(2014, 1, 21), Open=76.25, High=76.389999, Low=74.860001, Close=75.839996),\n Row(Date=datetime.date(2014, 1, 22), Open=76.08000200000001, High=76.08000200000001, Low=75.029999, Close=75.349998),\n Row(Date=datetime.date(2014, 1, 23), Open=74.839996, High=75.120003, Low=74.470001, Close=74.959999),\n Row(Date=datetime.date(2014, 1, 24), Open=74.730003, High=75.120003, Low=74.230003, Close=74.41999799999999),\n Row(Date=datetime.date(2014, 1, 27), Open=74.129997, High=74.370003, Low=73.83000200000001, Close=74.150002),\n Row(Date=datetime.date(2014, 1, 28), Open=74.260002, High=75.400002, Low=74.099998, Close=74.66999799999999),\n Row(Date=datetime.date(2014, 1, 29), Open=75.290001, High=75.370003, Low=74.07, Close=74.099998),\n Row(Date=datetime.date(2014, 1, 30), Open=74.540001, High=75.089996, Low=74.360001, Close=74.75),\n Row(Date=datetime.date(2014, 1, 31), Open=73.91999799999999, High=75.190002, Low=73.639999, Close=74.68),\n Row(Date=datetime.date(2014, 2, 3), Open=74.190002, High=74.5, Low=72.540001, Close=72.660004),\n Row(Date=datetime.date(2014, 2, 4), Open=72.66999799999999, High=73.099998, Low=72.300003, Close=72.730003),\n Row(Date=datetime.date(2014, 2, 5), Open=72.269997, High=73.160004, Low=72.269997, Close=72.870003),\n Row(Date=datetime.date(2014, 2, 6), Open=72.970001, High=73.209999, Low=72.5, Close=72.82),\n Row(Date=datetime.date(2014, 2, 7), Open=73.050003, High=73.800003, Low=72.5, Close=73.75),\n Row(Date=datetime.date(2014, 2, 10), Open=73.589996, High=73.760002, Low=72.959999, Close=73.760002),\n Row(Date=datetime.date(2014, 2, 11), Open=73.900002, High=74.849998, Low=73.66999799999999, Close=74.800003),\n Row(Date=datetime.date(2014, 2, 12), Open=74.220001, High=75.18, Low=74.220001, Close=74.959999),\n Row(Date=datetime.date(2014, 2, 13), Open=74.68, High=75.489998, Low=74.559998, Close=75.360001),\n Row(Date=datetime.date(2014, 2, 14), Open=75.400002, High=75.989998, Low=75.099998, Close=75.790001),\n Row(Date=datetime.date(2014, 2, 18), Open=75.489998, High=75.650002, Low=74.860001, Close=75.33000200000001),\n Row(Date=datetime.date(2014, 2, 19), Open=75.010002, High=75.32, Low=74.410004, Close=74.849998),\n Row(Date=datetime.date(2014, 2, 20), Open=73.050003, High=74.0, Low=72.809998, Close=73.519997),\n Row(Date=datetime.date(2014, 2, 21), Open=73.190002, High=73.400002, Low=72.82, Close=73.120003),\n Row(Date=datetime.date(2014, 2, 24), Open=73.239998, High=73.82, Low=73.139999, Close=73.349998),\n Row(Date=datetime.date(2014, 2, 25), Open=73.18, High=73.739998, Low=73.089996, Close=73.349998),\n Row(Date=datetime.date(2014, 2, 26), Open=73.940002, High=75.099998, Low=73.790001, Close=74.779999),\n Row(Date=datetime.date(2014, 2, 27), Open=74.779999, High=74.779999, Low=74.089996, Close=74.559998),\n Row(Date=datetime.date(2014, 2, 28), Open=74.480003, High=75.190002, Low=74.199997, Close=74.699997),\n Row(Date=datetime.date(2014, 3, 3), Open=74.489998, High=74.66999799999999, Low=73.83000200000001, Close=74.120003),\n Row(Date=datetime.date(2014, 3, 4), Open=74.769997, High=75.489998, Low=74.660004, Close=75.129997),\n Row(Date=datetime.date(2014, 3, 5), Open=75.32, High=75.33000200000001, Low=74.58000200000001, Close=74.800003),\n Row(Date=datetime.date(2014, 3, 6), Open=74.860001, High=75.110001, Low=74.510002, Close=74.879997),\n Row(Date=datetime.date(2014, 3, 7), Open=74.959999, High=74.959999, Low=74.360001, Close=74.58000200000001),\n Row(Date=datetime.date(2014, 3, 10), Open=74.519997, High=74.599998, Low=74.050003, Close=74.43),\n Row(Date=datetime.date(2014, 3, 11), Open=74.720001, High=74.970001, Low=74.199997, Close=74.91999799999999),\n Row(Date=datetime.date(2014, 3, 12), Open=74.849998, High=75.75, Low=74.82, Close=75.529999),\n Row(Date=datetime.date(2014, 3, 13), Open=75.709999, High=76.18, Low=74.910004, Close=74.93),\n Row(Date=datetime.date(2014, 3, 14), Open=74.66999799999999, High=75.07, Low=74.269997, Close=74.279999),\n Row(Date=datetime.date(2014, 3, 17), Open=74.300003, High=74.849998, Low=74.010002, Close=74.68),\n Row(Date=datetime.date(2014, 3, 18), Open=74.660004, High=74.989998, Low=74.449997, Close=74.769997),\n Row(Date=datetime.date(2014, 3, 19), Open=74.559998, High=75.110001, Low=74.019997, Close=74.379997),\n Row(Date=datetime.date(2014, 3, 20), Open=74.019997, High=75.68, Low=73.860001, Close=75.379997),\n Row(Date=datetime.date(2014, 3, 21), Open=75.889999, High=77.019997, Low=75.449997, Close=76.099998),\n Row(Date=datetime.date(2014, 3, 24), Open=76.209999, High=76.800003, Low=76.110001, Close=76.760002),\n Row(Date=datetime.date(2014, 3, 25), Open=76.879997, High=77.139999, Low=76.160004, Close=76.870003),\n Row(Date=datetime.date(2014, 3, 26), Open=77.08000200000001, High=77.529999, Low=76.230003, Close=76.230003),\n Row(Date=datetime.date(2014, 3, 27), Open=76.379997, High=76.82, Low=76.040001, Close=76.139999),\n Row(Date=datetime.date(2014, 3, 28), Open=76.260002, High=76.599998, Low=75.769997, Close=76.010002),\n Row(Date=datetime.date(2014, 3, 31), Open=76.349998, High=76.779999, Low=76.019997, Close=76.43),\n Row(Date=datetime.date(2014, 4, 1), Open=76.760002, High=77.25, Low=76.540001, Close=76.769997),\n Row(Date=datetime.date(2014, 4, 2), Open=76.58000200000001, High=77.190002, Low=76.339996, Close=77.18),\n Row(Date=datetime.date(2014, 4, 3), Open=77.199997, High=77.550003, Low=77.0, Close=77.459999),\n Row(Date=datetime.date(2014, 4, 4), Open=77.58000200000001, High=77.900002, Low=77.25, Close=77.309998),\n Row(Date=datetime.date(2014, 4, 7), Open=77.230003, High=77.720001, Low=77.089996, Close=77.309998),\n Row(Date=datetime.date(2014, 4, 8), Open=77.089996, High=78.309998, Low=76.800003, Close=78.18),\n Row(Date=datetime.date(2014, 4, 9), Open=78.199997, High=78.220001, Low=77.279999, Close=77.970001),\n Row(Date=datetime.date(2014, 4, 10), Open=77.949997, High=78.139999, Low=76.650002, Close=76.889999),\n Row(Date=datetime.date(2014, 4, 11), Open=76.779999, High=77.230003, Low=76.290001, Close=76.5),\n Row(Date=datetime.date(2014, 4, 14), Open=76.940002, High=77.550003, Low=76.790001, Close=77.379997),\n Row(Date=datetime.date(2014, 4, 15), Open=77.029999, High=77.309998, Low=76.440002, Close=76.879997),\n Row(Date=datetime.date(2014, 4, 16), Open=77.309998, High=77.470001, Low=77.029999, Close=77.220001),\n Row(Date=datetime.date(2014, 4, 17), Open=77.08000200000001, High=77.75, Low=77.08000200000001, Close=77.660004),\n Row(Date=datetime.date(2014, 4, 21), Open=77.410004, High=77.730003, Low=77.18, Close=77.599998),\n Row(Date=datetime.date(2014, 4, 22), Open=77.519997, High=77.83000200000001, Low=77.389999, Close=77.559998),\n Row(Date=datetime.date(2014, 4, 23), Open=77.82, High=78.279999, Low=77.57, Close=78.040001),\n Row(Date=datetime.date(2014, 4, 24), Open=78.16999799999999, High=78.470001, Low=77.699997, Close=78.309998),\n Row(Date=datetime.date(2014, 4, 25), Open=78.309998, High=78.779999, Low=78.019997, Close=78.620003),\n Row(Date=datetime.date(2014, 4, 28), Open=78.860001, High=79.989998, Low=78.83000200000001, Close=79.760002),\n Row(Date=datetime.date(2014, 4, 29), Open=79.839996, High=79.870003, Low=79.57, Close=79.66999799999999),\n Row(Date=datetime.date(2014, 4, 30), Open=79.589996, High=79.93, Low=79.510002, Close=79.709999),\n Row(Date=datetime.date(2014, 5, 1), Open=79.730003, High=79.730003, Low=79.160004, Close=79.699997),\n Row(Date=datetime.date(2014, 5, 2), Open=79.599998, High=79.760002, Low=79.010002, Close=79.120003),\n Row(Date=datetime.date(2014, 5, 5), Open=78.860001, High=78.949997, Low=78.510002, Close=78.620003),\n Row(Date=datetime.date(2014, 5, 6), Open=78.33000200000001, High=78.389999, Low=77.970001, Close=78.010002),\n Row(Date=datetime.date(2014, 5, 7), Open=77.849998, High=78.099998, Low=77.529999, Close=77.959999),\n Row(Date=datetime.date(2014, 5, 8), Open=78.0, High=78.83000200000001, Low=78.0, Close=78.690002),\n Row(Date=datetime.date(2014, 5, 9), Open=78.519997, High=79.279999, Low=78.519997, Close=79.199997),\n Row(Date=datetime.date(2014, 5, 12), Open=78.949997, High=79.230003, Low=78.650002, Close=79.150002),\n Row(Date=datetime.date(2014, 5, 13), Open=79.16999799999999, High=79.370003, Low=78.989998, Close=79.139999),\n Row(Date=datetime.date(2014, 5, 14), Open=79.050003, High=79.050003, Low=78.07, Close=78.739998),\n Row(Date=datetime.date(2014, 5, 15), Open=76.279999, High=77.440002, Low=76.25, Close=76.83000200000001),\n Row(Date=datetime.date(2014, 5, 16), Open=77.0, High=77.379997, Low=76.650002, Close=77.010002),\n Row(Date=datetime.date(2014, 5, 19), Open=77.110001, High=77.129997, Low=76.5, Close=76.610001),\n Row(Date=datetime.date(2014, 5, 20), Open=76.360001, High=76.370003, Low=75.519997, Close=75.690002),\n Row(Date=datetime.date(2014, 5, 21), Open=75.940002, High=75.959999, Low=75.269997, Close=75.660004),\n Row(Date=datetime.date(2014, 5, 22), Open=75.790001, High=75.91999799999999, Low=75.239998, Close=75.389999),\n Row(Date=datetime.date(2014, 5, 23), Open=75.559998, High=75.75, Low=75.43, Close=75.610001),\n Row(Date=datetime.date(2014, 5, 27), Open=75.709999, High=75.809998, Low=75.290001, Close=75.589996),\n Row(Date=datetime.date(2014, 5, 28), Open=75.379997, High=75.940002, Low=75.339996, Close=75.529999),\n Row(Date=datetime.date(2014, 5, 29), Open=75.66999799999999, High=76.190002, Low=75.57, Close=75.980003),\n Row(Date=datetime.date(2014, 5, 30), Open=76.059998, High=76.809998, Low=76.010002, Close=76.769997),\n Row(Date=datetime.date(2014, 6, 2), Open=76.58000200000001, High=77.110001, Low=76.470001, Close=76.760002),\n Row(Date=datetime.date(2014, 6, 3), Open=76.739998, High=76.970001, Low=76.360001, Close=76.709999),\n Row(Date=datetime.date(2014, 6, 4), Open=76.599998, High=77.300003, Low=76.529999, Close=77.129997),\n Row(Date=datetime.date(2014, 6, 5), Open=77.050003, High=77.440002, Low=76.870003, Close=77.32),\n Row(Date=datetime.date(2014, 6, 6), Open=77.459999, High=77.589996, Low=77.07, Close=77.209999),\n Row(Date=datetime.date(2014, 6, 9), Open=77.07, High=77.760002, Low=76.699997, Close=77.010002),\n Row(Date=datetime.date(2014, 6, 10), Open=76.809998, High=76.940002, Low=76.510002, Close=76.620003),\n Row(Date=datetime.date(2014, 6, 11), Open=76.550003, High=76.739998, Low=76.050003, Close=76.160004),\n Row(Date=datetime.date(2014, 6, 12), Open=76.050003, High=76.190002, Low=75.58000200000001, Close=75.730003),\n Row(Date=datetime.date(2014, 6, 13), Open=75.66999799999999, High=75.760002, Low=75.120003, Close=75.279999),\n Row(Date=datetime.date(2014, 6, 16), Open=75.110001, High=75.480003, Low=75.019997, Close=75.339996),\n Row(Date=datetime.date(2014, 6, 17), Open=75.290001, High=75.41999799999999, Low=74.91999799999999, Close=74.989998),\n Row(Date=datetime.date(2014, 6, 18), Open=75.040001, High=75.959999, Low=74.91999799999999, Close=75.699997),\n Row(Date=datetime.date(2014, 6, 19), Open=75.879997, High=76.279999, Low=75.800003, Close=75.870003),\n Row(Date=datetime.date(2014, 6, 20), Open=76.160004, High=76.16999799999999, Low=75.120003, Close=75.68),\n Row(Date=datetime.date(2014, 6, 23), Open=75.559998, High=75.940002, Low=75.300003, Close=75.790001),\n Row(Date=datetime.date(2014, 6, 24), Open=76.029999, High=76.209999, Low=75.68, Close=75.970001),\n Row(Date=datetime.date(2014, 6, 25), Open=75.760002, High=75.839996, Low=75.279999, Close=75.620003),\n Row(Date=datetime.date(2014, 6, 26), Open=75.519997, High=75.610001, Low=74.699997, Close=74.910004),\n Row(Date=datetime.date(2014, 6, 27), Open=74.800003, High=75.379997, Low=74.66999799999999, Close=75.339996),\n Row(Date=datetime.date(2014, 6, 30), Open=75.400002, High=75.690002, Low=74.940002, Close=75.07),\n Row(Date=datetime.date(2014, 7, 1), Open=75.269997, High=75.41999799999999, Low=74.75, Close=75.279999),\n Row(Date=datetime.date(2014, 7, 2), Open=75.260002, High=75.900002, Low=75.25, Close=75.620003),\n Row(Date=datetime.date(2014, 7, 3), Open=75.610001, High=76.050003, Low=75.519997, Close=75.75),\n Row(Date=datetime.date(2014, 7, 7), Open=75.690002, High=76.209999, Low=75.550003, Close=76.07),\n Row(Date=datetime.date(2014, 7, 8), Open=76.089996, High=76.980003, Low=76.029999, Close=76.650002),\n Row(Date=datetime.date(2014, 7, 9), Open=76.769997, High=77.33000200000001, Low=76.620003, Close=77.209999),\n Row(Date=datetime.date(2014, 7, 10), Open=76.910004, High=77.57, Low=76.910004, Close=77.059998),\n Row(Date=datetime.date(2014, 7, 11), Open=76.870003, High=76.970001, Low=76.559998, Close=76.82),\n Row(Date=datetime.date(2014, 7, 14), Open=77.129997, High=77.25, Low=76.480003, Close=76.550003),\n Row(Date=datetime.date(2014, 7, 15), Open=76.559998, High=76.93, Low=76.559998, Close=76.839996),\n Row(Date=datetime.date(2014, 7, 16), Open=76.900002, High=77.050003, Low=76.699997, Close=76.860001),\n Row(Date=datetime.date(2014, 7, 17), Open=76.58000200000001, High=77.050003, Low=76.440002, Close=76.610001),\n Row(Date=datetime.date(2014, 7, 18), Open=76.620003, High=77.099998, Low=76.510002, Close=77.089996),\n Row(Date=datetime.date(2014, 7, 21), Open=76.760002, High=76.910004, Low=76.480003, Close=76.769997),\n Row(Date=datetime.date(2014, 7, 22), Open=76.839996, High=76.889999, Low=76.400002, Close=76.639999),\n Row(Date=datetime.date(2014, 7, 23), Open=76.629997, High=77.059998, Low=76.589996, Close=76.989998),\n Row(Date=datetime.date(2014, 7, 24), Open=76.68, High=76.790001, Low=76.190002, Close=76.349998),\n Row(Date=datetime.date(2014, 7, 25), Open=76.190002, High=76.360001, Low=75.800003, Close=75.970001),\n Row(Date=datetime.date(2014, 7, 28), Open=75.43, High=75.93, Low=75.360001, Close=75.709999),\n Row(Date=datetime.date(2014, 7, 29), Open=75.209999, High=76.010002, Low=75.150002, Close=75.440002),\n Row(Date=datetime.date(2014, 7, 30), Open=75.879997, High=75.91999799999999, Low=74.66999799999999, Close=74.779999),\n Row(Date=datetime.date(2014, 7, 31), Open=73.989998, High=74.25, Low=73.540001, Close=73.58000200000001),\n Row(Date=datetime.date(2014, 8, 1), Open=73.32, High=73.879997, Low=73.220001, Close=73.540001),\n Row(Date=datetime.date(2014, 8, 4), Open=73.379997, High=73.629997, Low=73.059998, Close=73.540001),\n Row(Date=datetime.date(2014, 8, 5), Open=73.309998, High=73.519997, Low=72.769997, Close=73.339996),\n Row(Date=datetime.date(2014, 8, 6), Open=73.190002, High=74.290001, Low=73.18, Close=74.199997),\n Row(Date=datetime.date(2014, 8, 7), Open=74.339996, High=74.809998, Low=73.760002, Close=73.949997),\n Row(Date=datetime.date(2014, 8, 8), Open=74.059998, High=74.730003, Low=73.849998, Close=74.66999799999999),\n Row(Date=datetime.date(2014, 8, 11), Open=74.290001, High=74.599998, Low=74.019997, Close=74.360001),\n Row(Date=datetime.date(2014, 8, 12), Open=74.309998, High=74.440002, Low=74.010002, Close=74.220001),\n Row(Date=datetime.date(2014, 8, 13), Open=74.269997, High=74.410004, Low=73.510002, Close=74.029999),\n Row(Date=datetime.date(2014, 8, 14), Open=73.889999, High=74.43, Low=73.610001, Close=74.389999),\n Row(Date=datetime.date(2014, 8, 15), Open=74.650002, High=74.650002, Low=73.489998, Close=73.900002),\n Row(Date=datetime.date(2014, 8, 18), Open=74.150002, High=74.68, Low=74.050003, Close=74.489998),\n Row(Date=datetime.date(2014, 8, 19), Open=74.809998, High=74.940002, Low=74.139999, Close=74.879997),\n Row(Date=datetime.date(2014, 8, 20), Open=74.83000200000001, High=75.050003, Low=74.510002, Close=74.959999),\n Row(Date=datetime.date(2014, 8, 21), Open=75.059998, High=75.910004, Low=75.0, Close=75.550003),\n Row(Date=datetime.date(2014, 8, 22), Open=75.779999, High=76.199997, Low=75.639999, Close=75.730003),\n Row(Date=datetime.date(2014, 8, 25), Open=75.93, High=76.019997, Low=75.510002, Close=75.690002),\n Row(Date=datetime.date(2014, 8, 26), Open=75.83000200000001, High=76.150002, Low=75.440002, Close=75.519997),\n Row(Date=datetime.date(2014, 8, 27), Open=75.510002, High=75.860001, Low=75.440002, Close=75.849998),\n Row(Date=datetime.date(2014, 8, 28), Open=75.470001, High=75.940002, Low=75.470001, Close=75.900002),\n Row(Date=datetime.date(2014, 8, 29), Open=75.75, High=75.879997, Low=75.290001, Close=75.5),\n Row(Date=datetime.date(2014, 9, 2), Open=75.41999799999999, High=75.940002, Low=75.410004, Close=75.75),\n Row(Date=datetime.date(2014, 9, 3), Open=75.949997, High=76.33000200000001, Low=75.879997, Close=76.010002),\n Row(Date=datetime.date(2014, 9, 4), Open=76.160004, High=76.599998, Low=76.110001, Close=76.559998),\n Row(Date=datetime.date(2014, 9, 5), Open=76.519997, High=77.730003, Low=76.480003, Close=77.510002),\n Row(Date=datetime.date(2014, 9, 8), Open=77.129997, High=77.32, Low=76.43, Close=76.529999),\n Row(Date=datetime.date(2014, 9, 9), Open=76.559998, High=77.0, Low=76.16999799999999, Close=76.739998),\n Row(Date=datetime.date(2014, 9, 10), Open=76.790001, High=77.08000200000001, Low=76.370003, Close=76.510002),\n Row(Date=datetime.date(2014, 9, 11), Open=76.349998, High=76.440002, Low=76.089996, Close=76.099998),\n Row(Date=datetime.date(2014, 9, 12), Open=75.970001, High=76.050003, Low=75.660004, Close=75.769997),\n Row(Date=datetime.date(2014, 9, 15), Open=75.779999, High=75.889999, Low=75.610001, Close=75.809998),\n Row(Date=datetime.date(2014, 9, 16), Open=75.639999, High=76.57, Low=75.599998, Close=76.32),\n Row(Date=datetime.date(2014, 9, 17), Open=76.360001, High=76.470001, Low=76.010002, Close=76.239998),\n Row(Date=datetime.date(2014, 9, 18), Open=76.309998, High=76.58000200000001, Low=75.910004, Close=76.220001),\n Row(Date=datetime.date(2014, 9, 19), Open=76.449997, High=77.07, Low=76.379997, Close=76.839996),\n Row(Date=datetime.date(2014, 9, 22), Open=76.790001, High=76.860001, Low=76.25, Close=76.309998),\n Row(Date=datetime.date(2014, 9, 23), Open=76.0, High=76.220001, Low=75.57, Close=75.599998),\n Row(Date=datetime.date(2014, 9, 24), Open=75.730003, High=77.309998, Low=75.699997, Close=77.08000200000001),\n Row(Date=datetime.date(2014, 9, 25), Open=76.93, High=77.050003, Low=76.120003, Close=76.120003),\n Row(Date=datetime.date(2014, 9, 26), Open=76.25, High=76.57, Low=75.860001, Close=76.489998),\n Row(Date=datetime.date(2014, 9, 29), Open=76.059998, High=76.25, Low=75.650002, Close=76.08000200000001),\n Row(Date=datetime.date(2014, 9, 30), Open=76.040001, High=76.720001, Low=75.769997, Close=76.470001),\n Row(Date=datetime.date(2014, 10, 1), Open=76.510002, High=76.860001, Low=75.910004, Close=76.120003),\n Row(Date=datetime.date(2014, 10, 2), Open=76.209999, High=76.910004, Low=75.959999, Close=76.230003),\n Row(Date=datetime.date(2014, 10, 3), Open=76.57, High=77.480003, Low=76.529999, Close=77.32),\n Row(Date=datetime.date(2014, 10, 6), Open=77.050003, High=77.91999799999999, Low=76.989998, Close=77.349998),\n Row(Date=datetime.date(2014, 10, 7), Open=77.029999, High=77.690002, Low=76.720001, Close=77.300003),\n Row(Date=datetime.date(2014, 10, 8), Open=77.410004, High=78.489998, Low=76.809998, Close=78.239998),\n Row(Date=datetime.date(2014, 10, 9), Open=78.110001, High=78.83000200000001, Low=77.660004, Close=77.860001),\n Row(Date=datetime.date(2014, 10, 10), Open=77.93, High=79.370003, Low=77.93, Close=78.290001),\n Row(Date=datetime.date(2014, 10, 13), Open=78.029999, High=78.58000200000001, Low=77.449997, Close=77.559998),\n Row(Date=datetime.date(2014, 10, 14), Open=77.83000200000001, High=78.629997, Low=77.66999799999999, Close=77.980003),\n Row(Date=datetime.date(2014, 10, 15), Open=77.58000200000001, High=77.690002, Low=74.360001, Close=75.199997),\n Row(Date=datetime.date(2014, 10, 16), Open=73.230003, High=74.07, Low=72.610001, Close=73.82),\n Row(Date=datetime.date(2014, 10, 17), Open=74.18, High=74.5, Low=73.029999, Close=74.099998),\n Row(Date=datetime.date(2014, 10, 20), Open=74.139999, High=75.220001, Low=73.91999799999999, Close=75.139999),\n Row(Date=datetime.date(2014, 10, 21), Open=75.18, High=76.199997, Low=75.010002, Close=76.019997),\n Row(Date=datetime.date(2014, 10, 22), Open=76.470001, High=76.660004, Low=76.010002, Close=76.029999),\n Row(Date=datetime.date(2014, 10, 23), Open=76.370003, High=76.650002, Low=75.779999, Close=76.25),\n Row(Date=datetime.date(2014, 10, 24), Open=76.129997, High=76.5, Low=75.5, Close=76.379997),\n Row(Date=datetime.date(2014, 10, 27), Open=76.33000200000001, High=76.980003, Low=76.309998, Close=76.589996),\n Row(Date=datetime.date(2014, 10, 28), Open=76.629997, High=76.800003, Low=76.0, Close=76.349998),\n Row(Date=datetime.date(2014, 10, 29), Open=76.550003, High=76.639999, Low=75.970001, Close=76.389999),\n Row(Date=datetime.date(2014, 10, 30), Open=76.16999799999999, High=76.599998, Low=75.980003, Close=76.449997),\n Row(Date=datetime.date(2014, 10, 31), Open=76.889999, High=77.400002, Low=76.010002, Close=76.269997),\n Row(Date=datetime.date(2014, 11, 3), Open=76.349998, High=76.379997, Low=75.589996, Close=76.279999),\n Row(Date=datetime.date(2014, 11, 4), Open=76.489998, High=77.370003, Low=76.279999, Close=77.260002),\n Row(Date=datetime.date(2014, 11, 5), Open=77.870003, High=78.230003, Low=77.300003, Close=77.699997),\n Row(Date=datetime.date(2014, 11, 6), Open=78.150002, High=78.18, Low=77.16999799999999, Close=77.809998),\n Row(Date=datetime.date(2014, 11, 7), Open=77.839996, High=79.08000200000001, Low=77.610001, Close=78.769997),\n Row(Date=datetime.date(2014, 11, 10), Open=78.599998, High=80.129997, Low=78.41999799999999, Close=79.440002),\n Row(Date=datetime.date(2014, 11, 11), Open=79.400002, High=79.41999799999999, Low=78.849998, Close=79.010002),\n Row(Date=datetime.date(2014, 11, 12), Open=78.83000200000001, High=79.440002, Low=78.650002, Close=79.199997),\n Row(Date=datetime.date(2014, 11, 13), Open=80.959999, High=83.059998, Low=80.860001, Close=82.940002),\n Row(Date=datetime.date(2014, 11, 14), Open=82.58000200000001, High=83.150002, Low=82.099998, Close=82.959999),\n Row(Date=datetime.date(2014, 11, 17), Open=82.58000200000001, High=83.720001, Low=82.529999, Close=83.57),\n Row(Date=datetime.date(2014, 11, 18), Open=83.5, High=83.91999799999999, Low=83.339996, Close=83.790001),\n Row(Date=datetime.date(2014, 11, 19), Open=83.959999, High=85.639999, Low=83.91999799999999, Close=84.989998),\n Row(Date=datetime.date(2014, 11, 20), Open=84.809998, High=85.290001, Low=84.040001, Close=84.58000200000001),\n Row(Date=datetime.date(2014, 11, 21), Open=85.339996, High=85.440002, Low=84.58000200000001, Close=84.650002),\n Row(Date=datetime.date(2014, 11, 24), Open=84.849998, High=85.610001, Low=84.769997, Close=85.400002),\n Row(Date=datetime.date(2014, 11, 25), Open=85.5, High=85.510002, Low=84.389999, Close=84.949997),\n Row(Date=datetime.date(2014, 11, 26), Open=84.900002, High=85.110001, Low=84.480003, Close=84.980003),\n Row(Date=datetime.date(2014, 11, 28), Open=86.18, High=88.089996, Low=85.900002, Close=87.540001),\n Row(Date=datetime.date(2014, 12, 1), Open=86.720001, High=87.07, Low=85.75, Close=86.220001),\n Row(Date=datetime.date(2014, 12, 2), Open=86.269997, High=86.699997, Low=85.93, Close=86.400002),\n Row(Date=datetime.date(2014, 12, 3), Open=85.949997, High=86.0, Low=84.68, Close=84.940002),\n Row(Date=datetime.date(2014, 12, 4), Open=84.129997, High=84.82, Low=83.650002, Close=84.760002),\n Row(Date=datetime.date(2014, 12, 5), Open=84.809998, High=84.82, Low=83.510002, Close=84.120003),\n Row(Date=datetime.date(2014, 12, 8), Open=84.150002, High=84.66999799999999, Low=83.849998, Close=84.230003),\n Row(Date=datetime.date(2014, 12, 9), Open=83.650002, High=84.209999, Low=82.650002, Close=83.559998),\n Row(Date=datetime.date(2014, 12, 10), Open=83.93, High=84.309998, Low=82.900002, Close=82.980003),\n Row(Date=datetime.date(2014, 12, 11), Open=83.199997, High=84.5, Low=83.160004, Close=83.83000200000001),\n Row(Date=datetime.date(2014, 12, 12), Open=83.519997, High=85.0, Low=83.519997, Close=83.809998),\n Row(Date=datetime.date(2014, 12, 15), Open=84.260002, High=84.699997, Low=83.050003, Close=83.940002),\n Row(Date=datetime.date(2014, 12, 16), Open=83.620003, High=84.760002, Low=82.940002, Close=82.959999),\n Row(Date=datetime.date(2014, 12, 17), Open=83.279999, High=84.260002, Low=82.949997, Close=84.230003),\n Row(Date=datetime.date(2014, 12, 18), Open=84.800003, High=85.949997, Low=84.279999, Close=85.940002),\n Row(Date=datetime.date(2014, 12, 19), Open=86.260002, High=86.339996, Low=85.160004, Close=85.160004),\n Row(Date=datetime.date(2014, 12, 22), Open=85.32, High=86.400002, Low=85.290001, Close=86.379997),\n Row(Date=datetime.date(2014, 12, 23), Open=86.690002, High=87.08000200000001, Low=86.360001, Close=86.660004),\n Row(Date=datetime.date(2014, 12, 24), Open=86.970001, High=87.07, Low=86.389999, Close=86.43),\n Row(Date=datetime.date(2014, 12, 26), Open=86.18, High=87.139999, Low=86.010002, Close=86.910004),\n Row(Date=datetime.date(2014, 12, 29), Open=86.459999, High=87.07, Low=86.400002, Close=86.639999),\n Row(Date=datetime.date(2014, 12, 30), Open=86.519997, High=87.129997, Low=86.480003, Close=86.790001),\n Row(Date=datetime.date(2014, 12, 31), Open=87.08000200000001, High=87.440002, Low=85.860001, Close=85.879997),\n Row(Date=datetime.date(2015, 1, 2), Open=86.269997, High=86.720001, Low=85.550003, Close=85.900002),\n Row(Date=datetime.date(2015, 1, 5), Open=85.720001, High=86.32, Low=85.510002, Close=85.650002),\n Row(Date=datetime.date(2015, 1, 6), Open=85.980003, High=86.75, Low=85.790001, Close=86.309998),\n Row(Date=datetime.date(2015, 1, 7), Open=86.779999, High=88.68, Low=86.66999799999999, Close=88.599998),\n Row(Date=datetime.date(2015, 1, 8), Open=89.209999, High=90.66999799999999, Low=89.07, Close=90.470001),\n Row(Date=datetime.date(2015, 1, 9), Open=90.32, High=90.389999, Low=89.25, Close=89.349998),\n Row(Date=datetime.date(2015, 1, 12), Open=89.360001, High=90.309998, Low=89.220001, Close=90.019997),\n Row(Date=datetime.date(2015, 1, 13), Open=90.800003, High=90.970001, Low=88.93, Close=89.309998),\n Row(Date=datetime.date(2015, 1, 14), Open=87.650002, High=88.519997, Low=86.5, Close=86.610001),\n Row(Date=datetime.date(2015, 1, 15), Open=87.0, High=87.779999, Low=86.699997, Close=87.379997),\n Row(Date=datetime.date(2015, 1, 16), Open=87.199997, High=87.459999, Low=86.230003, Close=86.769997),\n Row(Date=datetime.date(2015, 1, 20), Open=86.82, High=87.699997, Low=85.550003, Close=86.690002),\n Row(Date=datetime.date(2015, 1, 21), Open=86.099998, High=86.910004, Low=85.709999, Close=86.639999),\n Row(Date=datetime.date(2015, 1, 22), Open=87.230003, High=88.400002, Low=86.860001, Close=88.300003),\n Row(Date=datetime.date(2015, 1, 23), Open=88.41999799999999, High=89.260002, Low=87.889999, Close=88.510002),\n Row(Date=datetime.date(2015, 1, 26), Open=88.309998, High=89.160004, Low=88.120003, Close=88.629997),\n Row(Date=datetime.date(2015, 1, 27), Open=88.279999, High=88.459999, Low=87.260002, Close=87.529999),\n Row(Date=datetime.date(2015, 1, 28), Open=88.019997, High=88.230003, Low=86.769997, Close=86.82),\n Row(Date=datetime.date(2015, 1, 29), Open=87.07, High=87.720001, Low=86.269997, Close=87.720001),\n Row(Date=datetime.date(2015, 1, 30), Open=86.779999, High=87.360001, Low=84.900002, Close=84.980003),\n Row(Date=datetime.date(2015, 2, 2), Open=84.790001, High=85.870003, Low=83.93, Close=85.709999),\n Row(Date=datetime.date(2015, 2, 3), Open=85.83000200000001, High=86.529999, Low=85.660004, Close=86.190002),\n Row(Date=datetime.date(2015, 2, 4), Open=86.110001, High=87.040001, Low=86.0, Close=86.650002),\n Row(Date=datetime.date(2015, 2, 5), Open=87.110001, High=87.360001, Low=86.559998, Close=87.279999),\n Row(Date=datetime.date(2015, 2, 6), Open=87.260002, High=88.0, Low=86.779999, Close=87.33000200000001),\n Row(Date=datetime.date(2015, 2, 9), Open=86.970001, High=87.190002, Low=85.639999, Close=85.910004),\n Row(Date=datetime.date(2015, 2, 10), Open=86.620003, High=87.410004, Low=86.41999799999999, Close=87.290001),\n Row(Date=datetime.date(2015, 2, 11), Open=86.629997, High=87.120003, Low=85.91999799999999, Close=86.339996),\n Row(Date=datetime.date(2015, 2, 12), Open=86.559998, High=86.68, Low=85.230003, Close=85.889999),\n Row(Date=datetime.date(2015, 2, 13), Open=85.839996, High=86.160004, Low=85.32, Close=85.809998),\n Row(Date=datetime.date(2015, 2, 17), Open=85.43, High=85.970001, Low=84.970001, Close=85.959999),\n Row(Date=datetime.date(2015, 2, 18), Open=85.959999, High=86.300003, Low=85.519997, Close=86.290001),\n Row(Date=datetime.date(2015, 2, 19), Open=84.5, High=84.800003, Low=83.389999, Close=83.519997),\n Row(Date=datetime.date(2015, 2, 20), Open=82.730003, High=84.379997, Low=82.550003, Close=84.300003),\n Row(Date=datetime.date(2015, 2, 23), Open=84.389999, High=84.860001, Low=84.230003, Close=84.599998),\n Row(Date=datetime.date(2015, 2, 24), Open=84.519997, High=84.82, Low=83.91999799999999, Close=84.57),\n Row(Date=datetime.date(2015, 2, 25), Open=84.629997, High=84.720001, Low=83.519997, Close=83.57),\n Row(Date=datetime.date(2015, 2, 26), Open=83.849998, High=83.860001, Low=83.269997, Close=83.800003),\n Row(Date=datetime.date(2015, 2, 27), Open=83.720001, High=84.160004, Low=83.400002, Close=83.93),\n Row(Date=datetime.date(2015, 3, 2), Open=83.93, High=84.0, Low=83.199997, Close=83.959999),\n Row(Date=datetime.date(2015, 3, 3), Open=83.660004, High=83.82, Low=83.16999799999999, Close=83.370003),\n Row(Date=datetime.date(2015, 3, 4), Open=83.209999, High=83.209999, Low=82.199997, Close=82.58000200000001),\n Row(Date=datetime.date(2015, 3, 5), Open=83.150002, High=83.870003, Low=82.959999, Close=83.57),\n Row(Date=datetime.date(2015, 3, 6), Open=82.809998, High=83.099998, Low=82.379997, Close=82.589996),\n Row(Date=datetime.date(2015, 3, 9), Open=82.589996, High=83.339996, Low=82.540001, Close=82.879997),\n Row(Date=datetime.date(2015, 3, 10), Open=82.269997, High=82.5, Low=82.07, Close=82.07),\n Row(Date=datetime.date(2015, 3, 11), Open=81.82, High=81.970001, Low=80.540001, Close=80.690002),\n Row(Date=datetime.date(2015, 3, 12), Open=80.809998, High=82.120003, Low=80.779999, Close=81.900002),\n Row(Date=datetime.date(2015, 3, 13), Open=81.949997, High=82.25, Low=81.290001, Close=81.900002),\n Row(Date=datetime.date(2015, 3, 16), Open=82.449997, High=83.370003, Low=82.440002, Close=83.290001),\n Row(Date=datetime.date(2015, 3, 17), Open=82.980003, High=83.010002, Low=82.239998, Close=82.620003),\n Row(Date=datetime.date(2015, 3, 18), Open=81.980003, High=82.959999, Low=81.160004, Close=82.529999),\n Row(Date=datetime.date(2015, 3, 19), Open=82.33000200000001, High=82.440002, Low=81.370003, Close=81.519997),\n Row(Date=datetime.date(2015, 3, 20), Open=81.83000200000001, High=83.489998, Low=81.709999, Close=83.239998),\n Row(Date=datetime.date(2015, 3, 23), Open=83.18, High=83.900002, Low=83.120003, Close=83.309998),\n Row(Date=datetime.date(2015, 3, 24), Open=83.190002, High=83.709999, Low=82.959999, Close=83.050003),\n Row(Date=datetime.date(2015, 3, 25), Open=83.089996, High=83.25, Low=81.309998, Close=81.32),\n Row(Date=datetime.date(2015, 3, 26), Open=80.93, High=82.309998, Low=80.650002, Close=81.889999),\n Row(Date=datetime.date(2015, 3, 27), Open=81.849998, High=82.18, Low=81.25, Close=81.349998),\n Row(Date=datetime.date(2015, 3, 30), Open=81.699997, High=82.800003, Low=81.43, Close=82.529999),\n Row(Date=datetime.date(2015, 3, 31), Open=82.389999, High=83.040001, Low=82.25, Close=82.25),\n Row(Date=datetime.date(2015, 4, 1), Open=82.279999, High=82.279999, Low=80.43, Close=80.709999),\n Row(Date=datetime.date(2015, 4, 2), Open=80.730003, High=81.32, Low=80.550003, Close=80.730003),\n Row(Date=datetime.date(2015, 4, 6), Open=80.459999, High=81.33000200000001, Low=80.150002, Close=80.989998),\n Row(Date=datetime.date(2015, 4, 7), Open=81.089996, High=81.290001, Low=80.459999, Close=80.5),\n Row(Date=datetime.date(2015, 4, 8), Open=80.389999, High=81.230003, Low=80.360001, Close=81.029999),\n Row(Date=datetime.date(2015, 4, 9), Open=80.839996, High=81.389999, Low=80.58000200000001, Close=80.839996),\n Row(Date=datetime.date(2015, 4, 10), Open=80.860001, High=81.0, Low=80.550003, Close=80.650002),\n Row(Date=datetime.date(2015, 4, 13), Open=80.400002, High=80.91999799999999, Low=80.269997, Close=80.290001),\n Row(Date=datetime.date(2015, 4, 14), Open=80.290001, High=80.41999799999999, Low=79.68, Close=80.150002),\n Row(Date=datetime.date(2015, 4, 15), Open=80.58000200000001, High=80.980003, Low=79.650002, Close=79.739998),\n Row(Date=datetime.date(2015, 4, 16), Open=79.5, High=79.889999, Low=79.129997, Close=79.239998),\n Row(Date=datetime.date(2015, 4, 17), Open=78.940002, High=79.150002, Low=77.550003, Close=77.879997),\n Row(Date=datetime.date(2015, 4, 20), Open=78.389999, High=78.83000200000001, Low=78.019997, Close=78.139999),\n Row(Date=datetime.date(2015, 4, 21), Open=78.610001, High=78.839996, Low=77.910004, Close=78.029999),\n Row(Date=datetime.date(2015, 4, 22), Open=77.730003, High=78.639999, Low=77.550003, Close=78.43),\n Row(Date=datetime.date(2015, 4, 23), Open=78.379997, High=79.540001, Low=78.199997, Close=79.18),\n Row(Date=datetime.date(2015, 4, 24), Open=79.379997, High=80.93, Low=79.239998, Close=79.839996),\n Row(Date=datetime.date(2015, 4, 27), Open=79.769997, High=79.860001, Low=79.290001, Close=79.370003),\n Row(Date=datetime.date(2015, 4, 28), Open=79.459999, High=79.480003, Low=78.769997, Close=79.099998),\n Row(Date=datetime.date(2015, 4, 29), Open=78.699997, High=78.790001, Low=77.790001, Close=77.879997),\n Row(Date=datetime.date(2015, 4, 30), Open=77.83000200000001, High=78.480003, Low=77.589996, Close=78.050003),\n Row(Date=datetime.date(2015, 5, 1), Open=78.199997, High=78.760002, Low=78.16999799999999, Close=78.599998),\n Row(Date=datetime.date(2015, 5, 4), Open=78.980003, High=79.550003, Low=78.459999, Close=79.18),\n Row(Date=datetime.date(2015, 5, 5), Open=79.010002, High=79.010002, Low=78.059998, Close=78.129997),\n Row(Date=datetime.date(2015, 5, 6), Open=77.91999799999999, High=78.120003, Low=77.16999799999999, Close=77.650002),\n Row(Date=datetime.date(2015, 5, 7), Open=77.730003, High=78.339996, Low=77.300003, Close=78.029999),\n Row(Date=datetime.date(2015, 5, 8), Open=78.599998, High=79.25, Low=78.400002, Close=78.529999),\n Row(Date=datetime.date(2015, 5, 11), Open=78.32, High=78.610001, Low=78.029999, Close=78.099998),\n Row(Date=datetime.date(2015, 5, 12), Open=78.019997, High=79.480003, Low=77.870003, Close=78.959999),\n Row(Date=datetime.date(2015, 5, 13), Open=79.18, High=79.43, Low=77.980003, Close=78.160004),\n Row(Date=datetime.date(2015, 5, 14), Open=78.370003, High=78.769997, Low=78.019997, Close=78.720001),\n Row(Date=datetime.date(2015, 5, 15), Open=78.709999, High=79.25, Low=78.57, Close=79.239998),\n Row(Date=datetime.date(2015, 5, 18), Open=79.370003, High=79.940002, Low=79.160004, Close=79.91999799999999),\n Row(Date=datetime.date(2015, 5, 19), Open=78.18, High=78.360001, Low=76.230003, Close=76.43),\n Row(Date=datetime.date(2015, 5, 20), Open=76.480003, High=76.5, Low=75.83000200000001, Close=75.900002),\n Row(Date=datetime.date(2015, 5, 21), Open=75.800003, High=76.41999799999999, Low=75.559998, Close=76.110001),\n Row(Date=datetime.date(2015, 5, 22), Open=76.199997, High=76.379997, Low=75.860001, Close=75.860001),\n Row(Date=datetime.date(2015, 5, 26), Open=75.769997, High=75.83000200000001, Low=74.82, Close=74.900002),\n Row(Date=datetime.date(2015, 5, 27), Open=75.010002, High=75.510002, Low=75.0, Close=75.190002),\n Row(Date=datetime.date(2015, 5, 28), Open=75.07, High=75.160004, Low=74.650002, Close=74.839996),\n Row(Date=datetime.date(2015, 5, 29), Open=74.82, High=74.879997, Low=74.150002, Close=74.269997),\n Row(Date=datetime.date(2015, 6, 1), Open=74.690002, High=75.08000200000001, Low=74.410004, Close=74.730003),\n Row(Date=datetime.date(2015, 6, 2), Open=74.540001, High=75.0, Low=74.41999799999999, Close=74.529999),\n Row(Date=datetime.date(2015, 6, 3), Open=74.699997, High=75.199997, Low=74.470001, Close=74.889999),\n Row(Date=datetime.date(2015, 6, 4), Open=74.459999, High=74.980003, Low=73.949997, Close=74.150002),\n Row(Date=datetime.date(2015, 6, 5), Open=74.16999799999999, High=74.269997, Low=72.980003, Close=73.059998),\n Row(Date=datetime.date(2015, 6, 8), Open=73.43, High=73.489998, Low=72.599998, Close=72.610001),\n Row(Date=datetime.date(2015, 6, 9), Open=72.699997, High=72.849998, Low=72.360001, Close=72.470001),\n Row(Date=datetime.date(2015, 6, 10), Open=72.709999, High=73.33000200000001, Low=72.339996, Close=72.93),\n Row(Date=datetime.date(2015, 6, 11), Open=73.230003, High=73.66999799999999, Low=72.839996, Close=72.940002),\n Row(Date=datetime.date(2015, 6, 12), Open=72.739998, High=72.900002, Low=72.400002, Close=72.43),\n Row(Date=datetime.date(2015, 6, 15), Open=72.199997, High=72.400002, Low=71.699997, Close=71.93),\n Row(Date=datetime.date(2015, 6, 16), Open=72.220001, High=72.58000200000001, Low=71.720001, Close=72.349998),\n Row(Date=datetime.date(2015, 6, 17), Open=72.629997, High=72.900002, Low=72.339996, Close=72.730003),\n Row(Date=datetime.date(2015, 6, 18), Open=72.739998, High=73.480003, Low=72.739998, Close=72.980003),\n Row(Date=datetime.date(2015, 6, 19), Open=72.800003, High=73.220001, Low=72.699997, Close=72.739998),\n Row(Date=datetime.date(2015, 6, 22), Open=72.980003, High=73.190002, Low=72.690002, Close=72.790001),\n Row(Date=datetime.date(2015, 6, 23), Open=72.889999, High=72.940002, Low=72.339996, Close=72.57),\n Row(Date=datetime.date(2015, 6, 24), Open=72.559998, High=72.650002, Low=72.139999, Close=72.379997),\n Row(Date=datetime.date(2015, 6, 25), Open=72.449997, High=72.629997, Low=71.83000200000001, Close=71.860001),\n Row(Date=datetime.date(2015, 6, 26), Open=71.959999, High=72.459999, Low=71.870003, Close=72.120003),\n Row(Date=datetime.date(2015, 6, 29), Open=71.800003, High=72.0, Low=71.410004, Close=71.41999799999999),\n Row(Date=datetime.date(2015, 6, 30), Open=71.809998, High=71.809998, Low=70.779999, Close=70.93),\n Row(Date=datetime.date(2015, 7, 1), Open=71.599998, High=71.949997, Low=70.360001, Close=71.879997),\n Row(Date=datetime.date(2015, 7, 2), Open=72.019997, High=72.559998, Low=71.660004, Close=71.860001),\n Row(Date=datetime.date(2015, 7, 6), Open=71.379997, High=72.690002, Low=71.379997, Close=72.529999),\n Row(Date=datetime.date(2015, 7, 7), Open=72.660004, High=73.860001, Low=72.0, Close=73.790001),\n Row(Date=datetime.date(2015, 7, 8), Open=73.300003, High=73.589996, Low=72.900002, Close=73.059998),\n Row(Date=datetime.date(2015, 7, 9), Open=73.66999799999999, High=73.730003, Low=72.709999, Close=72.779999),\n Row(Date=datetime.date(2015, 7, 10), Open=73.08000200000001, High=73.550003, Low=73.08000200000001, Close=73.120003),\n Row(Date=datetime.date(2015, 7, 13), Open=73.510002, High=74.110001, Low=73.510002, Close=73.879997),\n Row(Date=datetime.date(2015, 7, 14), Open=73.980003, High=74.089996, Low=73.480003, Close=73.790001),\n Row(Date=datetime.date(2015, 7, 15), Open=73.589996, High=73.900002, Low=73.190002, Close=73.650002),\n Row(Date=datetime.date(2015, 7, 16), Open=73.970001, High=74.139999, Low=73.760002, Close=73.83000200000001),\n Row(Date=datetime.date(2015, 7, 17), Open=73.739998, High=74.07, Low=73.309998, Close=73.389999),\n Row(Date=datetime.date(2015, 7, 20), Open=73.349998, High=73.440002, Low=73.059998, Close=73.099998),\n Row(Date=datetime.date(2015, 7, 21), Open=73.099998, High=73.290001, Low=72.529999, Close=72.739998),\n Row(Date=datetime.date(2015, 7, 22), Open=72.779999, High=73.82, Low=72.779999, Close=73.160004),\n Row(Date=datetime.date(2015, 7, 23), Open=73.07, High=73.220001, Low=72.41999799999999, Close=72.510002),\n Row(Date=datetime.date(2015, 7, 24), Open=72.529999, High=72.559998, Low=71.5, Close=71.58000200000001),\n Row(Date=datetime.date(2015, 7, 27), Open=71.379997, High=71.650002, Low=71.010002, Close=71.379997),\n Row(Date=datetime.date(2015, 7, 28), Open=71.529999, High=72.389999, Low=71.230003, Close=72.099998),\n Row(Date=datetime.date(2015, 7, 29), Open=72.25, High=72.629997, Low=72.089996, Close=72.230003),\n Row(Date=datetime.date(2015, 7, 30), Open=72.029999, High=72.529999, Low=71.779999, Close=72.160004),\n Row(Date=datetime.date(2015, 7, 31), Open=72.440002, High=72.489998, Low=71.660004, Close=71.980003),\n Row(Date=datetime.date(2015, 8, 3), Open=71.839996, High=72.379997, Low=71.839996, Close=72.18),\n Row(Date=datetime.date(2015, 8, 4), Open=72.41999799999999, High=72.800003, Low=71.93, Close=72.25),\n Row(Date=datetime.date(2015, 8, 5), Open=72.389999, High=73.690002, Low=72.25, Close=73.510002),\n Row(Date=datetime.date(2015, 8, 6), Open=73.349998, High=73.379997, Low=72.660004, Close=72.790001),\n Row(Date=datetime.date(2015, 8, 7), Open=72.709999, High=72.83000200000001, Low=71.16999799999999, Close=71.25),\n Row(Date=datetime.date(2015, 8, 10), Open=71.5, High=71.75, Low=71.339996, Close=71.480003),\n Row(Date=datetime.date(2015, 8, 11), Open=71.25, High=72.370003, Low=71.150002, Close=71.93),\n Row(Date=datetime.date(2015, 8, 12), Open=71.529999, High=72.660004, Low=71.269997, Close=72.58000200000001),\n Row(Date=datetime.date(2015, 8, 13), Open=72.400002, High=72.769997, Low=71.970001, Close=72.110001),\n Row(Date=datetime.date(2015, 8, 14), Open=72.300003, High=72.599998, Low=72.040001, Close=72.379997),\n Row(Date=datetime.date(2015, 8, 17), Open=71.83000200000001, High=72.230003, Low=71.760002, Close=71.910004),\n Row(Date=datetime.date(2015, 8, 18), Open=70.0, High=70.5, Low=69.239998, Close=69.480003),\n Row(Date=datetime.date(2015, 8, 19), Open=68.870003, High=69.389999, Low=67.769997, Close=68.57),\n Row(Date=datetime.date(2015, 8, 20), Open=68.08000200000001, High=69.300003, Low=67.940002, Close=68.43),\n Row(Date=datetime.date(2015, 8, 21), Open=67.910004, High=68.309998, Low=66.540001, Close=66.540001),\n Row(Date=datetime.date(2015, 8, 24), Open=63.740002000000004, High=66.160004, Low=61.5, Close=63.950001),\n Row(Date=datetime.date(2015, 8, 25), Open=65.449997, High=65.709999, Low=63.0, Close=63.099998),\n Row(Date=datetime.date(2015, 8, 26), Open=64.230003, High=64.849998, Low=63.02, Close=64.83000200000001),\n Row(Date=datetime.date(2015, 8, 27), Open=65.32, High=66.18, Low=64.949997, Close=66.08000200000001),\n Row(Date=datetime.date(2015, 8, 28), Open=66.089996, High=66.120003, Low=64.449997, Close=64.940002),\n Row(Date=datetime.date(2015, 8, 31), Open=64.82, High=65.0, Low=64.290001, Close=64.730003),\n Row(Date=datetime.date(2015, 9, 1), Open=63.799999, High=64.32, Low=63.27, Close=63.82),\n Row(Date=datetime.date(2015, 9, 2), Open=64.589996, High=64.940002, Low=64.059998, Close=64.440002),\n Row(Date=datetime.date(2015, 9, 3), Open=64.720001, High=65.010002, Low=64.389999, Close=64.860001),\n Row(Date=datetime.date(2015, 9, 4), Open=64.07, High=64.300003, Low=63.509997999999996, Close=63.889998999999996),\n Row(Date=datetime.date(2015, 9, 8), Open=65.230003, High=66.5, Low=65.18, Close=66.379997),\n Row(Date=datetime.date(2015, 9, 9), Open=66.860001, High=67.010002, Low=65.010002, Close=65.120003),\n Row(Date=datetime.date(2015, 9, 10), Open=64.07, High=64.650002, Low=63.830002, Close=64.120003),\n Row(Date=datetime.date(2015, 9, 11), Open=64.18, High=64.68, Low=63.990002000000004, Close=64.650002),\n Row(Date=datetime.date(2015, 9, 14), Open=64.650002, High=64.66999799999999, Low=63.82, Close=64.279999),\n Row(Date=datetime.date(2015, 9, 15), Open=64.480003, High=64.699997, Low=64.050003, Close=64.32),\n Row(Date=datetime.date(2015, 9, 16), Open=64.599998, High=64.769997, Low=64.050003, Close=64.690002),\n Row(Date=datetime.date(2015, 9, 17), Open=64.699997, High=65.290001, Low=64.160004, Close=64.470001),\n Row(Date=datetime.date(2015, 9, 18), Open=63.75, High=64.230003, Low=63.259997999999996, Close=63.34),\n Row(Date=datetime.date(2015, 9, 21), Open=63.75, High=64.0, Low=63.369999, Close=63.720001),\n Row(Date=datetime.date(2015, 9, 22), Open=63.23, High=63.82, Low=62.919998, Close=63.59),\n Row(Date=datetime.date(2015, 9, 23), Open=63.720001, High=63.93, Low=63.119999, Close=63.720001),\n Row(Date=datetime.date(2015, 9, 24), Open=63.360001000000004, High=63.98, Low=63.299999, Close=63.830002),\n Row(Date=datetime.date(2015, 9, 25), Open=64.07, High=64.459999, Low=63.619999, Close=63.779999),\n Row(Date=datetime.date(2015, 9, 28), Open=63.599998, High=63.950001, Low=63.48, Close=63.66),\n Row(Date=datetime.date(2015, 9, 29), Open=63.75, High=64.040001, Low=63.23, Close=63.779999),\n Row(Date=datetime.date(2015, 9, 30), Open=64.43, High=64.940002, Low=63.93, Close=64.839996),\n Row(Date=datetime.date(2015, 10, 1), Open=64.760002, High=64.940002, Low=63.880001, Close=64.269997),\n Row(Date=datetime.date(2015, 10, 2), Open=63.759997999999996, High=64.980003, Low=63.41, Close=64.980003),\n Row(Date=datetime.date(2015, 10, 5), Open=65.209999, High=65.91999799999999, Low=65.139999, Close=65.870003),\n Row(Date=datetime.date(2015, 10, 6), Open=65.540001, High=65.949997, Low=65.18, Close=65.68),\n Row(Date=datetime.date(2015, 10, 7), Open=65.839996, High=66.360001, Low=65.769997, Close=66.360001),\n Row(Date=datetime.date(2015, 10, 8), Open=66.230003, High=66.989998, Low=66.150002, Close=66.879997),\n Row(Date=datetime.date(2015, 10, 9), Open=66.940002, High=67.019997, Low=66.510002, Close=66.690002),\n Row(Date=datetime.date(2015, 10, 12), Open=66.66999799999999, High=67.0, Low=66.58000200000001, Close=66.93),\n Row(Date=datetime.date(2015, 10, 13), Open=66.620003, High=66.940002, Low=66.260002, Close=66.730003),\n Row(Date=datetime.date(2015, 10, 14), Open=66.610001, High=67.949997, Low=60.02, Close=60.029999),\n Row(Date=datetime.date(2015, 10, 15), Open=59.700001, High=60.470001, Low=58.610001000000004, Close=59.330002),\n Row(Date=datetime.date(2015, 10, 16), Open=59.470001, High=59.490002000000004, Low=58.369999, Close=58.889998999999996),\n Row(Date=datetime.date(2015, 10, 19), Open=58.790001000000004, High=59.299999, Low=58.5, Close=58.849998),\n Row(Date=datetime.date(2015, 10, 20), Open=58.860001000000004, High=59.0, Low=58.57, Close=58.75),\n Row(Date=datetime.date(2015, 10, 21), Open=58.799999, High=59.040001000000004, Low=58.57, Close=58.639998999999996),\n Row(Date=datetime.date(2015, 10, 22), Open=58.939999, High=59.959998999999996, Low=58.639998999999996, Close=58.900002),\n Row(Date=datetime.date(2015, 10, 23), Open=59.189999, High=59.279999, Low=58.220001, Close=58.299999),\n Row(Date=datetime.date(2015, 10, 26), Open=58.400002, High=58.450001, Low=57.970001, Close=58.02),\n Row(Date=datetime.date(2015, 10, 27), Open=58.009997999999996, High=58.040001000000004, Low=57.380001, Close=57.48),\n Row(Date=datetime.date(2015, 10, 28), Open=57.66, High=57.720001, Low=57.16, Close=57.639998999999996),\n Row(Date=datetime.date(2015, 10, 29), Open=57.720001, High=58.119999, Low=57.48, Close=57.959998999999996),\n Row(Date=datetime.date(2015, 10, 30), Open=57.73, High=58.119999, Low=57.240002000000004, Close=57.240002000000004),\n Row(Date=datetime.date(2015, 11, 2), Open=57.290001000000004, High=57.610001000000004, Low=56.77, Close=57.610001000000004),\n Row(Date=datetime.date(2015, 11, 3), Open=57.57, High=58.330002, Low=57.529999, Close=58.110001000000004),\n Row(Date=datetime.date(2015, 11, 4), Open=58.580002, High=58.759997999999996, Low=58.189999, Close=58.369999),\n Row(Date=datetime.date(2015, 11, 5), Open=58.509997999999996, High=58.98, Low=58.419998, Close=58.610001000000004),\n Row(Date=datetime.date(2015, 11, 6), Open=58.919998, High=59.200001, Low=58.310001, Close=58.779999),\n Row(Date=datetime.date(2015, 11, 9), Open=58.5, High=58.779999, Low=58.02, Close=58.490002000000004),\n Row(Date=datetime.date(2015, 11, 10), Open=58.310001, High=58.709998999999996, Low=58.310001, Close=58.68),\n Row(Date=datetime.date(2015, 11, 11), Open=58.5, High=58.73, Low=57.470001, Close=57.580002),\n Row(Date=datetime.date(2015, 11, 12), Open=57.639998999999996, High=57.77, Low=56.919998, Close=56.950001),\n Row(Date=datetime.date(2015, 11, 13), Open=56.740002000000004, High=57.060001, Low=56.299999, Close=56.419998),\n Row(Date=datetime.date(2015, 11, 16), Open=56.389998999999996, High=58.029999, Low=56.360001000000004, Close=57.869999),\n Row(Date=datetime.date(2015, 11, 17), Open=59.34, High=60.900002, Low=59.200001, Close=59.919998),\n Row(Date=datetime.date(2015, 11, 18), Open=60.040001000000004, High=61.07, Low=59.549999, Close=60.93),\n Row(Date=datetime.date(2015, 11, 19), Open=61.119999, High=61.360001000000004, Low=60.43, Close=60.700001),\n Row(Date=datetime.date(2015, 11, 20), Open=60.98, High=61.470001, Low=60.02, Close=60.07),\n Row(Date=datetime.date(2015, 11, 23), Open=60.290001000000004, High=60.740002000000004, Low=59.880001, Close=60.259997999999996),\n Row(Date=datetime.date(2015, 11, 24), Open=59.950001, High=60.419998, Low=59.860001000000004, Close=59.919998),\n Row(Date=datetime.date(2015, 11, 25), Open=60.0, High=60.709998999999996, Low=59.880001, Close=60.240002000000004),\n Row(Date=datetime.date(2015, 11, 27), Open=60.439999, High=60.689999, Low=59.869999, Close=59.889998999999996),\n Row(Date=datetime.date(2015, 11, 30), Open=59.869999, High=60.060001, Low=58.73, Close=58.84),\n Row(Date=datetime.date(2015, 12, 1), Open=59.130001, High=59.290001000000004, Low=58.650002, Close=58.990002000000004),\n Row(Date=datetime.date(2015, 12, 2), Open=58.610001000000004, High=59.290001000000004, Low=58.32, Close=58.349998),\n Row(Date=datetime.date(2015, 12, 3), Open=58.689999, High=59.66, Low=58.599998, Close=59.040001000000004),\n Row(Date=datetime.date(2015, 12, 4), Open=59.049999, High=59.849998, Low=59.029999, Close=59.66),\n Row(Date=datetime.date(2015, 12, 7), Open=59.57, High=60.73, Low=59.57, Close=60.5),\n Row(Date=datetime.date(2015, 12, 8), Open=60.07, High=60.490002000000004, Low=59.5, Close=59.610001000000004),\n Row(Date=datetime.date(2015, 12, 9), Open=59.259997999999996, High=60.110001000000004, Low=58.900002, Close=59.130001),\n Row(Date=datetime.date(2015, 12, 10), Open=59.130001, High=60.09, Low=59.09, Close=59.560001),\n Row(Date=datetime.date(2015, 12, 11), Open=59.049999, High=59.529999, Low=58.810001, Close=59.360001000000004),\n Row(Date=datetime.date(2015, 12, 14), Open=59.299999, High=60.439999, Low=59.07, Close=60.389998999999996),\n Row(Date=datetime.date(2015, 12, 15), Open=60.639998999999996, High=60.84, Low=59.57, Close=59.639998999999996),\n Row(Date=datetime.date(2015, 12, 16), Open=60.110001000000004, High=60.650002, Low=59.700001, Close=60.299999),\n Row(Date=datetime.date(2015, 12, 17), Open=60.330002, High=60.330002, Low=58.970001, Close=58.98),\n Row(Date=datetime.date(2015, 12, 18), Open=58.93, High=59.400002, Low=58.75, Close=58.849998),\n Row(Date=datetime.date(2015, 12, 21), Open=58.82, High=59.580002, Low=58.669998, Close=59.549999),\n Row(Date=datetime.date(2015, 12, 22), Open=59.790001000000004, High=60.700001, Low=59.610001000000004, Close=60.540001000000004),\n ...]"
     },
     "execution_count": 49,
     "metadata": {},
     "output_type": "execute_result"
    }
   ],
   "source": [
    "df.select([\"Date\", \"Open\", \"High\", \"Low\", \"Close\"]).collect()"
   ],
   "metadata": {
    "collapsed": false,
    "ExecuteTime": {
     "end_time": "2023-12-15T19:44:09.171501100Z",
     "start_time": "2023-12-15T19:44:09.094263400Z"
    }
   }
  },
  {
   "cell_type": "code",
   "execution_count": 76,
   "metadata": {
    "collapsed": false
   },
   "outputs": [
    {
     "name": "stdout",
     "output_type": "stream",
     "text": [
      "Row(Date=datetime.datetime(2012, 1, 3, 0, 0), Open=59.970001, High=61.060001, Low=59.869999, Close=60.330002, Volume=12668800, Adj Close=52.619234999999996)\n",
      "\n",
      "\n",
      "Row(Date=datetime.datetime(2012, 1, 4, 0, 0), Open=60.209998999999996, High=60.349998, Low=59.470001, Close=59.709998999999996, Volume=9593300, Adj Close=52.078475)\n",
      "\n",
      "\n",
      "Row(Date=datetime.datetime(2012, 1, 5, 0, 0), Open=59.349998, High=59.619999, Low=58.369999, Close=59.419998, Volume=12768200, Adj Close=51.825539)\n",
      "\n",
      "\n",
      "Row(Date=datetime.datetime(2012, 1, 6, 0, 0), Open=59.419998, High=59.450001, Low=58.869999, Close=59.0, Volume=8069400, Adj Close=51.45922)\n",
      "\n",
      "\n",
      "Row(Date=datetime.datetime(2012, 1, 9, 0, 0), Open=59.029999, High=59.549999, Low=58.919998, Close=59.18, Volume=6679300, Adj Close=51.616215000000004)\n"
     ]
    }
   ],
   "source": []
  },
  {
   "cell_type": "markdown",
   "metadata": {},
   "source": [
    "#### Use describe() to learn about the DataFrame."
   ]
  },
  {
   "cell_type": "code",
   "execution_count": 50,
   "outputs": [
    {
     "data": {
      "text/plain": "DataFrame[summary: string, Open: string, High: string, Low: string, Close: string, Volume: string, Adj Close: string]"
     },
     "execution_count": 50,
     "metadata": {},
     "output_type": "execute_result"
    }
   ],
   "source": [
    "df.describe()"
   ],
   "metadata": {
    "collapsed": false,
    "ExecuteTime": {
     "end_time": "2023-12-15T19:44:12.994429400Z",
     "start_time": "2023-12-15T19:44:12.888430900Z"
    }
   }
  },
  {
   "cell_type": "code",
   "execution_count": 77,
   "metadata": {
    "collapsed": false
   },
   "outputs": [
    {
     "name": "stdout",
     "output_type": "stream",
     "text": [
      "+-------+------------------+-----------------+-----------------+-----------------+-----------------+-----------------+\n",
      "|summary|              Open|             High|              Low|            Close|           Volume|        Adj Close|\n",
      "+-------+------------------+-----------------+-----------------+-----------------+-----------------+-----------------+\n",
      "|  count|              1258|             1258|             1258|             1258|             1258|             1258|\n",
      "|   mean| 72.35785375357709|72.83938807631165| 71.9186009594594|72.38844998012726|8222093.481717011|67.23883848728146|\n",
      "| stddev|  6.76809024470826|6.768186808159218|6.744075756255496|6.756859163732991|  4519780.8431556|6.722609449996857|\n",
      "|    min|56.389998999999996|        57.060001|        56.299999|        56.419998|          2094900|        50.363689|\n",
      "|    max|         90.800003|        90.970001|            89.25|        90.470001|         80898100|84.91421600000001|\n",
      "+-------+------------------+-----------------+-----------------+-----------------+-----------------+-----------------+\n"
     ]
    }
   ],
   "source": []
  },
  {
   "cell_type": "markdown",
   "metadata": {},
   "source": [
    "## Bonus Question!\n",
    "#### There are too many decimal places for mean and stddev in the describe() dataframe. Format the numbers to just show up to two decimal places. Pay careful attention to the datatypes that .describe() returns, we didn't cover how to do this exact formatting, but we covered something very similar. [Check this link for a hint](http://spark.apache.org/docs/latest/api/python/pyspark.sql.html#pyspark.sql.Column.cast)\n",
    "\n",
    "If you get stuck on this, don't worry, just view the solutions."
   ]
  },
  {
   "cell_type": "code",
   "execution_count": 51,
   "outputs": [],
   "source": [
    "# result.select(['Year',format_number('avg(Open)', 2).alias('Open'),format_number('avg(Close)', 2).alias('Close') ]).orderBy(result['avg(Close)'].desc() ).show()\n",
    "\n",
    "describe = df.describe()"
   ],
   "metadata": {
    "collapsed": false,
    "ExecuteTime": {
     "end_time": "2023-12-15T19:44:20.859378400Z",
     "start_time": "2023-12-15T19:44:20.832380400Z"
    }
   }
  },
  {
   "cell_type": "code",
   "execution_count": 52,
   "outputs": [
    {
     "name": "stdout",
     "output_type": "stream",
     "text": [
      "+-------+---------+---------+--------+-----------------+-----------+---------+\n",
      "|summary|     Open|     High|     Low|            Close|     Volume|Adj Close|\n",
      "+-------+---------+---------+--------+-----------------+-----------+---------+\n",
      "|  count|   1258.0|   1258.0|  1258.0|             1258|     1258.0|   1258.0|\n",
      "|   mean| 72.35786|72.839386| 71.9186|72.38844998012726|  8222093.5| 67.23884|\n",
      "| stddev|6.7680902| 6.768187|6.744076|6.756859163732991|  4519781.0|6.7226095|\n",
      "|    min|    56.39|    57.06|    56.3|        56.419998|  2094900.0| 50.36369|\n",
      "|    max|     90.8|    90.97|   89.25|        90.470001|8.0898096E7|84.914215|\n",
      "+-------+---------+---------+--------+-----------------+-----------+---------+\n"
     ]
    }
   ],
   "source": [
    "from pyspark.sql.functions import col\n",
    "\n",
    "df_with_converted_types = (((describe.withColumn(\"Open\", (col(\"Open\").cast(\"float\")))\n",
    "                             .withColumn(\"High\", col(\"High\").cast(\"float\"))\n",
    "                             .withColumn(\"Low\", col(\"Low\").cast(\"float\")))\n",
    "                            .withColumn(\"Volume\", col(\"Volume\").cast(\"float\")))\n",
    "                           .withColumn(\"Adj Close\", col(\"Adj Close\").cast(\"float\")))\n",
    "df_with_converted_types.show()"
   ],
   "metadata": {
    "collapsed": false,
    "ExecuteTime": {
     "end_time": "2023-12-15T19:44:21.853355100Z",
     "start_time": "2023-12-15T19:44:21.616613600Z"
    }
   }
  },
  {
   "cell_type": "code",
   "execution_count": 53,
   "outputs": [
    {
     "name": "stdout",
     "output_type": "stream",
     "text": [
      "+-------+--------+--------+--------+-------------+---------+\n",
      "|summary|    Open|    High|     Low|       Volume|Adj Close|\n",
      "+-------+--------+--------+--------+-------------+---------+\n",
      "|  count|1,258.00|1,258.00|1,258.00|     1,258.00| 1,258.00|\n",
      "|   mean|   72.36|   72.84|   71.92| 8,222,093.50|    67.24|\n",
      "| stddev|    6.77|    6.77|    6.74| 4,519,781.00|     6.72|\n",
      "|    min|   56.39|   57.06|   56.30| 2,094,900.00|    50.36|\n",
      "|    max|   90.80|   90.97|   89.25|80,898,096.00|    84.91|\n",
      "+-------+--------+--------+--------+-------------+---------+\n"
     ]
    }
   ],
   "source": [
    "from pyspark.sql.functions import format_number\n",
    "\n",
    "\n",
    "\n",
    "df_with_converted_types.select(['summary', format_number('Open', 2).alias('Open'), format_number('High', 2).alias('High'), format_number('Low', 2).alias('Low'), format_number('Volume', 2).alias('Volume'), format_number('Adj Close', 2).alias('Adj Close')]).show()"
   ],
   "metadata": {
    "collapsed": false,
    "ExecuteTime": {
     "end_time": "2023-12-15T19:44:26.508146900Z",
     "start_time": "2023-12-15T19:44:26.234122800Z"
    }
   }
  },
  {
   "cell_type": "code",
   "execution_count": 78,
   "metadata": {
    "collapsed": false
   },
   "outputs": [
    {
     "name": "stdout",
     "output_type": "stream",
     "text": [
      "root\n",
      " |-- summary: string (nullable = true)\n",
      " |-- Open: string (nullable = true)\n",
      " |-- High: string (nullable = true)\n",
      " |-- Low: string (nullable = true)\n",
      " |-- Close: string (nullable = true)\n",
      " |-- Volume: string (nullable = true)\n",
      " |-- Adj Close: string (nullable = true)\n"
     ]
    }
   ],
   "source": []
  },
  {
   "cell_type": "code",
   "execution_count": 64,
   "metadata": {
    "collapsed": true,
    "ExecuteTime": {
     "end_time": "2023-12-15T19:46:19.680763400Z",
     "start_time": "2023-12-15T19:46:19.635765Z"
    }
   },
   "outputs": [
    {
     "name": "stdout",
     "output_type": "stream",
     "text": [
      "+----------+------------------+------------------+------------------+------------------+--------+------------------+\n",
      "|      Date|              Open|              High|               Low|             Close|  Volume|         Adj Close|\n",
      "+----------+------------------+------------------+------------------+------------------+--------+------------------+\n",
      "|2012-01-03|         59.970001|         61.060001|         59.869999|         60.330002|12668800|52.619234999999996|\n",
      "|2012-01-04|60.209998999999996|         60.349998|         59.470001|59.709998999999996| 9593300|         52.078475|\n",
      "|2012-01-05|         59.349998|         59.619999|         58.369999|         59.419998|12768200|         51.825539|\n",
      "|2012-01-06|         59.419998|         59.450001|         58.869999|              59.0| 8069400|          51.45922|\n",
      "|2012-01-09|         59.029999|         59.549999|         58.919998|             59.18| 6679300|51.616215000000004|\n",
      "|2012-01-10|             59.43|59.709998999999996|             58.98|59.040001000000004| 6907300|         51.494109|\n",
      "|2012-01-11|         59.060001|         59.529999|59.040001000000004|         59.400002| 6365600|         51.808098|\n",
      "|2012-01-12|59.790001000000004|              60.0|         59.400002|              59.5| 7236400|51.895315999999994|\n",
      "|2012-01-13|             59.18|59.610001000000004|59.009997999999996|59.540001000000004| 7729300|51.930203999999996|\n",
      "|2012-01-17|         59.869999|60.110001000000004|             59.52|         59.849998| 8500000|         52.200581|\n",
      "|2012-01-18|59.790001000000004|         60.029999|         59.650002|60.009997999999996| 5911400|         52.340131|\n",
      "|2012-01-19|             59.93|             60.73|             59.75|60.610001000000004| 9234600|         52.863447|\n",
      "|2012-01-20|             60.75|             61.25|         60.669998|61.009997999999996|10378800|53.212320999999996|\n",
      "|2012-01-23|         60.810001|             60.98|60.509997999999996|             60.91| 7134100|         53.125104|\n",
      "|2012-01-24|             60.75|              62.0|             60.75|61.389998999999996| 7362800| 53.54375400000001|\n",
      "|2012-01-25|             61.18|61.610001000000004|61.040001000000004|         61.470001| 5915800| 53.61353100000001|\n",
      "|2012-01-26|         61.799999|             61.84|             60.77|         60.970001| 7436200|         53.177436|\n",
      "|2012-01-27|60.860001000000004|         61.119999|60.540001000000004|60.709998999999996| 6287300|         52.950665|\n",
      "|2012-01-30|         60.470001|             61.32|         60.349998|         61.299999| 7636900|53.465256999999994|\n",
      "|2012-01-31|         61.529999|             61.57|         60.580002|61.360001000000004| 9761500|53.517590000000006|\n",
      "+----------+------------------+------------------+------------------+------------------+--------+------------------+\n"
     ]
    }
   ],
   "source": [
    "df.show()"
   ]
  },
  {
   "cell_type": "code",
   "execution_count": 33,
   "metadata": {
    "collapsed": false,
    "ExecuteTime": {
     "end_time": "2023-12-15T19:29:46.461685400Z",
     "start_time": "2023-12-15T19:29:46.197259Z"
    }
   },
   "outputs": [
    {
     "name": "stdout",
     "output_type": "stream",
     "text": [
      "+-------+--------+--------+--------+-------------+---------+\n",
      "|summary|    Open|    High|     Low|       Volume|Adj Close|\n",
      "+-------+--------+--------+--------+-------------+---------+\n",
      "|  count|1,258.00|1,258.00|1,258.00|     1,258.00| 1,258.00|\n",
      "|   mean|   72.36|   72.84|   71.92| 8,222,093.50|    67.24|\n",
      "| stddev|    6.77|    6.77|    6.74| 4,519,781.00|     6.72|\n",
      "|    min|   56.39|   57.06|   56.30| 2,094,900.00|    50.36|\n",
      "|    max|   90.80|   90.97|   89.25|80,898,096.00|    84.91|\n",
      "+-------+--------+--------+--------+-------------+---------+\n"
     ]
    }
   ],
   "source": []
  },
  {
   "cell_type": "markdown",
   "metadata": {},
   "source": [
    "#### Create a new dataframe with a column called HV Ratio that is the ratio of the High Price versus volume of stock traded for a day."
   ]
  },
  {
   "cell_type": "code",
   "execution_count": 75,
   "outputs": [
    {
     "name": "stdout",
     "output_type": "stream",
     "text": [
      "+--------------------+\n",
      "|     (High / Volume)|\n",
      "+--------------------+\n",
      "|4.819714653321546E-6|\n",
      "|6.290848613094555E-6|\n",
      "|4.669412994783916E-6|\n",
      "|7.367338463826307E-6|\n",
      "|8.915604778943901E-6|\n",
      "|8.644477436914568E-6|\n",
      "|9.351828421515645E-6|\n",
      "| 8.29141562102703E-6|\n",
      "|7.712212102001476E-6|\n",
      "|7.071764823529412E-6|\n",
      "|1.015495466386981E-5|\n",
      "|6.576354146362592...|\n",
      "| 5.90145296180676E-6|\n",
      "|8.547679455011844E-6|\n",
      "|8.420709512685392E-6|\n",
      "|1.041448341728929...|\n",
      "|8.316075414862431E-6|\n",
      "|9.721183814992126E-6|\n",
      "|8.029436027707578E-6|\n",
      "|6.307432259386365E-6|\n",
      "+--------------------+\n"
     ]
    }
   ],
   "source": [
    "hv = df.select([df['High']/df[\"Volume\"]])\n",
    "hv.show()\n"
   ],
   "metadata": {
    "collapsed": false,
    "ExecuteTime": {
     "end_time": "2023-12-15T19:49:09.748708900Z",
     "start_time": "2023-12-15T19:49:09.626709900Z"
    }
   }
  },
  {
   "cell_type": "code",
   "execution_count": 81,
   "metadata": {
    "collapsed": false
   },
   "outputs": [
    {
     "name": "stdout",
     "output_type": "stream",
     "text": [
      "+--------------------+\n",
      "|            HV Ratio|\n",
      "+--------------------+\n",
      "|4.819714653321546E-6|\n",
      "|6.290848613094555E-6|\n",
      "|4.669412994783916E-6|\n",
      "|7.367338463826307E-6|\n",
      "|8.915604778943901E-6|\n",
      "|8.644477436914568E-6|\n",
      "|9.351828421515645E-6|\n",
      "| 8.29141562102703E-6|\n",
      "|7.712212102001476E-6|\n",
      "|7.071764823529412E-6|\n",
      "|1.015495466386981E-5|\n",
      "|6.576354146362592...|\n",
      "| 5.90145296180676E-6|\n",
      "|8.547679455011844E-6|\n",
      "|8.420709512685392E-6|\n",
      "|1.041448341728929...|\n",
      "|8.316075414862431E-6|\n",
      "|9.721183814992126E-6|\n",
      "|8.029436027707578E-6|\n",
      "|6.307432259386365E-6|\n",
      "+--------------------+\n"
     ]
    }
   ],
   "source": []
  },
  {
   "cell_type": "markdown",
   "metadata": {},
   "source": [
    "#### What day had the Peak High in Price?"
   ]
  },
  {
   "cell_type": "code",
   "execution_count": 83,
   "outputs": [
    {
     "data": {
      "text/plain": "datetime.date(2015, 1, 13)"
     },
     "execution_count": 83,
     "metadata": {},
     "output_type": "execute_result"
    }
   ],
   "source": [
    "df.orderBy(df[\"High\"].desc()).head(1)[0][0]"
   ],
   "metadata": {
    "collapsed": false,
    "ExecuteTime": {
     "end_time": "2023-12-15T19:52:38.708415400Z",
     "start_time": "2023-12-15T19:52:38.650026900Z"
    }
   }
  },
  {
   "cell_type": "code",
   "execution_count": 82,
   "outputs": [
    {
     "data": {
      "text/plain": "datetime.date(2015, 11, 13)"
     },
     "execution_count": 82,
     "metadata": {},
     "output_type": "execute_result"
    }
   ],
   "source": [
    "df.sort(\"High\").select('Date').sort('High').first()[0]"
   ],
   "metadata": {
    "collapsed": false,
    "ExecuteTime": {
     "end_time": "2023-12-15T19:50:15.026492800Z",
     "start_time": "2023-12-15T19:50:14.960493200Z"
    }
   }
  },
  {
   "cell_type": "code",
   "execution_count": 88,
   "metadata": {
    "collapsed": false
   },
   "outputs": [
    {
     "data": {
      "text/plain": [
       "datetime.datetime(2015, 1, 13, 0, 0)"
      ]
     },
     "execution_count": 88,
     "metadata": {},
     "output_type": "execute_result"
    }
   ],
   "source": []
  },
  {
   "cell_type": "markdown",
   "metadata": {},
   "source": [
    "#### What is the mean of the Close column?"
   ]
  },
  {
   "cell_type": "code",
   "execution_count": 94,
   "outputs": [
    {
     "name": "stdout",
     "output_type": "stream",
     "text": [
      "+-----------------+\n",
      "|       avg(Close)|\n",
      "+-----------------+\n",
      "|72.38844998012726|\n",
      "+-----------------+\n"
     ]
    }
   ],
   "source": [
    "from pyspark.sql.functions import mean, max, min, count\n",
    "df.select(mean('Close')).show()"
   ],
   "metadata": {
    "collapsed": false,
    "ExecuteTime": {
     "end_time": "2023-12-15T19:55:58.106713400Z",
     "start_time": "2023-12-15T19:55:58.046715100Z"
    }
   }
  },
  {
   "cell_type": "code",
   "execution_count": 89,
   "metadata": {
    "collapsed": false
   },
   "outputs": [
    {
     "name": "stdout",
     "output_type": "stream",
     "text": [
      "+-----------------+\n",
      "|       avg(Close)|\n",
      "+-----------------+\n",
      "|72.38844998012726|\n",
      "+-----------------+\n"
     ]
    }
   ],
   "source": []
  },
  {
   "cell_type": "markdown",
   "metadata": {},
   "source": [
    "#### What is the max and min of the Volume column?"
   ]
  },
  {
   "cell_type": "code",
   "execution_count": 92,
   "metadata": {
    "collapsed": true,
    "ExecuteTime": {
     "end_time": "2023-12-15T19:55:10.901128700Z",
     "start_time": "2023-12-15T19:55:10.815129400Z"
    }
   },
   "outputs": [
    {
     "name": "stdout",
     "output_type": "stream",
     "text": [
      "+-----------+-----------+\n",
      "|max(Volume)|min(Volume)|\n",
      "+-----------+-----------+\n",
      "|   80898100|    2094900|\n",
      "+-----------+-----------+\n"
     ]
    }
   ],
   "source": [
    "df.select(max(\"Volume\"), min('Volume')).show()"
   ]
  },
  {
   "cell_type": "code",
   "execution_count": 92,
   "metadata": {
    "collapsed": false
   },
   "outputs": [
    {
     "name": "stdout",
     "output_type": "stream",
     "text": [
      "+-----------+-----------+\n",
      "|max(Volume)|min(Volume)|\n",
      "+-----------+-----------+\n",
      "|   80898100|    2094900|\n",
      "+-----------+-----------+\n"
     ]
    }
   ],
   "source": []
  },
  {
   "cell_type": "markdown",
   "metadata": {},
   "source": [
    "#### How many days was the Close lower than 60 dollars?"
   ]
  },
  {
   "cell_type": "code",
   "execution_count": 100,
   "outputs": [
    {
     "data": {
      "text/plain": "81"
     },
     "execution_count": 100,
     "metadata": {},
     "output_type": "execute_result"
    }
   ],
   "source": [
    "df.filter(\"Close < 60\").count() "
   ],
   "metadata": {
    "collapsed": false,
    "ExecuteTime": {
     "end_time": "2023-12-15T19:57:00.918590500Z",
     "start_time": "2023-12-15T19:57:00.846128400Z"
    }
   }
  },
  {
   "cell_type": "code",
   "execution_count": 99,
   "metadata": {
    "collapsed": false,
    "ExecuteTime": {
     "end_time": "2023-12-15T19:56:48.396378700Z",
     "start_time": "2023-12-15T19:56:48.308855Z"
    }
   },
   "outputs": [
    {
     "data": {
      "text/plain": "81"
     },
     "execution_count": 99,
     "metadata": {},
     "output_type": "execute_result"
    }
   ],
   "source": [
    "df.select().where('Close < 60').count()"
   ]
  },
  {
   "cell_type": "markdown",
   "metadata": {},
   "source": [
    "#### What percentage of the time was the High greater than 80 dollars ?\n",
    "#### In other words, (Number of Days High>80)/(Total Days in the dataset)"
   ]
  },
  {
   "cell_type": "code",
   "execution_count": 106,
   "outputs": [
    {
     "data": {
      "text/plain": "9.141494435612083"
     },
     "execution_count": 106,
     "metadata": {},
     "output_type": "execute_result"
    }
   ],
   "source": [
    "percentage = df.filter('High > 80').count() / df.count() * 100\n",
    "percentage"
   ],
   "metadata": {
    "collapsed": false,
    "ExecuteTime": {
     "end_time": "2023-12-15T19:59:19.514224700Z",
     "start_time": "2023-12-15T19:59:19.359243600Z"
    }
   }
  },
  {
   "cell_type": "code",
   "execution_count": 107,
   "metadata": {
    "collapsed": false
   },
   "outputs": [
    {
     "data": {
      "text/plain": [
       "9.141494435612083"
      ]
     },
     "execution_count": 107,
     "metadata": {},
     "output_type": "execute_result"
    }
   ],
   "source": []
  },
  {
   "cell_type": "markdown",
   "metadata": {},
   "source": [
    "#### What is the Pearson correlation between High and Volume?\n",
    "#### [Hint](http://spark.apache.org/docs/latest/api/python/pyspark.sql.html#pyspark.sql.DataFrameStatFunctions.corr)"
   ]
  },
  {
   "cell_type": "code",
   "execution_count": 107,
   "outputs": [
    {
     "name": "stdout",
     "output_type": "stream",
     "text": [
      "+-------------------+\n",
      "| corr(High, Volume)|\n",
      "+-------------------+\n",
      "|-0.3384326061737161|\n",
      "+-------------------+\n"
     ]
    }
   ],
   "source": [
    "from pyspark.sql.functions import corr\n",
    "\n",
    "df.select(corr(\"High\", \"Volume\")).show()"
   ],
   "metadata": {
    "collapsed": false,
    "ExecuteTime": {
     "end_time": "2023-12-15T20:00:28.675508900Z",
     "start_time": "2023-12-15T20:00:28.463333300Z"
    }
   }
  },
  {
   "cell_type": "code",
   "execution_count": 110,
   "metadata": {
    "collapsed": false
   },
   "outputs": [
    {
     "name": "stdout",
     "output_type": "stream",
     "text": [
      "+-------------------+\n",
      "| corr(High, Volume)|\n",
      "+-------------------+\n",
      "|-0.3384326061737161|\n",
      "+-------------------+\n"
     ]
    }
   ],
   "source": []
  },
  {
   "cell_type": "markdown",
   "metadata": {},
   "source": [
    "#### What is the max High per year?"
   ]
  },
  {
   "cell_type": "code",
   "execution_count": 109,
   "outputs": [],
   "source": [
    "from pyspark.sql.functions import year"
   ],
   "metadata": {
    "collapsed": false,
    "ExecuteTime": {
     "end_time": "2023-12-15T20:01:27.620175400Z",
     "start_time": "2023-12-15T20:01:27.569175300Z"
    }
   }
  },
  {
   "cell_type": "code",
   "execution_count": 116,
   "outputs": [
    {
     "name": "stdout",
     "output_type": "stream",
     "text": [
      "+----+---------+\n",
      "|Year| Max High|\n",
      "+----+---------+\n",
      "|2015|90.970001|\n",
      "|2013|81.370003|\n",
      "|2014|88.089996|\n",
      "|2012|77.599998|\n",
      "|2016|75.190002|\n",
      "+----+---------+\n"
     ]
    }
   ],
   "source": [
    "df.groupBy(year(\"Date\").alias(\"Year\")).agg(max(\"High\").alias(\"Max High\")).show()"
   ],
   "metadata": {
    "collapsed": false,
    "ExecuteTime": {
     "end_time": "2023-12-15T20:04:11.843960600Z",
     "start_time": "2023-12-15T20:04:11.490415800Z"
    }
   }
  },
  {
   "cell_type": "code",
   "execution_count": 118,
   "outputs": [
    {
     "name": "stdout",
     "output_type": "stream",
     "text": [
      "+----+---------+\n",
      "|Year|max(High)|\n",
      "+----+---------+\n",
      "|2015|90.970001|\n",
      "|2013|81.370003|\n",
      "|2014|88.089996|\n",
      "|2012|77.599998|\n",
      "|2016|75.190002|\n",
      "+----+---------+\n"
     ]
    }
   ],
   "source": [
    "df.select(year(\"Date\").alias(\"Year\"), \"High\").groupBy(\"Year\").agg(max('High')).show()"
   ],
   "metadata": {
    "collapsed": false,
    "ExecuteTime": {
     "end_time": "2023-12-15T20:05:34.729818600Z",
     "start_time": "2023-12-15T20:05:34.508430100Z"
    }
   }
  },
  {
   "cell_type": "code",
   "execution_count": 117,
   "metadata": {
    "collapsed": false
   },
   "outputs": [
    {
     "name": "stdout",
     "output_type": "stream",
     "text": [
      "+----+---------+\n",
      "|Year|max(High)|\n",
      "+----+---------+\n",
      "|2015|90.970001|\n",
      "|2013|81.370003|\n",
      "|2014|88.089996|\n",
      "|2012|77.599998|\n",
      "|2016|75.190002|\n",
      "+----+---------+\n"
     ]
    }
   ],
   "source": []
  },
  {
   "cell_type": "markdown",
   "metadata": {},
   "source": [
    "#### What is the average Close for each Calendar Month?\n",
    "#### In other words, across all the years, what is the average Close price for Jan,Feb, Mar, etc... Your result will have a value for each of these months. "
   ]
  },
  {
   "cell_type": "code",
   "execution_count": 119,
   "outputs": [],
   "source": [
    "from pyspark.sql.functions import month, avg"
   ],
   "metadata": {
    "collapsed": false,
    "ExecuteTime": {
     "end_time": "2023-12-15T20:06:40.711884Z",
     "start_time": "2023-12-15T20:06:40.666884600Z"
    }
   }
  },
  {
   "cell_type": "code",
   "execution_count": 128,
   "outputs": [
    {
     "name": "stdout",
     "output_type": "stream",
     "text": [
      "+-----+-----------------+\n",
      "|Month|       avg(Close)|\n",
      "+-----+-----------------+\n",
      "|   12|72.84792478301885|\n",
      "|    1|71.44801958415842|\n",
      "|    6| 72.4953774245283|\n",
      "|    3|71.77794377570092|\n",
      "|    5|72.30971688679247|\n",
      "|    9|72.18411785294116|\n",
      "|    4|72.97361900952382|\n",
      "|    8|73.02981855454546|\n",
      "|    7|74.43971943925233|\n",
      "|   10|71.57854545454543|\n",
      "|   11| 72.1110893069307|\n",
      "|    2|  71.306804443299|\n",
      "+-----+-----------------+\n"
     ]
    }
   ],
   "source": [
    "df.groupBy(month(\"Date\").alias(\"Month\")).mean(\"Close\").show()"
   ],
   "metadata": {
    "collapsed": false,
    "ExecuteTime": {
     "end_time": "2023-12-15T20:10:02.799313800Z",
     "start_time": "2023-12-15T20:10:02.698315700Z"
    }
   }
  },
  {
   "cell_type": "code",
   "execution_count": 127,
   "outputs": [
    {
     "name": "stdout",
     "output_type": "stream",
     "text": [
      "+-----+-----------------+\n",
      "|Month|       avg(Close)|\n",
      "+-----+-----------------+\n",
      "|   12|72.84792478301885|\n",
      "|    1|71.44801958415842|\n",
      "|    6| 72.4953774245283|\n",
      "|    3|71.77794377570092|\n",
      "|    5|72.30971688679247|\n",
      "|    9|72.18411785294116|\n",
      "|    4|72.97361900952382|\n",
      "|    8|73.02981855454546|\n",
      "|    7|74.43971943925233|\n",
      "|   10|71.57854545454543|\n",
      "|   11| 72.1110893069307|\n",
      "|    2|  71.306804443299|\n",
      "+-----+-----------------+\n"
     ]
    }
   ],
   "source": [
    "df.select([month(\"Date\").alias(\"Month\"),'Close']).groupBy(\"Month\").mean(\"Close\").show()"
   ],
   "metadata": {
    "collapsed": false,
    "ExecuteTime": {
     "end_time": "2023-12-15T20:09:33.049004Z",
     "start_time": "2023-12-15T20:09:32.961003800Z"
    }
   }
  },
  {
   "cell_type": "code",
   "execution_count": 121,
   "metadata": {
    "collapsed": false
   },
   "outputs": [
    {
     "name": "stdout",
     "output_type": "stream",
     "text": [
      "+-----+-----------------+\n",
      "|Month|       avg(Close)|\n",
      "+-----+-----------------+\n",
      "|    1|71.44801958415842|\n",
      "|    2|  71.306804443299|\n",
      "|    3|71.77794377570092|\n",
      "|    4|72.97361900952382|\n",
      "|    5|72.30971688679247|\n",
      "|    6| 72.4953774245283|\n",
      "|    7|74.43971943925233|\n",
      "|    8|73.02981855454546|\n",
      "|    9|72.18411785294116|\n",
      "|   10|71.57854545454543|\n",
      "|   11| 72.1110893069307|\n",
      "|   12|72.84792478301885|\n",
      "+-----+-----------------+\n"
     ]
    }
   ],
   "source": []
  },
  {
   "cell_type": "markdown",
   "metadata": {},
   "source": [
    "# Great Job!"
   ]
  }
 ],
 "metadata": {
  "anaconda-cloud": {},
  "kernelspec": {
   "name": "python3",
   "language": "python",
   "display_name": "Python 3 (ipykernel)"
  },
  "language_info": {
   "codemirror_mode": {
    "name": "ipython",
    "version": 3
   },
   "file_extension": ".py",
   "mimetype": "text/x-python",
   "name": "python",
   "nbconvert_exporter": "python",
   "pygments_lexer": "ipython3",
   "version": "3.5.3"
  }
 },
 "nbformat": 4,
 "nbformat_minor": 0
}
