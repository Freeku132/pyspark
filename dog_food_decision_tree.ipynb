{
 "cells": [
  {
   "cell_type": "code",
   "execution_count": 21,
   "id": "initial_id",
   "metadata": {
    "collapsed": true,
    "ExecuteTime": {
     "end_time": "2024-01-13T16:06:41.490768600Z",
     "start_time": "2024-01-13T16:06:41.425769500Z"
    }
   },
   "outputs": [],
   "source": [
    "from pyspark.sql import SparkSession\n",
    "from pyspark.ml.feature import (VectorAssembler, VectorIndexer, OneHotEncoder, StringIndexer)\n",
    "from pyspark.ml.classification import RandomForestClassifier\n",
    "from pyspark.ml.evaluation import MulticlassClassificationEvaluator"
   ]
  },
  {
   "cell_type": "code",
   "outputs": [
    {
     "name": "stderr",
     "output_type": "stream",
     "text": [
      "24/01/13 16:57:28 WARN Utils: Your hostname, DESKTOP-0HJMRJF resolves to a loopback address: 127.0.1.1; using 172.25.120.25 instead (on interface eth0)\n",
      "24/01/13 16:57:28 WARN Utils: Set SPARK_LOCAL_IP if you need to bind to another address\n",
      "Setting default log level to \"WARN\".\n",
      "To adjust logging level use sc.setLogLevel(newLevel). For SparkR, use setLogLevel(newLevel).\n",
      "24/01/13 16:57:29 WARN NativeCodeLoader: Unable to load native-hadoop library for your platform... using builtin-java classes where applicable\n"
     ]
    }
   ],
   "source": [
    "spark = SparkSession.builder.appName(\"dog_food_decision_tree\").getOrCreate()"
   ],
   "metadata": {
    "collapsed": false,
    "ExecuteTime": {
     "end_time": "2024-01-13T15:57:30.745806600Z",
     "start_time": "2024-01-13T15:57:26.173955700Z"
    }
   },
   "id": "b92de32c10e39894",
   "execution_count": 2
  },
  {
   "cell_type": "code",
   "outputs": [],
   "source": [
    "df = spark.read.csv(\"./data/ML/tree/dog_food.csv\", inferSchema=True, header=True)"
   ],
   "metadata": {
    "collapsed": false,
    "ExecuteTime": {
     "end_time": "2024-01-13T15:58:12.277359700Z",
     "start_time": "2024-01-13T15:58:07.645217Z"
    }
   },
   "id": "c33938a239fe0418",
   "execution_count": 3
  },
  {
   "cell_type": "code",
   "outputs": [
    {
     "name": "stdout",
     "output_type": "stream",
     "text": [
      "+---+---+----+---+-------+\n",
      "|  A|  B|   C|  D|Spoiled|\n",
      "+---+---+----+---+-------+\n",
      "|  4|  2|12.0|  3|    1.0|\n",
      "|  5|  6|12.0|  7|    1.0|\n",
      "|  6|  2|13.0|  6|    1.0|\n",
      "|  4|  2|12.0|  1|    1.0|\n",
      "|  4|  2|12.0|  3|    1.0|\n",
      "| 10|  3|13.0|  9|    1.0|\n",
      "|  8|  5|14.0|  5|    1.0|\n",
      "|  5|  8|12.0|  8|    1.0|\n",
      "|  6|  5|12.0|  9|    1.0|\n",
      "|  3|  3|12.0|  1|    1.0|\n",
      "|  9|  8|11.0|  3|    1.0|\n",
      "|  1| 10|12.0|  3|    1.0|\n",
      "|  1|  5|13.0| 10|    1.0|\n",
      "|  2| 10|12.0|  6|    1.0|\n",
      "|  1| 10|11.0|  4|    1.0|\n",
      "|  5|  3|12.0|  2|    1.0|\n",
      "|  4|  9|11.0|  8|    1.0|\n",
      "|  5|  1|11.0|  1|    1.0|\n",
      "|  4|  9|12.0| 10|    1.0|\n",
      "|  5|  8|10.0|  9|    1.0|\n",
      "+---+---+----+---+-------+\n"
     ]
    }
   ],
   "source": [
    "df.show()"
   ],
   "metadata": {
    "collapsed": false,
    "ExecuteTime": {
     "end_time": "2024-01-13T16:21:37.704343100Z",
     "start_time": "2024-01-13T16:21:37.591770400Z"
    }
   },
   "id": "5e2a70dfdcc6ec20",
   "execution_count": 46
  },
  {
   "cell_type": "code",
   "outputs": [
    {
     "name": "stdout",
     "output_type": "stream",
     "text": [
      "+---+---+----+---+-------+-------------------+\n",
      "|  A|  B|   C|  D|Spoiled|           features|\n",
      "+---+---+----+---+-------+-------------------+\n",
      "|  4|  2|12.0|  3|    1.0| [4.0,2.0,12.0,3.0]|\n",
      "|  5|  6|12.0|  7|    1.0| [5.0,6.0,12.0,7.0]|\n",
      "|  6|  2|13.0|  6|    1.0| [6.0,2.0,13.0,6.0]|\n",
      "|  4|  2|12.0|  1|    1.0| [4.0,2.0,12.0,1.0]|\n",
      "|  4|  2|12.0|  3|    1.0| [4.0,2.0,12.0,3.0]|\n",
      "| 10|  3|13.0|  9|    1.0|[10.0,3.0,13.0,9.0]|\n",
      "|  8|  5|14.0|  5|    1.0| [8.0,5.0,14.0,5.0]|\n",
      "|  5|  8|12.0|  8|    1.0| [5.0,8.0,12.0,8.0]|\n",
      "|  6|  5|12.0|  9|    1.0| [6.0,5.0,12.0,9.0]|\n",
      "|  3|  3|12.0|  1|    1.0| [3.0,3.0,12.0,1.0]|\n",
      "|  9|  8|11.0|  3|    1.0| [9.0,8.0,11.0,3.0]|\n",
      "|  1| 10|12.0|  3|    1.0|[1.0,10.0,12.0,3.0]|\n",
      "|  1|  5|13.0| 10|    1.0|[1.0,5.0,13.0,10.0]|\n",
      "|  2| 10|12.0|  6|    1.0|[2.0,10.0,12.0,6.0]|\n",
      "|  1| 10|11.0|  4|    1.0|[1.0,10.0,11.0,4.0]|\n",
      "|  5|  3|12.0|  2|    1.0| [5.0,3.0,12.0,2.0]|\n",
      "|  4|  9|11.0|  8|    1.0| [4.0,9.0,11.0,8.0]|\n",
      "|  5|  1|11.0|  1|    1.0| [5.0,1.0,11.0,1.0]|\n",
      "|  4|  9|12.0| 10|    1.0|[4.0,9.0,12.0,10.0]|\n",
      "|  5|  8|10.0|  9|    1.0| [5.0,8.0,10.0,9.0]|\n",
      "+---+---+----+---+-------+-------------------+\n"
     ]
    }
   ],
   "source": [
    "assembler = VectorAssembler(inputCols=['A', 'B', 'C', 'D'], outputCol='features')\n",
    "output = assembler.transform(df)\n",
    "output.show()"
   ],
   "metadata": {
    "collapsed": false,
    "ExecuteTime": {
     "end_time": "2024-01-13T16:21:38.245863800Z",
     "start_time": "2024-01-13T16:21:38.049281Z"
    }
   },
   "id": "32e4fae42ad5b5ef",
   "execution_count": 47
  },
  {
   "cell_type": "code",
   "outputs": [],
   "source": [
    "rfc = RandomForestClassifier(labelCol=\"Spoiled\", featuresCol='features')"
   ],
   "metadata": {
    "collapsed": false,
    "ExecuteTime": {
     "end_time": "2024-01-13T16:21:38.593865100Z",
     "start_time": "2024-01-13T16:21:38.585864400Z"
    }
   },
   "id": "636f6c5a5d6075f",
   "execution_count": 48
  },
  {
   "cell_type": "code",
   "outputs": [],
   "source": [
    "rfc_model = rfc.fit(output)"
   ],
   "metadata": {
    "collapsed": false,
    "ExecuteTime": {
     "end_time": "2024-01-13T16:21:39.996631800Z",
     "start_time": "2024-01-13T16:21:39.233535500Z"
    }
   },
   "id": "6c260f2c34521b4c",
   "execution_count": 49
  },
  {
   "cell_type": "code",
   "outputs": [
    {
     "data": {
      "text/plain": "RandomForestClassificationModel: uid=RandomForestClassifier_90e3898e010c, numTrees=20, numClasses=2, numFeatures=4"
     },
     "execution_count": 57,
     "metadata": {},
     "output_type": "execute_result"
    }
   ],
   "source": [
    "rfc_model"
   ],
   "metadata": {
    "collapsed": false,
    "ExecuteTime": {
     "end_time": "2024-01-13T16:22:33.200966300Z",
     "start_time": "2024-01-13T16:22:33.181962700Z"
    }
   },
   "id": "ad6008d50ef2e81b",
   "execution_count": 57
  },
  {
   "cell_type": "code",
   "outputs": [
    {
     "data": {
      "text/plain": "SparseVector(4, {0: 0.0211, 1: 0.0155, 2: 0.9432, 3: 0.0202})"
     },
     "execution_count": 58,
     "metadata": {},
     "output_type": "execute_result"
    }
   ],
   "source": [
    "importances = rfc_model.featureImportances\n",
    "importances"
   ],
   "metadata": {
    "collapsed": false,
    "ExecuteTime": {
     "end_time": "2024-01-13T16:22:33.577965200Z",
     "start_time": "2024-01-13T16:22:33.568966400Z"
    }
   },
   "id": "b529e6f67ffd97ac",
   "execution_count": 58
  },
  {
   "cell_type": "code",
   "outputs": [],
   "source": [
    "max_importance = max(importances)\n",
    "most_important_feature_index = importances.toArray().tolist().index(max_importance)"
   ],
   "metadata": {
    "collapsed": false,
    "ExecuteTime": {
     "end_time": "2024-01-13T16:22:34.065753200Z",
     "start_time": "2024-01-13T16:22:34.060753800Z"
    }
   },
   "id": "74146a737b3225b9",
   "execution_count": 59
  },
  {
   "cell_type": "code",
   "outputs": [
    {
     "data": {
      "text/plain": "2"
     },
     "execution_count": 60,
     "metadata": {},
     "output_type": "execute_result"
    }
   ],
   "source": [
    "most_important_feature_index"
   ],
   "metadata": {
    "collapsed": false,
    "ExecuteTime": {
     "end_time": "2024-01-13T16:22:34.566533800Z",
     "start_time": "2024-01-13T16:22:34.559417700Z"
    }
   },
   "id": "391da8de21052102",
   "execution_count": 60
  },
  {
   "cell_type": "code",
   "outputs": [
    {
     "data": {
      "text/plain": "Column<'C'>"
     },
     "execution_count": 63,
     "metadata": {},
     "output_type": "execute_result"
    }
   ],
   "source": [
    "output[most_important_feature_index]"
   ],
   "metadata": {
    "collapsed": false,
    "ExecuteTime": {
     "end_time": "2024-01-13T16:22:49.865322800Z",
     "start_time": "2024-01-13T16:22:49.812328100Z"
    }
   },
   "id": "38ea61d08c5634b5",
   "execution_count": 63
  },
  {
   "cell_type": "code",
   "outputs": [],
   "source": [],
   "metadata": {
    "collapsed": false
   },
   "id": "ea361f8b88753661"
  }
 ],
 "metadata": {
  "kernelspec": {
   "display_name": "Python 3",
   "language": "python",
   "name": "python3"
  },
  "language_info": {
   "codemirror_mode": {
    "name": "ipython",
    "version": 2
   },
   "file_extension": ".py",
   "mimetype": "text/x-python",
   "name": "python",
   "nbconvert_exporter": "python",
   "pygments_lexer": "ipython2",
   "version": "2.7.6"
  }
 },
 "nbformat": 4,
 "nbformat_minor": 5
}
