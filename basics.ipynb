{
 "cells": [
  {
   "cell_type": "raw",
   "source": [],
   "metadata": {
    "collapsed": false
   },
   "id": "25931a157e273fc9"
  },
  {
   "cell_type": "markdown",
   "source": [],
   "metadata": {
    "collapsed": false
   },
   "id": "d6bad2ba1ff5b23b"
  },
  {
   "cell_type": "code",
   "execution_count": 1,
   "outputs": [],
   "source": [
    "from pyspark.sql import SparkSession"
   ],
   "metadata": {
    "collapsed": false,
    "ExecuteTime": {
     "end_time": "2023-12-12T20:36:43.984005Z",
     "start_time": "2023-12-12T20:36:43.851451700Z"
    }
   },
   "id": "4779d6e1fae18b8"
  },
  {
   "cell_type": "code",
   "execution_count": 2,
   "outputs": [
    {
     "name": "stderr",
     "output_type": "stream",
     "text": [
      "23/12/12 21:36:48 WARN Utils: Your hostname, DESKTOP-0HJMRJF resolves to a loopback address: 127.0.1.1; using 172.19.52.54 instead (on interface eth0)\n",
      "23/12/12 21:36:48 WARN Utils: Set SPARK_LOCAL_IP if you need to bind to another address\n",
      "Setting default log level to \"WARN\".\n",
      "To adjust logging level use sc.setLogLevel(newLevel). For SparkR, use setLogLevel(newLevel).\n",
      "23/12/12 21:36:50 WARN NativeCodeLoader: Unable to load native-hadoop library for your platform... using builtin-java classes where applicable\n"
     ]
    }
   ],
   "source": [
    "spark = SparkSession.builder.appName('Basics').getOrCreate()"
   ],
   "metadata": {
    "collapsed": false,
    "ExecuteTime": {
     "end_time": "2023-12-12T20:36:51.288126900Z",
     "start_time": "2023-12-12T20:36:47.403555800Z"
    }
   },
   "id": "796029e81042d388"
  },
  {
   "cell_type": "code",
   "execution_count": 3,
   "outputs": [
    {
     "data": {
      "text/plain": "<pyspark.sql.session.SparkSession at 0x7faec3e55c60>",
      "text/html": "\n            <div>\n                <p><b>SparkSession - in-memory</b></p>\n                \n        <div>\n            <p><b>SparkContext</b></p>\n\n            <p><a href=\"http://172.19.52.54:4040\">Spark UI</a></p>\n\n            <dl>\n              <dt>Version</dt>\n                <dd><code>v3.5.0</code></dd>\n              <dt>Master</dt>\n                <dd><code>local[*]</code></dd>\n              <dt>AppName</dt>\n                <dd><code>Basics</code></dd>\n            </dl>\n        </div>\n        \n            </div>\n        "
     },
     "execution_count": 3,
     "metadata": {},
     "output_type": "execute_result"
    }
   ],
   "source": [
    "spark"
   ],
   "metadata": {
    "collapsed": false,
    "ExecuteTime": {
     "end_time": "2023-12-12T20:36:52.000383Z",
     "start_time": "2023-12-12T20:36:51.294437300Z"
    }
   },
   "id": "25a3b795dcb1b57a"
  },
  {
   "cell_type": "code",
   "execution_count": 32,
   "outputs": [
    {
     "name": "stderr",
     "output_type": "stream",
     "text": [
      "                                                                                \r"
     ]
    }
   ],
   "source": [
    " df = spark.read.csv('dublinbikes.csv', header=True, inferSchema=True)"
   ],
   "metadata": {
    "collapsed": false,
    "ExecuteTime": {
     "end_time": "2023-12-12T19:10:28.110359800Z",
     "start_time": "2023-12-12T19:10:25.214030900Z"
    }
   },
   "id": "d228d10df7e06150"
  },
  {
   "cell_type": "code",
   "execution_count": 33,
   "outputs": [
    {
     "name": "stdout",
     "output_type": "stream",
     "text": [
      "+----------+-------------------+-------------------+-------------+-----------+---------------------+---------------+------+-------------+---------+---------+\n",
      "|STATION ID|               TIME|       LAST UPDATED|         NAME|BIKE STANDS|AVAILABLE BIKE STANDS|AVAILABLE BIKES|STATUS|      ADDRESS| LATITUDE|LONGITUDE|\n",
      "+----------+-------------------+-------------------+-------------+-----------+---------------------+---------------+------+-------------+---------+---------+\n",
      "|         1|2018-10-01 00:00:02|2018-09-30 23:52:33|CLARENDON ROW|         31|                   31|              0|  Open|Clarendon Row|53.340927|-6.262501|\n",
      "|         1|2018-10-01 00:05:01|2018-10-01 00:02:43|CLARENDON ROW|         31|                   31|              0|  Open|Clarendon Row|53.340927|-6.262501|\n",
      "|         1|2018-10-01 00:10:02|2018-10-01 00:02:43|CLARENDON ROW|         31|                   31|              0|  Open|Clarendon Row|53.340927|-6.262501|\n",
      "|         1|2018-10-01 00:15:02|2018-10-01 00:12:52|CLARENDON ROW|         31|                   31|              0|  Open|Clarendon Row|53.340927|-6.262501|\n",
      "|         1|2018-10-01 00:20:03|2018-10-01 00:12:52|CLARENDON ROW|         31|                   31|              0|  Open|Clarendon Row|53.340927|-6.262501|\n",
      "|         1|2018-10-01 00:25:03|2018-10-01 00:23:02|CLARENDON ROW|         31|                   31|              0|  Open|Clarendon Row|53.340927|-6.262501|\n",
      "|         1|2018-10-01 00:30:02|2018-10-01 00:23:02|CLARENDON ROW|         31|                   31|              0|  Open|Clarendon Row|53.340927|-6.262501|\n",
      "|         1|2018-10-01 00:35:03|2018-10-01 00:33:11|CLARENDON ROW|         31|                   31|              0|  Open|Clarendon Row|53.340927|-6.262501|\n",
      "|         1|2018-10-01 00:40:02|2018-10-01 00:33:11|CLARENDON ROW|         31|                   31|              0|  Open|Clarendon Row|53.340927|-6.262501|\n",
      "|         1|2018-10-01 00:45:02|2018-10-01 00:43:20|CLARENDON ROW|         31|                   31|              0|  Open|Clarendon Row|53.340927|-6.262501|\n",
      "|         1|2018-10-01 00:50:02|2018-10-01 00:43:20|CLARENDON ROW|         31|                   31|              0|  Open|Clarendon Row|53.340927|-6.262501|\n",
      "|         1|2018-10-01 00:55:02|2018-10-01 00:53:29|CLARENDON ROW|         31|                   31|              0|  Open|Clarendon Row|53.340927|-6.262501|\n",
      "|         1|2018-10-01 01:00:01|2018-10-01 00:53:29|CLARENDON ROW|         31|                   31|              0|  Open|Clarendon Row|53.340927|-6.262501|\n",
      "|         1|2018-10-01 01:05:02|2018-10-01 01:03:39|CLARENDON ROW|         31|                   31|              0|  Open|Clarendon Row|53.340927|-6.262501|\n",
      "|         1|2018-10-01 01:10:03|2018-10-01 01:03:39|CLARENDON ROW|         31|                   31|              0|  Open|Clarendon Row|53.340927|-6.262501|\n",
      "|         1|2018-10-01 01:15:03|2018-10-01 01:13:48|CLARENDON ROW|         31|                   31|              0|  Open|Clarendon Row|53.340927|-6.262501|\n",
      "|         1|2018-10-01 01:20:03|2018-10-01 01:13:48|CLARENDON ROW|         31|                   31|              0|  Open|Clarendon Row|53.340927|-6.262501|\n",
      "|         1|2018-10-01 01:25:03|2018-10-01 01:23:57|CLARENDON ROW|         31|                   31|              0|  Open|Clarendon Row|53.340927|-6.262501|\n",
      "|         1|2018-10-01 01:30:03|2018-10-01 01:23:57|CLARENDON ROW|         31|                   31|              0|  Open|Clarendon Row|53.340927|-6.262501|\n",
      "|         1|2018-10-01 01:35:03|2018-10-01 01:33:45|CLARENDON ROW|         31|                   31|              0|  Open|Clarendon Row|53.340927|-6.262501|\n",
      "+----------+-------------------+-------------------+-------------+-----------+---------------------+---------------+------+-------------+---------+---------+\n"
     ]
    }
   ],
   "source": [
    "df.show()"
   ],
   "metadata": {
    "collapsed": false,
    "ExecuteTime": {
     "end_time": "2023-12-12T19:10:28.349861800Z",
     "start_time": "2023-12-12T19:10:28.110359800Z"
    }
   },
   "id": "13e45b4e815cc98c"
  },
  {
   "cell_type": "code",
   "execution_count": 34,
   "outputs": [
    {
     "name": "stdout",
     "output_type": "stream",
     "text": [
      "root\n",
      " |-- STATION ID: integer (nullable = true)\n",
      " |-- TIME: timestamp (nullable = true)\n",
      " |-- LAST UPDATED: timestamp (nullable = true)\n",
      " |-- NAME: string (nullable = true)\n",
      " |-- BIKE STANDS: integer (nullable = true)\n",
      " |-- AVAILABLE BIKE STANDS: integer (nullable = true)\n",
      " |-- AVAILABLE BIKES: integer (nullable = true)\n",
      " |-- STATUS: string (nullable = true)\n",
      " |-- ADDRESS: string (nullable = true)\n",
      " |-- LATITUDE: double (nullable = true)\n",
      " |-- LONGITUDE: double (nullable = true)\n"
     ]
    }
   ],
   "source": [
    "df.printSchema()"
   ],
   "metadata": {
    "collapsed": false,
    "ExecuteTime": {
     "end_time": "2023-12-12T19:10:39.467813500Z",
     "start_time": "2023-12-12T19:10:39.401813900Z"
    }
   },
   "id": "469be74fb728f726"
  },
  {
   "cell_type": "code",
   "execution_count": 35,
   "outputs": [
    {
     "data": {
      "text/plain": "['STATION ID',\n 'TIME',\n 'LAST UPDATED',\n 'NAME',\n 'BIKE STANDS',\n 'AVAILABLE BIKE STANDS',\n 'AVAILABLE BIKES',\n 'STATUS',\n 'ADDRESS',\n 'LATITUDE',\n 'LONGITUDE']"
     },
     "execution_count": 35,
     "metadata": {},
     "output_type": "execute_result"
    }
   ],
   "source": [
    "df.columns"
   ],
   "metadata": {
    "collapsed": false,
    "ExecuteTime": {
     "end_time": "2023-12-12T19:11:15.838074700Z",
     "start_time": "2023-12-12T19:11:15.811074600Z"
    }
   },
   "id": "d180b1f4f1be997e"
  },
  {
   "cell_type": "code",
   "execution_count": 37,
   "outputs": [
    {
     "name": "stderr",
     "output_type": "stream",
     "text": [
      "23/12/12 20:26:22 WARN SparkStringUtils: Truncated the string representation of a plan since it was too large. This behavior can be adjusted by setting 'spark.sql.debug.maxToStringFields'.\n",
      "[Stage 5:====================================================>    (11 + 1) / 12]\r"
     ]
    },
    {
     "name": "stdout",
     "output_type": "stream",
     "text": [
      "+-------+------------------+----------------+-----------------+---------------------+-----------------+-------+----------------+--------------------+-------------------+\n",
      "|summary|        STATION ID|            NAME|      BIKE STANDS|AVAILABLE BIKE STANDS|  AVAILABLE BIKES| STATUS|         ADDRESS|            LATITUDE|          LONGITUDE|\n",
      "+-------+------------------+----------------+-----------------+---------------------+-----------------+-------+----------------+--------------------+-------------------+\n",
      "|  count|           3000133|         3000133|          3000133|              3000133|          3000133|3000133|         3000133|             3000133|            3000133|\n",
      "|   mean|58.315921660806374|            NULL|32.05368262007051|    20.64537938818046| 11.1921471481431|   NULL|            NULL|   53.34550031802905| -6.264761524322598|\n",
      "| stddev| 33.14188279452583|            NULL| 7.50059844191697|   11.849617326685134|10.80227317972133|   NULL|            NULL|0.007510112899919084|0.01798983750626933|\n",
      "|    min|                 1|   AVONDALE ROAD|               16|                    0|                0|  Close|   Avondale Road|            53.33009|          -6.310015|\n",
      "|    max|               115|YORK STREET WEST|               40|                   45|               40|   Open|York Street West|           53.359966|          -6.230852|\n",
      "+-------+------------------+----------------+-----------------+---------------------+-----------------+-------+----------------+--------------------+-------------------+\n"
     ]
    },
    {
     "name": "stderr",
     "output_type": "stream",
     "text": [
      "                                                                                \r"
     ]
    }
   ],
   "source": [
    "df.describe().show()"
   ],
   "metadata": {
    "collapsed": false,
    "ExecuteTime": {
     "end_time": "2023-12-12T19:26:28.745033900Z",
     "start_time": "2023-12-12T19:26:22.195986200Z"
    }
   },
   "id": "b3a9ffe6aa4128c6"
  },
  {
   "cell_type": "code",
   "execution_count": 56,
   "outputs": [],
   "source": [
    " from pyspark.sql.types import StructField, StringType,IntegerType, StructType\n",
    "\n",
    "data_schema = [StructField('AVAILABLE BIKES', IntegerType(), True),\n",
    "               StructField('NAME', StringType(), True)]"
   ],
   "metadata": {
    "collapsed": false,
    "ExecuteTime": {
     "end_time": "2023-12-12T19:33:09.181964400Z",
     "start_time": "2023-12-12T19:33:09.164966500Z"
    }
   },
   "id": "63020911d441dbc7"
  },
  {
   "cell_type": "code",
   "execution_count": 57,
   "outputs": [
    {
     "data": {
      "text/plain": "[StructField('AVAILABLE BIKES', IntegerType(), True),\n StructField('NAME', StringType(), True)]"
     },
     "execution_count": 57,
     "metadata": {},
     "output_type": "execute_result"
    }
   ],
   "source": [
    "data_schema"
   ],
   "metadata": {
    "collapsed": false,
    "ExecuteTime": {
     "end_time": "2023-12-12T19:33:10.492380200Z",
     "start_time": "2023-12-12T19:33:10.487382500Z"
    }
   },
   "id": "ca4dcd3480cbc1cb"
  },
  {
   "cell_type": "code",
   "execution_count": 58,
   "outputs": [],
   "source": [
    "final_struc = StructType(fields=data_schema)"
   ],
   "metadata": {
    "collapsed": false,
    "ExecuteTime": {
     "end_time": "2023-12-12T19:33:11.051037100Z",
     "start_time": "2023-12-12T19:33:11.041041100Z"
    }
   },
   "id": "b79852c32198f4be"
  },
  {
   "cell_type": "code",
   "execution_count": 59,
   "outputs": [
    {
     "data": {
      "text/plain": "StructType([StructField('AVAILABLE BIKES', IntegerType(), True), StructField('NAME', StringType(), True)])"
     },
     "execution_count": 59,
     "metadata": {},
     "output_type": "execute_result"
    }
   ],
   "source": [
    "final_struc"
   ],
   "metadata": {
    "collapsed": false,
    "ExecuteTime": {
     "end_time": "2023-12-12T19:33:11.534316700Z",
     "start_time": "2023-12-12T19:33:11.528316800Z"
    }
   },
   "id": "6c6cb472382ce25"
  },
  {
   "cell_type": "code",
   "execution_count": 5,
   "outputs": [
    {
     "name": "stderr",
     "output_type": "stream",
     "text": [
      "                                                                                \r"
     ]
    }
   ],
   "source": [
    "# df = spark.read.csv('dublinbikes.csv', header=True, schema=final_struc)\n",
    "df = spark.read.csv('dublinbikes.csv', header=True, inferSchema=True)"
   ],
   "metadata": {
    "collapsed": false,
    "ExecuteTime": {
     "end_time": "2023-12-12T20:37:21.797187Z",
     "start_time": "2023-12-12T20:37:19.793554900Z"
    }
   },
   "id": "cc6f187e34569ee2"
  },
  {
   "cell_type": "code",
   "execution_count": 6,
   "outputs": [
    {
     "name": "stdout",
     "output_type": "stream",
     "text": [
      "+----------+-------------------+-------------------+-------------+-----------+---------------------+---------------+------+-------------+---------+---------+\n",
      "|STATION ID|               TIME|       LAST UPDATED|         NAME|BIKE STANDS|AVAILABLE BIKE STANDS|AVAILABLE BIKES|STATUS|      ADDRESS| LATITUDE|LONGITUDE|\n",
      "+----------+-------------------+-------------------+-------------+-----------+---------------------+---------------+------+-------------+---------+---------+\n",
      "|         1|2018-10-01 00:00:02|2018-09-30 23:52:33|CLARENDON ROW|         31|                   31|              0|  Open|Clarendon Row|53.340927|-6.262501|\n",
      "|         1|2018-10-01 00:05:01|2018-10-01 00:02:43|CLARENDON ROW|         31|                   31|              0|  Open|Clarendon Row|53.340927|-6.262501|\n",
      "|         1|2018-10-01 00:10:02|2018-10-01 00:02:43|CLARENDON ROW|         31|                   31|              0|  Open|Clarendon Row|53.340927|-6.262501|\n",
      "|         1|2018-10-01 00:15:02|2018-10-01 00:12:52|CLARENDON ROW|         31|                   31|              0|  Open|Clarendon Row|53.340927|-6.262501|\n",
      "|         1|2018-10-01 00:20:03|2018-10-01 00:12:52|CLARENDON ROW|         31|                   31|              0|  Open|Clarendon Row|53.340927|-6.262501|\n",
      "|         1|2018-10-01 00:25:03|2018-10-01 00:23:02|CLARENDON ROW|         31|                   31|              0|  Open|Clarendon Row|53.340927|-6.262501|\n",
      "|         1|2018-10-01 00:30:02|2018-10-01 00:23:02|CLARENDON ROW|         31|                   31|              0|  Open|Clarendon Row|53.340927|-6.262501|\n",
      "|         1|2018-10-01 00:35:03|2018-10-01 00:33:11|CLARENDON ROW|         31|                   31|              0|  Open|Clarendon Row|53.340927|-6.262501|\n",
      "|         1|2018-10-01 00:40:02|2018-10-01 00:33:11|CLARENDON ROW|         31|                   31|              0|  Open|Clarendon Row|53.340927|-6.262501|\n",
      "|         1|2018-10-01 00:45:02|2018-10-01 00:43:20|CLARENDON ROW|         31|                   31|              0|  Open|Clarendon Row|53.340927|-6.262501|\n",
      "|         1|2018-10-01 00:50:02|2018-10-01 00:43:20|CLARENDON ROW|         31|                   31|              0|  Open|Clarendon Row|53.340927|-6.262501|\n",
      "|         1|2018-10-01 00:55:02|2018-10-01 00:53:29|CLARENDON ROW|         31|                   31|              0|  Open|Clarendon Row|53.340927|-6.262501|\n",
      "|         1|2018-10-01 01:00:01|2018-10-01 00:53:29|CLARENDON ROW|         31|                   31|              0|  Open|Clarendon Row|53.340927|-6.262501|\n",
      "|         1|2018-10-01 01:05:02|2018-10-01 01:03:39|CLARENDON ROW|         31|                   31|              0|  Open|Clarendon Row|53.340927|-6.262501|\n",
      "|         1|2018-10-01 01:10:03|2018-10-01 01:03:39|CLARENDON ROW|         31|                   31|              0|  Open|Clarendon Row|53.340927|-6.262501|\n",
      "|         1|2018-10-01 01:15:03|2018-10-01 01:13:48|CLARENDON ROW|         31|                   31|              0|  Open|Clarendon Row|53.340927|-6.262501|\n",
      "|         1|2018-10-01 01:20:03|2018-10-01 01:13:48|CLARENDON ROW|         31|                   31|              0|  Open|Clarendon Row|53.340927|-6.262501|\n",
      "|         1|2018-10-01 01:25:03|2018-10-01 01:23:57|CLARENDON ROW|         31|                   31|              0|  Open|Clarendon Row|53.340927|-6.262501|\n",
      "|         1|2018-10-01 01:30:03|2018-10-01 01:23:57|CLARENDON ROW|         31|                   31|              0|  Open|Clarendon Row|53.340927|-6.262501|\n",
      "|         1|2018-10-01 01:35:03|2018-10-01 01:33:45|CLARENDON ROW|         31|                   31|              0|  Open|Clarendon Row|53.340927|-6.262501|\n",
      "+----------+-------------------+-------------------+-------------+-----------+---------------------+---------------+------+-------------+---------+---------+\n"
     ]
    }
   ],
   "source": [
    "df.show()"
   ],
   "metadata": {
    "collapsed": false,
    "ExecuteTime": {
     "end_time": "2023-12-12T20:37:22.027992700Z",
     "start_time": "2023-12-12T20:37:21.784185500Z"
    }
   },
   "id": "c8e9f314cb011e3a"
  },
  {
   "cell_type": "code",
   "execution_count": 13,
   "outputs": [
    {
     "name": "stdout",
     "output_type": "stream",
     "text": [
      "+-------------+\n",
      "|         NAME|\n",
      "+-------------+\n",
      "|CLARENDON ROW|\n",
      "|CLARENDON ROW|\n",
      "|CLARENDON ROW|\n",
      "|CLARENDON ROW|\n",
      "|CLARENDON ROW|\n",
      "|CLARENDON ROW|\n",
      "|CLARENDON ROW|\n",
      "|CLARENDON ROW|\n",
      "|CLARENDON ROW|\n",
      "|CLARENDON ROW|\n",
      "|CLARENDON ROW|\n",
      "|CLARENDON ROW|\n",
      "|CLARENDON ROW|\n",
      "|CLARENDON ROW|\n",
      "|CLARENDON ROW|\n",
      "|CLARENDON ROW|\n",
      "|CLARENDON ROW|\n",
      "|CLARENDON ROW|\n",
      "|CLARENDON ROW|\n",
      "|CLARENDON ROW|\n",
      "+-------------+\n"
     ]
    },
    {
     "data": {
      "text/plain": "pyspark.sql.dataframe.DataFrame"
     },
     "execution_count": 13,
     "metadata": {},
     "output_type": "execute_result"
    }
   ],
   "source": [
    "df.select('NAME').show()\n",
    "type(df.select('NAME'))"
   ],
   "metadata": {
    "collapsed": false,
    "ExecuteTime": {
     "end_time": "2023-12-12T20:32:10.350625100Z",
     "start_time": "2023-12-12T20:32:10.194604400Z"
    }
   },
   "id": "2fc7c4b2e4a1147"
  },
  {
   "cell_type": "code",
   "execution_count": 15,
   "outputs": [
    {
     "data": {
      "text/plain": "pyspark.sql.types.Row"
     },
     "execution_count": 15,
     "metadata": {},
     "output_type": "execute_result"
    }
   ],
   "source": [
    "df.head(2)\n",
    "type(df.head(2)[0])"
   ],
   "metadata": {
    "collapsed": false,
    "ExecuteTime": {
     "end_time": "2023-12-12T20:32:54.407604700Z",
     "start_time": "2023-12-12T20:32:54.250724500Z"
    }
   },
   "id": "f0fd09af8bc6101a"
  },
  {
   "cell_type": "code",
   "execution_count": 17,
   "outputs": [
    {
     "name": "stdout",
     "output_type": "stream",
     "text": [
      "+-------------+-------------------+\n",
      "|         NAME|               TIME|\n",
      "+-------------+-------------------+\n",
      "|CLARENDON ROW|2018-10-01 00:00:02|\n",
      "|CLARENDON ROW|2018-10-01 00:05:01|\n",
      "|CLARENDON ROW|2018-10-01 00:10:02|\n",
      "|CLARENDON ROW|2018-10-01 00:15:02|\n",
      "|CLARENDON ROW|2018-10-01 00:20:03|\n",
      "|CLARENDON ROW|2018-10-01 00:25:03|\n",
      "|CLARENDON ROW|2018-10-01 00:30:02|\n",
      "|CLARENDON ROW|2018-10-01 00:35:03|\n",
      "|CLARENDON ROW|2018-10-01 00:40:02|\n",
      "|CLARENDON ROW|2018-10-01 00:45:02|\n",
      "|CLARENDON ROW|2018-10-01 00:50:02|\n",
      "|CLARENDON ROW|2018-10-01 00:55:02|\n",
      "|CLARENDON ROW|2018-10-01 01:00:01|\n",
      "|CLARENDON ROW|2018-10-01 01:05:02|\n",
      "|CLARENDON ROW|2018-10-01 01:10:03|\n",
      "|CLARENDON ROW|2018-10-01 01:15:03|\n",
      "|CLARENDON ROW|2018-10-01 01:20:03|\n",
      "|CLARENDON ROW|2018-10-01 01:25:03|\n",
      "|CLARENDON ROW|2018-10-01 01:30:03|\n",
      "|CLARENDON ROW|2018-10-01 01:35:03|\n",
      "+-------------+-------------------+\n"
     ]
    }
   ],
   "source": [
    " df.select(['NAME', 'TIME']).show()"
   ],
   "metadata": {
    "collapsed": false,
    "ExecuteTime": {
     "end_time": "2023-12-12T20:35:04.488804300Z",
     "start_time": "2023-12-12T20:35:04.313277300Z"
    }
   },
   "id": "1c375ba2f3f4a1a6"
  },
  {
   "cell_type": "code",
   "execution_count": 13,
   "outputs": [
    {
     "name": "stdout",
     "output_type": "stream",
     "text": [
      "+----------+-------------------+-------------------+-------------+-----------+---------------------+---------------+------+-------------+---------+---------+---------------+\n",
      "|STATION ID|               TIME|       LAST UPDATED|         NAME|BIKE STANDS|AVAILABLE BIKE STANDS|AVAILABLE BIKES|STATUS|      ADDRESS| LATITUDE|LONGITUDE|BIKE_STANDS_NEW|\n",
      "+----------+-------------------+-------------------+-------------+-----------+---------------------+---------------+------+-------------+---------+---------+---------------+\n",
      "|         1|2018-10-01 00:00:02|2018-09-30 23:52:33|CLARENDON ROW|         31|                   31|              0|  Open|Clarendon Row|53.340927|-6.262501|            1.0|\n",
      "|         1|2018-10-01 00:05:01|2018-10-01 00:02:43|CLARENDON ROW|         31|                   31|              0|  Open|Clarendon Row|53.340927|-6.262501|            1.0|\n",
      "|         1|2018-10-01 00:10:02|2018-10-01 00:02:43|CLARENDON ROW|         31|                   31|              0|  Open|Clarendon Row|53.340927|-6.262501|            1.0|\n",
      "|         1|2018-10-01 00:15:02|2018-10-01 00:12:52|CLARENDON ROW|         31|                   31|              0|  Open|Clarendon Row|53.340927|-6.262501|            1.0|\n",
      "|         1|2018-10-01 00:20:03|2018-10-01 00:12:52|CLARENDON ROW|         31|                   31|              0|  Open|Clarendon Row|53.340927|-6.262501|            1.0|\n",
      "|         1|2018-10-01 00:25:03|2018-10-01 00:23:02|CLARENDON ROW|         31|                   31|              0|  Open|Clarendon Row|53.340927|-6.262501|            1.0|\n",
      "|         1|2018-10-01 00:30:02|2018-10-01 00:23:02|CLARENDON ROW|         31|                   31|              0|  Open|Clarendon Row|53.340927|-6.262501|            1.0|\n",
      "|         1|2018-10-01 00:35:03|2018-10-01 00:33:11|CLARENDON ROW|         31|                   31|              0|  Open|Clarendon Row|53.340927|-6.262501|            1.0|\n",
      "|         1|2018-10-01 00:40:02|2018-10-01 00:33:11|CLARENDON ROW|         31|                   31|              0|  Open|Clarendon Row|53.340927|-6.262501|            1.0|\n",
      "|         1|2018-10-01 00:45:02|2018-10-01 00:43:20|CLARENDON ROW|         31|                   31|              0|  Open|Clarendon Row|53.340927|-6.262501|            1.0|\n",
      "|         1|2018-10-01 00:50:02|2018-10-01 00:43:20|CLARENDON ROW|         31|                   31|              0|  Open|Clarendon Row|53.340927|-6.262501|            1.0|\n",
      "|         1|2018-10-01 00:55:02|2018-10-01 00:53:29|CLARENDON ROW|         31|                   31|              0|  Open|Clarendon Row|53.340927|-6.262501|            1.0|\n",
      "|         1|2018-10-01 01:00:01|2018-10-01 00:53:29|CLARENDON ROW|         31|                   31|              0|  Open|Clarendon Row|53.340927|-6.262501|            1.0|\n",
      "|         1|2018-10-01 01:05:02|2018-10-01 01:03:39|CLARENDON ROW|         31|                   31|              0|  Open|Clarendon Row|53.340927|-6.262501|            1.0|\n",
      "|         1|2018-10-01 01:10:03|2018-10-01 01:03:39|CLARENDON ROW|         31|                   31|              0|  Open|Clarendon Row|53.340927|-6.262501|            1.0|\n",
      "|         1|2018-10-01 01:15:03|2018-10-01 01:13:48|CLARENDON ROW|         31|                   31|              0|  Open|Clarendon Row|53.340927|-6.262501|            1.0|\n",
      "|         1|2018-10-01 01:20:03|2018-10-01 01:13:48|CLARENDON ROW|         31|                   31|              0|  Open|Clarendon Row|53.340927|-6.262501|            1.0|\n",
      "|         1|2018-10-01 01:25:03|2018-10-01 01:23:57|CLARENDON ROW|         31|                   31|              0|  Open|Clarendon Row|53.340927|-6.262501|            1.0|\n",
      "|         1|2018-10-01 01:30:03|2018-10-01 01:23:57|CLARENDON ROW|         31|                   31|              0|  Open|Clarendon Row|53.340927|-6.262501|            1.0|\n",
      "|         1|2018-10-01 01:35:03|2018-10-01 01:33:45|CLARENDON ROW|         31|                   31|              0|  Open|Clarendon Row|53.340927|-6.262501|            1.0|\n",
      "+----------+-------------------+-------------------+-------------+-----------+---------------------+---------------+------+-------------+---------+---------+---------------+\n"
     ]
    }
   ],
   "source": [
    "df.withColumn('BIKE_STANDS_NEW', df['BIKE STANDS']/df['AVAILABLE BIKE STANDS']).show()"
   ],
   "metadata": {
    "collapsed": false,
    "ExecuteTime": {
     "end_time": "2023-12-12T20:45:35.795609500Z",
     "start_time": "2023-12-12T20:45:35.697514Z"
    }
   },
   "id": "3069fb9aa7fa5225"
  },
  {
   "cell_type": "code",
   "execution_count": 15,
   "outputs": [
    {
     "name": "stdout",
     "output_type": "stream",
     "text": [
      "+----------+-------------------+-------------------+-------------+-----------+---------------------+---------------+------+-------------+---------+---------+\n",
      "|STATION ID|               TIME|       LAST_UPDATED|         NAME|BIKE STANDS|AVAILABLE BIKE STANDS|AVAILABLE BIKES|STATUS|      ADDRESS| LATITUDE|LONGITUDE|\n",
      "+----------+-------------------+-------------------+-------------+-----------+---------------------+---------------+------+-------------+---------+---------+\n",
      "|         1|2018-10-01 00:00:02|2018-09-30 23:52:33|CLARENDON ROW|         31|                   31|              0|  Open|Clarendon Row|53.340927|-6.262501|\n",
      "|         1|2018-10-01 00:05:01|2018-10-01 00:02:43|CLARENDON ROW|         31|                   31|              0|  Open|Clarendon Row|53.340927|-6.262501|\n",
      "|         1|2018-10-01 00:10:02|2018-10-01 00:02:43|CLARENDON ROW|         31|                   31|              0|  Open|Clarendon Row|53.340927|-6.262501|\n",
      "|         1|2018-10-01 00:15:02|2018-10-01 00:12:52|CLARENDON ROW|         31|                   31|              0|  Open|Clarendon Row|53.340927|-6.262501|\n",
      "|         1|2018-10-01 00:20:03|2018-10-01 00:12:52|CLARENDON ROW|         31|                   31|              0|  Open|Clarendon Row|53.340927|-6.262501|\n",
      "|         1|2018-10-01 00:25:03|2018-10-01 00:23:02|CLARENDON ROW|         31|                   31|              0|  Open|Clarendon Row|53.340927|-6.262501|\n",
      "|         1|2018-10-01 00:30:02|2018-10-01 00:23:02|CLARENDON ROW|         31|                   31|              0|  Open|Clarendon Row|53.340927|-6.262501|\n",
      "|         1|2018-10-01 00:35:03|2018-10-01 00:33:11|CLARENDON ROW|         31|                   31|              0|  Open|Clarendon Row|53.340927|-6.262501|\n",
      "|         1|2018-10-01 00:40:02|2018-10-01 00:33:11|CLARENDON ROW|         31|                   31|              0|  Open|Clarendon Row|53.340927|-6.262501|\n",
      "|         1|2018-10-01 00:45:02|2018-10-01 00:43:20|CLARENDON ROW|         31|                   31|              0|  Open|Clarendon Row|53.340927|-6.262501|\n",
      "|         1|2018-10-01 00:50:02|2018-10-01 00:43:20|CLARENDON ROW|         31|                   31|              0|  Open|Clarendon Row|53.340927|-6.262501|\n",
      "|         1|2018-10-01 00:55:02|2018-10-01 00:53:29|CLARENDON ROW|         31|                   31|              0|  Open|Clarendon Row|53.340927|-6.262501|\n",
      "|         1|2018-10-01 01:00:01|2018-10-01 00:53:29|CLARENDON ROW|         31|                   31|              0|  Open|Clarendon Row|53.340927|-6.262501|\n",
      "|         1|2018-10-01 01:05:02|2018-10-01 01:03:39|CLARENDON ROW|         31|                   31|              0|  Open|Clarendon Row|53.340927|-6.262501|\n",
      "|         1|2018-10-01 01:10:03|2018-10-01 01:03:39|CLARENDON ROW|         31|                   31|              0|  Open|Clarendon Row|53.340927|-6.262501|\n",
      "|         1|2018-10-01 01:15:03|2018-10-01 01:13:48|CLARENDON ROW|         31|                   31|              0|  Open|Clarendon Row|53.340927|-6.262501|\n",
      "|         1|2018-10-01 01:20:03|2018-10-01 01:13:48|CLARENDON ROW|         31|                   31|              0|  Open|Clarendon Row|53.340927|-6.262501|\n",
      "|         1|2018-10-01 01:25:03|2018-10-01 01:23:57|CLARENDON ROW|         31|                   31|              0|  Open|Clarendon Row|53.340927|-6.262501|\n",
      "|         1|2018-10-01 01:30:03|2018-10-01 01:23:57|CLARENDON ROW|         31|                   31|              0|  Open|Clarendon Row|53.340927|-6.262501|\n",
      "|         1|2018-10-01 01:35:03|2018-10-01 01:33:45|CLARENDON ROW|         31|                   31|              0|  Open|Clarendon Row|53.340927|-6.262501|\n",
      "+----------+-------------------+-------------------+-------------+-----------+---------------------+---------------+------+-------------+---------+---------+\n"
     ]
    }
   ],
   "source": [
    "df.withColumnRenamed('LAST UPDATED', 'LAST_UPDATED').show() "
   ],
   "metadata": {
    "collapsed": false,
    "ExecuteTime": {
     "end_time": "2023-12-12T20:46:14.181320200Z",
     "start_time": "2023-12-12T20:46:14.032035500Z"
    }
   },
   "id": "cf1b176550ea7062"
  },
  {
   "cell_type": "code",
   "execution_count": 17,
   "outputs": [],
   "source": [
    "df.createOrReplaceTempView('people')"
   ],
   "metadata": {
    "collapsed": false,
    "ExecuteTime": {
     "end_time": "2023-12-12T20:47:37.608570700Z",
     "start_time": "2023-12-12T20:47:37.577574300Z"
    }
   },
   "id": "ec5eddc001537f4"
  },
  {
   "cell_type": "code",
   "execution_count": 19,
   "outputs": [],
   "source": [
    "results = spark.sql(\"SELECT * FROM people\")"
   ],
   "metadata": {
    "collapsed": false,
    "ExecuteTime": {
     "end_time": "2023-12-12T20:48:00.719565500Z",
     "start_time": "2023-12-12T20:48:00.677024100Z"
    }
   },
   "id": "8564a71510619b47"
  },
  {
   "cell_type": "code",
   "execution_count": 20,
   "outputs": [
    {
     "name": "stdout",
     "output_type": "stream",
     "text": [
      "+----------+-------------------+-------------------+-------------+-----------+---------------------+---------------+------+-------------+---------+---------+\n",
      "|STATION ID|               TIME|       LAST UPDATED|         NAME|BIKE STANDS|AVAILABLE BIKE STANDS|AVAILABLE BIKES|STATUS|      ADDRESS| LATITUDE|LONGITUDE|\n",
      "+----------+-------------------+-------------------+-------------+-----------+---------------------+---------------+------+-------------+---------+---------+\n",
      "|         1|2018-10-01 00:00:02|2018-09-30 23:52:33|CLARENDON ROW|         31|                   31|              0|  Open|Clarendon Row|53.340927|-6.262501|\n",
      "|         1|2018-10-01 00:05:01|2018-10-01 00:02:43|CLARENDON ROW|         31|                   31|              0|  Open|Clarendon Row|53.340927|-6.262501|\n",
      "|         1|2018-10-01 00:10:02|2018-10-01 00:02:43|CLARENDON ROW|         31|                   31|              0|  Open|Clarendon Row|53.340927|-6.262501|\n",
      "|         1|2018-10-01 00:15:02|2018-10-01 00:12:52|CLARENDON ROW|         31|                   31|              0|  Open|Clarendon Row|53.340927|-6.262501|\n",
      "|         1|2018-10-01 00:20:03|2018-10-01 00:12:52|CLARENDON ROW|         31|                   31|              0|  Open|Clarendon Row|53.340927|-6.262501|\n",
      "|         1|2018-10-01 00:25:03|2018-10-01 00:23:02|CLARENDON ROW|         31|                   31|              0|  Open|Clarendon Row|53.340927|-6.262501|\n",
      "|         1|2018-10-01 00:30:02|2018-10-01 00:23:02|CLARENDON ROW|         31|                   31|              0|  Open|Clarendon Row|53.340927|-6.262501|\n",
      "|         1|2018-10-01 00:35:03|2018-10-01 00:33:11|CLARENDON ROW|         31|                   31|              0|  Open|Clarendon Row|53.340927|-6.262501|\n",
      "|         1|2018-10-01 00:40:02|2018-10-01 00:33:11|CLARENDON ROW|         31|                   31|              0|  Open|Clarendon Row|53.340927|-6.262501|\n",
      "|         1|2018-10-01 00:45:02|2018-10-01 00:43:20|CLARENDON ROW|         31|                   31|              0|  Open|Clarendon Row|53.340927|-6.262501|\n",
      "|         1|2018-10-01 00:50:02|2018-10-01 00:43:20|CLARENDON ROW|         31|                   31|              0|  Open|Clarendon Row|53.340927|-6.262501|\n",
      "|         1|2018-10-01 00:55:02|2018-10-01 00:53:29|CLARENDON ROW|         31|                   31|              0|  Open|Clarendon Row|53.340927|-6.262501|\n",
      "|         1|2018-10-01 01:00:01|2018-10-01 00:53:29|CLARENDON ROW|         31|                   31|              0|  Open|Clarendon Row|53.340927|-6.262501|\n",
      "|         1|2018-10-01 01:05:02|2018-10-01 01:03:39|CLARENDON ROW|         31|                   31|              0|  Open|Clarendon Row|53.340927|-6.262501|\n",
      "|         1|2018-10-01 01:10:03|2018-10-01 01:03:39|CLARENDON ROW|         31|                   31|              0|  Open|Clarendon Row|53.340927|-6.262501|\n",
      "|         1|2018-10-01 01:15:03|2018-10-01 01:13:48|CLARENDON ROW|         31|                   31|              0|  Open|Clarendon Row|53.340927|-6.262501|\n",
      "|         1|2018-10-01 01:20:03|2018-10-01 01:13:48|CLARENDON ROW|         31|                   31|              0|  Open|Clarendon Row|53.340927|-6.262501|\n",
      "|         1|2018-10-01 01:25:03|2018-10-01 01:23:57|CLARENDON ROW|         31|                   31|              0|  Open|Clarendon Row|53.340927|-6.262501|\n",
      "|         1|2018-10-01 01:30:03|2018-10-01 01:23:57|CLARENDON ROW|         31|                   31|              0|  Open|Clarendon Row|53.340927|-6.262501|\n",
      "|         1|2018-10-01 01:35:03|2018-10-01 01:33:45|CLARENDON ROW|         31|                   31|              0|  Open|Clarendon Row|53.340927|-6.262501|\n",
      "+----------+-------------------+-------------------+-------------+-----------+---------------------+---------------+------+-------------+---------+---------+\n"
     ]
    }
   ],
   "source": [
    "results.show()"
   ],
   "metadata": {
    "collapsed": false,
    "ExecuteTime": {
     "end_time": "2023-12-12T20:48:04.598060300Z",
     "start_time": "2023-12-12T20:48:04.444931Z"
    }
   },
   "id": "338f38b50f5fc016"
  },
  {
   "cell_type": "code",
   "execution_count": 24,
   "outputs": [],
   "source": [
    "new_result = spark.sql(\"SELECT * FROM people WHERE `STATION ID`=1\")"
   ],
   "metadata": {
    "collapsed": false,
    "ExecuteTime": {
     "end_time": "2023-12-12T20:49:15.048416Z",
     "start_time": "2023-12-12T20:49:15.021194600Z"
    }
   },
   "id": "d400bcbf5dc6b242"
  },
  {
   "cell_type": "code",
   "execution_count": 25,
   "outputs": [
    {
     "name": "stdout",
     "output_type": "stream",
     "text": [
      "+----------+-------------------+-------------------+-------------+-----------+---------------------+---------------+------+-------------+---------+---------+\n",
      "|STATION ID|               TIME|       LAST UPDATED|         NAME|BIKE STANDS|AVAILABLE BIKE STANDS|AVAILABLE BIKES|STATUS|      ADDRESS| LATITUDE|LONGITUDE|\n",
      "+----------+-------------------+-------------------+-------------+-----------+---------------------+---------------+------+-------------+---------+---------+\n",
      "|         1|2018-10-01 00:00:02|2018-09-30 23:52:33|CLARENDON ROW|         31|                   31|              0|  Open|Clarendon Row|53.340927|-6.262501|\n",
      "|         1|2018-10-01 00:05:01|2018-10-01 00:02:43|CLARENDON ROW|         31|                   31|              0|  Open|Clarendon Row|53.340927|-6.262501|\n",
      "|         1|2018-10-01 00:10:02|2018-10-01 00:02:43|CLARENDON ROW|         31|                   31|              0|  Open|Clarendon Row|53.340927|-6.262501|\n",
      "|         1|2018-10-01 00:15:02|2018-10-01 00:12:52|CLARENDON ROW|         31|                   31|              0|  Open|Clarendon Row|53.340927|-6.262501|\n",
      "|         1|2018-10-01 00:20:03|2018-10-01 00:12:52|CLARENDON ROW|         31|                   31|              0|  Open|Clarendon Row|53.340927|-6.262501|\n",
      "|         1|2018-10-01 00:25:03|2018-10-01 00:23:02|CLARENDON ROW|         31|                   31|              0|  Open|Clarendon Row|53.340927|-6.262501|\n",
      "|         1|2018-10-01 00:30:02|2018-10-01 00:23:02|CLARENDON ROW|         31|                   31|              0|  Open|Clarendon Row|53.340927|-6.262501|\n",
      "|         1|2018-10-01 00:35:03|2018-10-01 00:33:11|CLARENDON ROW|         31|                   31|              0|  Open|Clarendon Row|53.340927|-6.262501|\n",
      "|         1|2018-10-01 00:40:02|2018-10-01 00:33:11|CLARENDON ROW|         31|                   31|              0|  Open|Clarendon Row|53.340927|-6.262501|\n",
      "|         1|2018-10-01 00:45:02|2018-10-01 00:43:20|CLARENDON ROW|         31|                   31|              0|  Open|Clarendon Row|53.340927|-6.262501|\n",
      "|         1|2018-10-01 00:50:02|2018-10-01 00:43:20|CLARENDON ROW|         31|                   31|              0|  Open|Clarendon Row|53.340927|-6.262501|\n",
      "|         1|2018-10-01 00:55:02|2018-10-01 00:53:29|CLARENDON ROW|         31|                   31|              0|  Open|Clarendon Row|53.340927|-6.262501|\n",
      "|         1|2018-10-01 01:00:01|2018-10-01 00:53:29|CLARENDON ROW|         31|                   31|              0|  Open|Clarendon Row|53.340927|-6.262501|\n",
      "|         1|2018-10-01 01:05:02|2018-10-01 01:03:39|CLARENDON ROW|         31|                   31|              0|  Open|Clarendon Row|53.340927|-6.262501|\n",
      "|         1|2018-10-01 01:10:03|2018-10-01 01:03:39|CLARENDON ROW|         31|                   31|              0|  Open|Clarendon Row|53.340927|-6.262501|\n",
      "|         1|2018-10-01 01:15:03|2018-10-01 01:13:48|CLARENDON ROW|         31|                   31|              0|  Open|Clarendon Row|53.340927|-6.262501|\n",
      "|         1|2018-10-01 01:20:03|2018-10-01 01:13:48|CLARENDON ROW|         31|                   31|              0|  Open|Clarendon Row|53.340927|-6.262501|\n",
      "|         1|2018-10-01 01:25:03|2018-10-01 01:23:57|CLARENDON ROW|         31|                   31|              0|  Open|Clarendon Row|53.340927|-6.262501|\n",
      "|         1|2018-10-01 01:30:03|2018-10-01 01:23:57|CLARENDON ROW|         31|                   31|              0|  Open|Clarendon Row|53.340927|-6.262501|\n",
      "|         1|2018-10-01 01:35:03|2018-10-01 01:33:45|CLARENDON ROW|         31|                   31|              0|  Open|Clarendon Row|53.340927|-6.262501|\n",
      "+----------+-------------------+-------------------+-------------+-----------+---------------------+---------------+------+-------------+---------+---------+\n"
     ]
    }
   ],
   "source": [
    "new_result.show()"
   ],
   "metadata": {
    "collapsed": false,
    "ExecuteTime": {
     "end_time": "2023-12-12T20:49:16.841093800Z",
     "start_time": "2023-12-12T20:49:16.660050700Z"
    }
   },
   "id": "13234ba86502bc76"
  },
  {
   "cell_type": "code",
   "execution_count": 26,
   "outputs": [
    {
     "ename": "AnalysisException",
     "evalue": "[PATH_NOT_FOUND] Path does not exist: file:/home/freeku/Python/Pyspark/pyspark/appl_stock.csv.",
     "output_type": "error",
     "traceback": [
      "\u001B[0;31m---------------------------------------------------------------------------\u001B[0m",
      "\u001B[0;31mAnalysisException\u001B[0m                         Traceback (most recent call last)",
      "Cell \u001B[0;32mIn[26], line 1\u001B[0m\n\u001B[0;32m----> 1\u001B[0m df_2 \u001B[38;5;241m=\u001B[39m \u001B[43mspark\u001B[49m\u001B[38;5;241;43m.\u001B[39;49m\u001B[43mread\u001B[49m\u001B[38;5;241;43m.\u001B[39;49m\u001B[43mcsv\u001B[49m\u001B[43m(\u001B[49m\u001B[38;5;124;43m'\u001B[39;49m\u001B[38;5;124;43mappl_stock.csv\u001B[39;49m\u001B[38;5;124;43m'\u001B[39;49m\u001B[43m)\u001B[49m\n",
      "File \u001B[0;32m~/Python/Pyspark/pyspark/venv/lib/python3.10/site-packages/pyspark/sql/readwriter.py:740\u001B[0m, in \u001B[0;36mDataFrameReader.csv\u001B[0;34m(self, path, schema, sep, encoding, quote, escape, comment, header, inferSchema, ignoreLeadingWhiteSpace, ignoreTrailingWhiteSpace, nullValue, nanValue, positiveInf, negativeInf, dateFormat, timestampFormat, maxColumns, maxCharsPerColumn, maxMalformedLogPerPartition, mode, columnNameOfCorruptRecord, multiLine, charToEscapeQuoteEscaping, samplingRatio, enforceSchema, emptyValue, locale, lineSep, pathGlobFilter, recursiveFileLookup, modifiedBefore, modifiedAfter, unescapedQuoteHandling)\u001B[0m\n\u001B[1;32m    738\u001B[0m \u001B[38;5;28;01mif\u001B[39;00m \u001B[38;5;28mtype\u001B[39m(path) \u001B[38;5;241m==\u001B[39m \u001B[38;5;28mlist\u001B[39m:\n\u001B[1;32m    739\u001B[0m     \u001B[38;5;28;01massert\u001B[39;00m \u001B[38;5;28mself\u001B[39m\u001B[38;5;241m.\u001B[39m_spark\u001B[38;5;241m.\u001B[39m_sc\u001B[38;5;241m.\u001B[39m_jvm \u001B[38;5;129;01mis\u001B[39;00m \u001B[38;5;129;01mnot\u001B[39;00m \u001B[38;5;28;01mNone\u001B[39;00m\n\u001B[0;32m--> 740\u001B[0m     \u001B[38;5;28;01mreturn\u001B[39;00m \u001B[38;5;28mself\u001B[39m\u001B[38;5;241m.\u001B[39m_df(\u001B[38;5;28;43mself\u001B[39;49m\u001B[38;5;241;43m.\u001B[39;49m\u001B[43m_jreader\u001B[49m\u001B[38;5;241;43m.\u001B[39;49m\u001B[43mcsv\u001B[49m\u001B[43m(\u001B[49m\u001B[38;5;28;43mself\u001B[39;49m\u001B[38;5;241;43m.\u001B[39;49m\u001B[43m_spark\u001B[49m\u001B[38;5;241;43m.\u001B[39;49m\u001B[43m_sc\u001B[49m\u001B[38;5;241;43m.\u001B[39;49m\u001B[43m_jvm\u001B[49m\u001B[38;5;241;43m.\u001B[39;49m\u001B[43mPythonUtils\u001B[49m\u001B[38;5;241;43m.\u001B[39;49m\u001B[43mtoSeq\u001B[49m\u001B[43m(\u001B[49m\u001B[43mpath\u001B[49m\u001B[43m)\u001B[49m\u001B[43m)\u001B[49m)\n\u001B[1;32m    741\u001B[0m \u001B[38;5;28;01melif\u001B[39;00m \u001B[38;5;28misinstance\u001B[39m(path, RDD):\n\u001B[1;32m    743\u001B[0m     \u001B[38;5;28;01mdef\u001B[39;00m \u001B[38;5;21mfunc\u001B[39m(iterator):\n",
      "File \u001B[0;32m~/Python/Pyspark/pyspark/venv/lib/python3.10/site-packages/py4j/java_gateway.py:1322\u001B[0m, in \u001B[0;36mJavaMember.__call__\u001B[0;34m(self, *args)\u001B[0m\n\u001B[1;32m   1316\u001B[0m command \u001B[38;5;241m=\u001B[39m proto\u001B[38;5;241m.\u001B[39mCALL_COMMAND_NAME \u001B[38;5;241m+\u001B[39m\\\n\u001B[1;32m   1317\u001B[0m     \u001B[38;5;28mself\u001B[39m\u001B[38;5;241m.\u001B[39mcommand_header \u001B[38;5;241m+\u001B[39m\\\n\u001B[1;32m   1318\u001B[0m     args_command \u001B[38;5;241m+\u001B[39m\\\n\u001B[1;32m   1319\u001B[0m     proto\u001B[38;5;241m.\u001B[39mEND_COMMAND_PART\n\u001B[1;32m   1321\u001B[0m answer \u001B[38;5;241m=\u001B[39m \u001B[38;5;28mself\u001B[39m\u001B[38;5;241m.\u001B[39mgateway_client\u001B[38;5;241m.\u001B[39msend_command(command)\n\u001B[0;32m-> 1322\u001B[0m return_value \u001B[38;5;241m=\u001B[39m \u001B[43mget_return_value\u001B[49m\u001B[43m(\u001B[49m\n\u001B[1;32m   1323\u001B[0m \u001B[43m    \u001B[49m\u001B[43manswer\u001B[49m\u001B[43m,\u001B[49m\u001B[43m \u001B[49m\u001B[38;5;28;43mself\u001B[39;49m\u001B[38;5;241;43m.\u001B[39;49m\u001B[43mgateway_client\u001B[49m\u001B[43m,\u001B[49m\u001B[43m \u001B[49m\u001B[38;5;28;43mself\u001B[39;49m\u001B[38;5;241;43m.\u001B[39;49m\u001B[43mtarget_id\u001B[49m\u001B[43m,\u001B[49m\u001B[43m \u001B[49m\u001B[38;5;28;43mself\u001B[39;49m\u001B[38;5;241;43m.\u001B[39;49m\u001B[43mname\u001B[49m\u001B[43m)\u001B[49m\n\u001B[1;32m   1325\u001B[0m \u001B[38;5;28;01mfor\u001B[39;00m temp_arg \u001B[38;5;129;01min\u001B[39;00m temp_args:\n\u001B[1;32m   1326\u001B[0m     \u001B[38;5;28;01mif\u001B[39;00m \u001B[38;5;28mhasattr\u001B[39m(temp_arg, \u001B[38;5;124m\"\u001B[39m\u001B[38;5;124m_detach\u001B[39m\u001B[38;5;124m\"\u001B[39m):\n",
      "File \u001B[0;32m~/Python/Pyspark/pyspark/venv/lib/python3.10/site-packages/pyspark/errors/exceptions/captured.py:185\u001B[0m, in \u001B[0;36mcapture_sql_exception.<locals>.deco\u001B[0;34m(*a, **kw)\u001B[0m\n\u001B[1;32m    181\u001B[0m converted \u001B[38;5;241m=\u001B[39m convert_exception(e\u001B[38;5;241m.\u001B[39mjava_exception)\n\u001B[1;32m    182\u001B[0m \u001B[38;5;28;01mif\u001B[39;00m \u001B[38;5;129;01mnot\u001B[39;00m \u001B[38;5;28misinstance\u001B[39m(converted, UnknownException):\n\u001B[1;32m    183\u001B[0m     \u001B[38;5;66;03m# Hide where the exception came from that shows a non-Pythonic\u001B[39;00m\n\u001B[1;32m    184\u001B[0m     \u001B[38;5;66;03m# JVM exception message.\u001B[39;00m\n\u001B[0;32m--> 185\u001B[0m     \u001B[38;5;28;01mraise\u001B[39;00m converted \u001B[38;5;28;01mfrom\u001B[39;00m \u001B[38;5;28;01mNone\u001B[39;00m\n\u001B[1;32m    186\u001B[0m \u001B[38;5;28;01melse\u001B[39;00m:\n\u001B[1;32m    187\u001B[0m     \u001B[38;5;28;01mraise\u001B[39;00m\n",
      "\u001B[0;31mAnalysisException\u001B[0m: [PATH_NOT_FOUND] Path does not exist: file:/home/freeku/Python/Pyspark/pyspark/appl_stock.csv."
     ]
    }
   ],
   "source": [],
   "metadata": {
    "collapsed": false,
    "ExecuteTime": {
     "end_time": "2023-12-12T20:56:20.219966Z",
     "start_time": "2023-12-12T20:56:20.094099Z"
    }
   },
   "id": "7d6a7779a37efb20"
  },
  {
   "cell_type": "code",
   "execution_count": null,
   "outputs": [],
   "source": [],
   "metadata": {
    "collapsed": false
   },
   "id": "eeb67816e3ac4146"
  }
 ],
 "metadata": {
  "kernelspec": {
   "display_name": "Python 3",
   "language": "python",
   "name": "python3"
  },
  "language_info": {
   "codemirror_mode": {
    "name": "ipython",
    "version": 2
   },
   "file_extension": ".py",
   "mimetype": "text/x-python",
   "name": "python",
   "nbconvert_exporter": "python",
   "pygments_lexer": "ipython2",
   "version": "2.7.6"
  }
 },
 "nbformat": 4,
 "nbformat_minor": 5
}
