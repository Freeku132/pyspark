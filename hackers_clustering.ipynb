{
 "cells": [
  {
   "cell_type": "code",
   "execution_count": 6,
   "id": "initial_id",
   "metadata": {
    "collapsed": true,
    "ExecuteTime": {
     "end_time": "2024-01-20T21:20:56.871771200Z",
     "start_time": "2024-01-20T21:20:56.771772600Z"
    }
   },
   "outputs": [],
   "source": [
    "from pyspark.sql import SparkSession\n",
    "from pyspark.ml.clustering import KMeans\n",
    "from pyspark.ml.feature import VectorAssembler\n",
    "from pyspark.ml.feature import StandardScaler\n",
    "from pyspark.ml.feature import StringIndexer\n"
   ]
  },
  {
   "cell_type": "code",
   "outputs": [
    {
     "name": "stderr",
     "output_type": "stream",
     "text": [
      "24/01/20 22:18:14 WARN Utils: Your hostname, DESKTOP-0HJMRJF resolves to a loopback address: 127.0.1.1; using 172.20.13.164 instead (on interface eth0)\n",
      "24/01/20 22:18:14 WARN Utils: Set SPARK_LOCAL_IP if you need to bind to another address\n",
      "Setting default log level to \"WARN\".\n",
      "To adjust logging level use sc.setLogLevel(newLevel). For SparkR, use setLogLevel(newLevel).\n",
      "24/01/20 22:18:16 WARN NativeCodeLoader: Unable to load native-hadoop library for your platform... using builtin-java classes where applicable\n",
      "24/01/20 22:18:16 WARN Utils: Service 'SparkUI' could not bind on port 4040. Attempting port 4041.\n"
     ]
    }
   ],
   "source": [
    "spark = SparkSession.builder.appName(\"hackers\").getOrCreate()"
   ],
   "metadata": {
    "collapsed": false,
    "ExecuteTime": {
     "end_time": "2024-01-20T21:18:17.614934500Z",
     "start_time": "2024-01-20T21:18:12.120160100Z"
    }
   },
   "id": "b5c8a110ed06e0a8",
   "execution_count": 2
  },
  {
   "cell_type": "code",
   "outputs": [],
   "source": [
    "dataset = spark.read.csv('./data/ML/clustering/hack_data.csv', inferSchema=True, header=True)"
   ],
   "metadata": {
    "collapsed": false,
    "ExecuteTime": {
     "end_time": "2024-01-20T21:19:02.451035500Z",
     "start_time": "2024-01-20T21:18:57.404366500Z"
    }
   },
   "id": "bbf765b675f47c9b",
   "execution_count": 3
  },
  {
   "cell_type": "code",
   "outputs": [
    {
     "name": "stdout",
     "output_type": "stream",
     "text": [
      "+-----------------------+-----------------+---------------+-----------------+---------------+--------------------+----------------+\n",
      "|Session_Connection_Time|Bytes Transferred|Kali_Trace_Used|Servers_Corrupted|Pages_Corrupted|            Location|WPM_Typing_Speed|\n",
      "+-----------------------+-----------------+---------------+-----------------+---------------+--------------------+----------------+\n",
      "|                    8.0|           391.09|              1|             2.96|            7.0|            Slovenia|           72.37|\n",
      "|                   20.0|           720.99|              0|             3.04|            9.0|British Virgin Is...|           69.08|\n",
      "|                   31.0|           356.32|              1|             3.71|            8.0|             Tokelau|           70.58|\n",
      "|                    2.0|           228.08|              1|             2.48|            8.0|             Bolivia|            70.8|\n",
      "|                   20.0|            408.5|              0|             3.57|            8.0|                Iraq|           71.28|\n",
      "|                    1.0|           390.69|              1|             2.79|            9.0|    Marshall Islands|           71.57|\n",
      "|                   18.0|           342.97|              1|              5.1|            7.0|             Georgia|           72.32|\n",
      "|                   22.0|           101.61|              1|             3.03|            7.0|         Timor-Leste|           72.03|\n",
      "|                   15.0|           275.53|              1|             3.53|            8.0|Palestinian Terri...|           70.17|\n",
      "|                   12.0|           424.83|              1|             2.53|            8.0|          Bangladesh|           69.99|\n",
      "|                   15.0|           249.09|              1|             3.39|            9.0|Northern Mariana ...|           70.77|\n",
      "|                   32.0|           242.48|              0|             4.24|            8.0|            Zimbabwe|           67.93|\n",
      "|                   23.0|           514.54|              0|             3.18|            8.0|         Isle of Man|           68.56|\n",
      "|                    9.0|           284.77|              0|             3.12|            9.0|Sao Tome and Prin...|           70.82|\n",
      "|                   27.0|           779.25|              1|             2.37|            8.0|              Greece|           72.73|\n",
      "|                   12.0|           307.31|              1|             3.22|            7.0|     Solomon Islands|           67.95|\n",
      "|                   21.0|           355.94|              1|              2.0|            7.0|       Guinea-Bissau|            72.0|\n",
      "|                   10.0|           372.65|              0|             3.33|            7.0|        Burkina Faso|           69.19|\n",
      "|                   20.0|           347.23|              1|             2.33|            7.0|            Mongolia|           70.41|\n",
      "|                   22.0|           456.57|              0|             1.52|            8.0|             Nigeria|           69.35|\n",
      "+-----------------------+-----------------+---------------+-----------------+---------------+--------------------+----------------+\n"
     ]
    }
   ],
   "source": [
    "dataset.show()"
   ],
   "metadata": {
    "collapsed": false,
    "ExecuteTime": {
     "end_time": "2024-01-20T21:19:02.700793500Z",
     "start_time": "2024-01-20T21:19:02.453038100Z"
    }
   },
   "id": "50245df907f1de03",
   "execution_count": 4
  },
  {
   "cell_type": "code",
   "outputs": [
    {
     "name": "stdout",
     "output_type": "stream",
     "text": [
      "root\n",
      " |-- Session_Connection_Time: double (nullable = true)\n",
      " |-- Bytes Transferred: double (nullable = true)\n",
      " |-- Kali_Trace_Used: integer (nullable = true)\n",
      " |-- Servers_Corrupted: double (nullable = true)\n",
      " |-- Pages_Corrupted: double (nullable = true)\n",
      " |-- Location: string (nullable = true)\n",
      " |-- WPM_Typing_Speed: double (nullable = true)\n"
     ]
    }
   ],
   "source": [
    "dataset.printSchema()"
   ],
   "metadata": {
    "collapsed": false,
    "ExecuteTime": {
     "end_time": "2024-01-20T21:19:09.111954Z",
     "start_time": "2024-01-20T21:19:09.022843300Z"
    }
   },
   "id": "1d2f18b171986cbe",
   "execution_count": 5
  },
  {
   "cell_type": "code",
   "outputs": [],
   "source": [
    "indexer = StringIndexer(inputCol=\"Location\", outputCol=\"Location_index\")"
   ],
   "metadata": {
    "collapsed": false,
    "ExecuteTime": {
     "end_time": "2024-01-20T21:21:16.163275700Z",
     "start_time": "2024-01-20T21:21:16.139273500Z"
    }
   },
   "id": "2febc5a144d03390",
   "execution_count": 7
  },
  {
   "cell_type": "code",
   "outputs": [],
   "source": [
    "df_encoded = indexer.fit(dataset).transform(dataset)"
   ],
   "metadata": {
    "collapsed": false,
    "ExecuteTime": {
     "end_time": "2024-01-20T21:21:35.282938300Z",
     "start_time": "2024-01-20T21:21:34.259748300Z"
    }
   },
   "id": "29278d6c40b83fda",
   "execution_count": 8
  },
  {
   "cell_type": "code",
   "outputs": [
    {
     "name": "stdout",
     "output_type": "stream",
     "text": [
      "+-----------------------+-----------------+---------------+-----------------+---------------+--------------------+----------------+--------------+\n",
      "|Session_Connection_Time|Bytes Transferred|Kali_Trace_Used|Servers_Corrupted|Pages_Corrupted|            Location|WPM_Typing_Speed|Location_index|\n",
      "+-----------------------+-----------------+---------------+-----------------+---------------+--------------------+----------------+--------------+\n",
      "|                    8.0|           391.09|              1|             2.96|            7.0|            Slovenia|           72.37|          88.0|\n",
      "|                   20.0|           720.99|              0|             3.04|            9.0|British Virgin Is...|           69.08|          47.0|\n",
      "|                   31.0|           356.32|              1|             3.71|            8.0|             Tokelau|           70.58|          92.0|\n",
      "|                    2.0|           228.08|              1|             2.48|            8.0|             Bolivia|            70.8|         104.0|\n",
      "|                   20.0|            408.5|              0|             3.57|            8.0|                Iraq|           71.28|          24.0|\n",
      "|                    1.0|           390.69|              1|             2.79|            9.0|    Marshall Islands|           71.57|         139.0|\n",
      "|                   18.0|           342.97|              1|              5.1|            7.0|             Georgia|           72.32|          60.0|\n",
      "|                   22.0|           101.61|              1|             3.03|            7.0|         Timor-Leste|           72.03|          91.0|\n",
      "|                   15.0|           275.53|              1|             3.53|            8.0|Palestinian Terri...|           70.17|           7.0|\n",
      "|                   12.0|           424.83|              1|             2.53|            8.0|          Bangladesh|           69.99|          40.0|\n",
      "|                   15.0|           249.09|              1|             3.39|            9.0|Northern Mariana ...|           70.77|          27.0|\n",
      "|                   32.0|           242.48|              0|             4.24|            8.0|            Zimbabwe|           67.93|          36.0|\n",
      "|                   23.0|           514.54|              0|             3.18|            8.0|         Isle of Man|           68.56|          25.0|\n",
      "|                    9.0|           284.77|              0|             3.12|            9.0|Sao Tome and Prin...|           70.82|          86.0|\n",
      "|                   27.0|           779.25|              1|             2.37|            8.0|              Greece|           72.73|          21.0|\n",
      "|                   12.0|           307.31|              1|             3.22|            7.0|     Solomon Islands|           67.95|         165.0|\n",
      "|                   21.0|           355.94|              1|              2.0|            7.0|       Guinea-Bissau|            72.0|           2.0|\n",
      "|                   10.0|           372.65|              0|             3.33|            7.0|        Burkina Faso|           69.19|          17.0|\n",
      "|                   20.0|           347.23|              1|             2.33|            7.0|            Mongolia|           70.41|          77.0|\n",
      "|                   22.0|           456.57|              0|             1.52|            8.0|             Nigeria|           69.35|         150.0|\n",
      "+-----------------------+-----------------+---------------+-----------------+---------------+--------------------+----------------+--------------+\n"
     ]
    }
   ],
   "source": [
    "df_encoded.show()"
   ],
   "metadata": {
    "collapsed": false,
    "ExecuteTime": {
     "end_time": "2024-01-20T21:21:39.848802900Z",
     "start_time": "2024-01-20T21:21:39.642268800Z"
    }
   },
   "id": "120f8aadc2284061",
   "execution_count": 9
  },
  {
   "cell_type": "code",
   "outputs": [
    {
     "data": {
      "text/plain": "['Session_Connection_Time',\n 'Bytes Transferred',\n 'Kali_Trace_Used',\n 'Servers_Corrupted',\n 'Pages_Corrupted',\n 'Location',\n 'WPM_Typing_Speed',\n 'Location_index']"
     },
     "execution_count": 11,
     "metadata": {},
     "output_type": "execute_result"
    }
   ],
   "source": [
    "df_encoded.columns"
   ],
   "metadata": {
    "collapsed": false,
    "ExecuteTime": {
     "end_time": "2024-01-20T21:22:22.308595500Z",
     "start_time": "2024-01-20T21:22:22.234597200Z"
    }
   },
   "id": "22b9ffa1c63be292",
   "execution_count": 11
  },
  {
   "cell_type": "code",
   "outputs": [],
   "source": [
    "assembler = VectorAssembler(inputCols=['Session_Connection_Time',\n",
    " 'Bytes Transferred',\n",
    " 'Kali_Trace_Used',\n",
    " 'Servers_Corrupted',\n",
    " 'Pages_Corrupted',\n",
    " 'WPM_Typing_Speed',\n",
    " 'Location_index'], outputCol='features')"
   ],
   "metadata": {
    "collapsed": false,
    "ExecuteTime": {
     "end_time": "2024-01-20T21:22:47.061002100Z",
     "start_time": "2024-01-20T21:22:47.049002100Z"
    }
   },
   "id": "d616036d3a6c49b6",
   "execution_count": 12
  },
  {
   "cell_type": "code",
   "outputs": [],
   "source": [
    "final_data = assembler.transform(df_encoded)"
   ],
   "metadata": {
    "collapsed": false,
    "ExecuteTime": {
     "end_time": "2024-01-20T21:22:58.004480100Z",
     "start_time": "2024-01-20T21:22:57.897469500Z"
    }
   },
   "id": "5137833e2824feec",
   "execution_count": 13
  },
  {
   "cell_type": "code",
   "outputs": [
    {
     "name": "stdout",
     "output_type": "stream",
     "text": [
      "+-----------------------+-----------------+---------------+-----------------+---------------+--------------------+----------------+--------------+--------------------+\n",
      "|Session_Connection_Time|Bytes Transferred|Kali_Trace_Used|Servers_Corrupted|Pages_Corrupted|            Location|WPM_Typing_Speed|Location_index|            features|\n",
      "+-----------------------+-----------------+---------------+-----------------+---------------+--------------------+----------------+--------------+--------------------+\n",
      "|                    8.0|           391.09|              1|             2.96|            7.0|            Slovenia|           72.37|          88.0|[8.0,391.09,1.0,2...|\n",
      "|                   20.0|           720.99|              0|             3.04|            9.0|British Virgin Is...|           69.08|          47.0|[20.0,720.99,0.0,...|\n",
      "|                   31.0|           356.32|              1|             3.71|            8.0|             Tokelau|           70.58|          92.0|[31.0,356.32,1.0,...|\n",
      "|                    2.0|           228.08|              1|             2.48|            8.0|             Bolivia|            70.8|         104.0|[2.0,228.08,1.0,2...|\n",
      "|                   20.0|            408.5|              0|             3.57|            8.0|                Iraq|           71.28|          24.0|[20.0,408.5,0.0,3...|\n",
      "|                    1.0|           390.69|              1|             2.79|            9.0|    Marshall Islands|           71.57|         139.0|[1.0,390.69,1.0,2...|\n",
      "|                   18.0|           342.97|              1|              5.1|            7.0|             Georgia|           72.32|          60.0|[18.0,342.97,1.0,...|\n",
      "|                   22.0|           101.61|              1|             3.03|            7.0|         Timor-Leste|           72.03|          91.0|[22.0,101.61,1.0,...|\n",
      "|                   15.0|           275.53|              1|             3.53|            8.0|Palestinian Terri...|           70.17|           7.0|[15.0,275.53,1.0,...|\n",
      "|                   12.0|           424.83|              1|             2.53|            8.0|          Bangladesh|           69.99|          40.0|[12.0,424.83,1.0,...|\n",
      "|                   15.0|           249.09|              1|             3.39|            9.0|Northern Mariana ...|           70.77|          27.0|[15.0,249.09,1.0,...|\n",
      "|                   32.0|           242.48|              0|             4.24|            8.0|            Zimbabwe|           67.93|          36.0|[32.0,242.48,0.0,...|\n",
      "|                   23.0|           514.54|              0|             3.18|            8.0|         Isle of Man|           68.56|          25.0|[23.0,514.54,0.0,...|\n",
      "|                    9.0|           284.77|              0|             3.12|            9.0|Sao Tome and Prin...|           70.82|          86.0|[9.0,284.77,0.0,3...|\n",
      "|                   27.0|           779.25|              1|             2.37|            8.0|              Greece|           72.73|          21.0|[27.0,779.25,1.0,...|\n",
      "|                   12.0|           307.31|              1|             3.22|            7.0|     Solomon Islands|           67.95|         165.0|[12.0,307.31,1.0,...|\n",
      "|                   21.0|           355.94|              1|              2.0|            7.0|       Guinea-Bissau|            72.0|           2.0|[21.0,355.94,1.0,...|\n",
      "|                   10.0|           372.65|              0|             3.33|            7.0|        Burkina Faso|           69.19|          17.0|[10.0,372.65,0.0,...|\n",
      "|                   20.0|           347.23|              1|             2.33|            7.0|            Mongolia|           70.41|          77.0|[20.0,347.23,1.0,...|\n",
      "|                   22.0|           456.57|              0|             1.52|            8.0|             Nigeria|           69.35|         150.0|[22.0,456.57,0.0,...|\n",
      "+-----------------------+-----------------+---------------+-----------------+---------------+--------------------+----------------+--------------+--------------------+\n"
     ]
    }
   ],
   "source": [
    "final_data.show()"
   ],
   "metadata": {
    "collapsed": false,
    "ExecuteTime": {
     "end_time": "2024-01-20T21:23:00.584804300Z",
     "start_time": "2024-01-20T21:23:00.325481900Z"
    }
   },
   "id": "2a72f3380ad6179a",
   "execution_count": 14
  },
  {
   "cell_type": "code",
   "outputs": [],
   "source": [
    "scaler = StandardScaler(inputCol='features', outputCol='scaled_features')"
   ],
   "metadata": {
    "collapsed": false,
    "ExecuteTime": {
     "end_time": "2024-01-20T21:23:40.221352900Z",
     "start_time": "2024-01-20T21:23:40.202448100Z"
    }
   },
   "id": "db633f0771862ab7",
   "execution_count": 17
  },
  {
   "cell_type": "code",
   "outputs": [],
   "source": [
    "scaler_model = scaler.fit(final_data)"
   ],
   "metadata": {
    "collapsed": false,
    "ExecuteTime": {
     "end_time": "2024-01-20T21:23:49.744783600Z",
     "start_time": "2024-01-20T21:23:49.458032500Z"
    }
   },
   "id": "15e24ed50947404d",
   "execution_count": 18
  },
  {
   "cell_type": "code",
   "outputs": [],
   "source": [
    "final_data = scaler_model.transform(final_data)"
   ],
   "metadata": {
    "collapsed": false,
    "ExecuteTime": {
     "end_time": "2024-01-20T21:23:55.091378200Z",
     "start_time": "2024-01-20T21:23:55.061379200Z"
    }
   },
   "id": "f7d63bc196579201",
   "execution_count": 19
  },
  {
   "cell_type": "code",
   "outputs": [
    {
     "name": "stdout",
     "output_type": "stream",
     "text": [
      "+-----------------------+-----------------+---------------+-----------------+---------------+--------------------+----------------+--------------+--------------------+--------------------+\n",
      "|Session_Connection_Time|Bytes Transferred|Kali_Trace_Used|Servers_Corrupted|Pages_Corrupted|            Location|WPM_Typing_Speed|Location_index|            features|     scaled_features|\n",
      "+-----------------------+-----------------+---------------+-----------------+---------------+--------------------+----------------+--------------+--------------------+--------------------+\n",
      "|                    8.0|           391.09|              1|             2.96|            7.0|            Slovenia|           72.37|          88.0|[8.0,391.09,1.0,2...|[0.56785108466505...|\n",
      "|                   20.0|           720.99|              0|             3.04|            9.0|British Virgin Is...|           69.08|          47.0|[20.0,720.99,0.0,...|[1.41962771166263...|\n",
      "|                   31.0|           356.32|              1|             3.71|            8.0|             Tokelau|           70.58|          92.0|[31.0,356.32,1.0,...|[2.20042295307707...|\n",
      "|                    2.0|           228.08|              1|             2.48|            8.0|             Bolivia|            70.8|         104.0|[2.0,228.08,1.0,2...|[0.14196277116626...|\n",
      "|                   20.0|            408.5|              0|             3.57|            8.0|                Iraq|           71.28|          24.0|[20.0,408.5,0.0,3...|[1.41962771166263...|\n",
      "|                    1.0|           390.69|              1|             2.79|            9.0|    Marshall Islands|           71.57|         139.0|[1.0,390.69,1.0,2...|[0.07098138558313...|\n",
      "|                   18.0|           342.97|              1|              5.1|            7.0|             Georgia|           72.32|          60.0|[18.0,342.97,1.0,...|[1.27766494049636...|\n",
      "|                   22.0|           101.61|              1|             3.03|            7.0|         Timor-Leste|           72.03|          91.0|[22.0,101.61,1.0,...|[1.56159048282889...|\n",
      "|                   15.0|           275.53|              1|             3.53|            8.0|Palestinian Terri...|           70.17|           7.0|[15.0,275.53,1.0,...|[1.06472078374697...|\n",
      "|                   12.0|           424.83|              1|             2.53|            8.0|          Bangladesh|           69.99|          40.0|[12.0,424.83,1.0,...|[0.85177662699757...|\n",
      "|                   15.0|           249.09|              1|             3.39|            9.0|Northern Mariana ...|           70.77|          27.0|[15.0,249.09,1.0,...|[1.06472078374697...|\n",
      "|                   32.0|           242.48|              0|             4.24|            8.0|            Zimbabwe|           67.93|          36.0|[32.0,242.48,0.0,...|[2.27140433866020...|\n",
      "|                   23.0|           514.54|              0|             3.18|            8.0|         Isle of Man|           68.56|          25.0|[23.0,514.54,0.0,...|[1.63257186841202...|\n",
      "|                    9.0|           284.77|              0|             3.12|            9.0|Sao Tome and Prin...|           70.82|          86.0|[9.0,284.77,0.0,3...|[0.63883247024818...|\n",
      "|                   27.0|           779.25|              1|             2.37|            8.0|              Greece|           72.73|          21.0|[27.0,779.25,1.0,...|[1.91649741074455...|\n",
      "|                   12.0|           307.31|              1|             3.22|            7.0|     Solomon Islands|           67.95|         165.0|[12.0,307.31,1.0,...|[0.85177662699757...|\n",
      "|                   21.0|           355.94|              1|              2.0|            7.0|       Guinea-Bissau|            72.0|           2.0|[21.0,355.94,1.0,...|[1.49060909724576...|\n",
      "|                   10.0|           372.65|              0|             3.33|            7.0|        Burkina Faso|           69.19|          17.0|[10.0,372.65,0.0,...|[0.70981385583131...|\n",
      "|                   20.0|           347.23|              1|             2.33|            7.0|            Mongolia|           70.41|          77.0|[20.0,347.23,1.0,...|[1.41962771166263...|\n",
      "|                   22.0|           456.57|              0|             1.52|            8.0|             Nigeria|           69.35|         150.0|[22.0,456.57,0.0,...|[1.56159048282889...|\n",
      "+-----------------------+-----------------+---------------+-----------------+---------------+--------------------+----------------+--------------+--------------------+--------------------+\n"
     ]
    }
   ],
   "source": [
    "final_data.show()"
   ],
   "metadata": {
    "collapsed": false,
    "ExecuteTime": {
     "end_time": "2024-01-20T21:23:58.733514Z",
     "start_time": "2024-01-20T21:23:58.591563500Z"
    }
   },
   "id": "46ba788d9ebbb25",
   "execution_count": 20
  },
  {
   "cell_type": "code",
   "outputs": [],
   "source": [
    "kmeans3 = KMeans(k=3, featuresCol='scaled_features')\n",
    "kmeans2 = KMeans(k=2, featuresCol='scaled_features')"
   ],
   "metadata": {
    "collapsed": false,
    "ExecuteTime": {
     "end_time": "2024-01-20T21:31:54.854227500Z",
     "start_time": "2024-01-20T21:31:54.835228900Z"
    }
   },
   "id": "cf431c3438a2350",
   "execution_count": 36
  },
  {
   "cell_type": "code",
   "outputs": [],
   "source": [
    "model_k3 = kmeans3.fit(final_data)\n",
    "model_k2 = kmeans2.fit(final_data)"
   ],
   "metadata": {
    "collapsed": false,
    "ExecuteTime": {
     "end_time": "2024-01-20T21:31:56.333748300Z",
     "start_time": "2024-01-20T21:31:55.072226200Z"
    }
   },
   "id": "bf2641a82a1ee4",
   "execution_count": 37
  },
  {
   "cell_type": "code",
   "outputs": [
    {
     "data": {
      "text/plain": "766.2453058299543"
     },
     "execution_count": 39,
     "metadata": {},
     "output_type": "execute_result"
    }
   ],
   "source": [
    "model_k3.summary.trainingCost"
   ],
   "metadata": {
    "collapsed": false,
    "ExecuteTime": {
     "end_time": "2024-01-20T21:32:10.135473Z",
     "start_time": "2024-01-20T21:32:10.130473Z"
    }
   },
   "id": "8575673d49f53b0a",
   "execution_count": 39
  },
  {
   "cell_type": "code",
   "outputs": [
    {
     "data": {
      "text/plain": "933.9678527392769"
     },
     "execution_count": 40,
     "metadata": {},
     "output_type": "execute_result"
    }
   ],
   "source": [
    "model_k2.summary.trainingCost"
   ],
   "metadata": {
    "collapsed": false,
    "ExecuteTime": {
     "end_time": "2024-01-20T21:32:10.377209100Z",
     "start_time": "2024-01-20T21:32:10.330210900Z"
    }
   },
   "id": "3bdcc9cd7ab1c16b",
   "execution_count": 40
  },
  {
   "cell_type": "code",
   "outputs": [
    {
     "data": {
      "text/plain": "[array([2.99991988, 2.92319035, 1.05261534, 3.20390443, 4.51321315,\n        3.28474   , 1.22567775]),\n array([1.30217042, 1.25830099, 0.        , 1.35793211, 2.57251009,\n        5.24230473, 1.29928065]),\n array([1.21780112, 1.37901802, 1.99757683, 1.37198977, 2.55237797,\n        5.29152222, 1.34848733])]"
     },
     "execution_count": 44,
     "metadata": {},
     "output_type": "execute_result"
    }
   ],
   "source": [
    "center_k3 = model_k3.clusterCenters()\n",
    "center_k3"
   ],
   "metadata": {
    "collapsed": false,
    "ExecuteTime": {
     "end_time": "2024-01-20T21:32:47.983001600Z",
     "start_time": "2024-01-20T21:32:47.924998100Z"
    }
   },
   "id": "6ca55c7f1bebe579",
   "execution_count": 44
  },
  {
   "cell_type": "code",
   "outputs": [
    {
     "data": {
      "text/plain": "[array([2.99991988, 2.92319035, 1.05261534, 3.20390443, 4.51321315,\n        3.28474   , 1.22567775]),\n array([1.26023837, 1.31829808, 0.99280765, 1.36491885, 2.5625043 ,\n        5.26676612, 1.32373666])]"
     },
     "execution_count": 45,
     "metadata": {},
     "output_type": "execute_result"
    }
   ],
   "source": [
    "center_k2 = model_k2.clusterCenters()\n",
    "center_k2"
   ],
   "metadata": {
    "collapsed": false,
    "ExecuteTime": {
     "end_time": "2024-01-20T21:32:48.183997400Z",
     "start_time": "2024-01-20T21:32:48.126999100Z"
    }
   },
   "id": "cc44e37e506d3d7b",
   "execution_count": 45
  },
  {
   "cell_type": "code",
   "outputs": [],
   "source": [
    "transformed_k3 = model_k3.transform(final_data)"
   ],
   "metadata": {
    "collapsed": false,
    "ExecuteTime": {
     "end_time": "2024-01-20T21:38:03.274888600Z",
     "start_time": "2024-01-20T21:38:03.238222100Z"
    }
   },
   "id": "2869161d58f0cc5",
   "execution_count": 66
  },
  {
   "cell_type": "code",
   "outputs": [],
   "source": [
    "transformed_k2 =model_k2.transform(final_data)"
   ],
   "metadata": {
    "collapsed": false,
    "ExecuteTime": {
     "end_time": "2024-01-20T21:38:03.531312500Z",
     "start_time": "2024-01-20T21:38:03.509316300Z"
    }
   },
   "id": "46dbc7197ff426dd",
   "execution_count": 67
  },
  {
   "cell_type": "code",
   "outputs": [
    {
     "name": "stdout",
     "output_type": "stream",
     "text": [
      "+----------+-----+\n",
      "|prediction|count|\n",
      "+----------+-----+\n",
      "|         1|   84|\n",
      "|         2|   83|\n",
      "|         0|  167|\n",
      "+----------+-----+\n"
     ]
    }
   ],
   "source": [
    "transformed_k3.select('prediction').groupby('prediction').count().show()"
   ],
   "metadata": {
    "collapsed": false,
    "ExecuteTime": {
     "end_time": "2024-01-20T21:38:04.009133300Z",
     "start_time": "2024-01-20T21:38:03.813280100Z"
    }
   },
   "id": "d88ef3ecc37b44ab",
   "execution_count": 68
  },
  {
   "cell_type": "code",
   "outputs": [
    {
     "name": "stdout",
     "output_type": "stream",
     "text": [
      "+----------+-----+\n",
      "|prediction|count|\n",
      "+----------+-----+\n",
      "|         1|  167|\n",
      "|         0|  167|\n",
      "+----------+-----+\n"
     ]
    }
   ],
   "source": [
    "transformed_k2.select('prediction').groupby('prediction').count().show()\n"
   ],
   "metadata": {
    "collapsed": false,
    "ExecuteTime": {
     "end_time": "2024-01-20T21:38:04.447167800Z",
     "start_time": "2024-01-20T21:38:04.247448900Z"
    }
   },
   "id": "350632dc22d9e486",
   "execution_count": 69
  },
  {
   "cell_type": "code",
   "outputs": [],
   "source": [],
   "metadata": {
    "collapsed": false
   },
   "id": "95893f81539b7906"
  }
 ],
 "metadata": {
  "kernelspec": {
   "display_name": "Python 3",
   "language": "python",
   "name": "python3"
  },
  "language_info": {
   "codemirror_mode": {
    "name": "ipython",
    "version": 2
   },
   "file_extension": ".py",
   "mimetype": "text/x-python",
   "name": "python",
   "nbconvert_exporter": "python",
   "pygments_lexer": "ipython2",
   "version": "2.7.6"
  }
 },
 "nbformat": 4,
 "nbformat_minor": 5
}
